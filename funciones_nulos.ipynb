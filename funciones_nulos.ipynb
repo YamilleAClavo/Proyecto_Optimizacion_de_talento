{
 "cells": [
  {
   "cell_type": "code",
   "execution_count": 10,
   "metadata": {},
   "outputs": [],
   "source": [
    "# importamos las librerías que necesitamos\n",
    "\n",
    "# Tratamiento de datos\n",
    "# -----------------------------------------------------------------------\n",
    "import pandas as pd\n",
    "import numpy as np\n",
    "\n",
    "# Imputación de nulos usando métodos avanzados estadísticos\n",
    "# -----------------------------------------------------------------------\n",
    "from sklearn.impute import SimpleImputer\n",
    "from sklearn.experimental import enable_iterative_imputer\n",
    "from sklearn.impute import IterativeImputer\n",
    "from sklearn.impute import KNNImputer\n",
    "\n",
    "# Librerías de visualización\n",
    "# -----------------------------------------------------------------------\n",
    "import seaborn as sns\n",
    "import matplotlib.pyplot as plt\n",
    "# Configuración\n",
    "# -----------------------------------------------------------------------\n",
    "pd.set_option('display.max_columns', None) # para poder visualizar todas las columnas de los DataFrames"
   ]
  },
  {
   "cell_type": "code",
   "execution_count": 11,
   "metadata": {},
   "outputs": [],
   "source": [
    "def cargar_datos(archivo):\n",
    "\n",
    "    # Cargar datos desde CSV\n",
    "    df = pd.read_csv(archivo, index_col=0)\n",
    "    return df\n"
   ]
  },
  {
   "cell_type": "code",
   "execution_count": 12,
   "metadata": {},
   "outputs": [],
   "source": [
    "def variables_categoricas(df):\n",
    "   \n",
    "    # Identificar columnas categóricas con valores nulos\n",
    "    nulos_categoricas = df[df.columns[df.isnull().any()]].select_dtypes(include=\"O\").columns\n",
    "    print(\"Las columnas categóricas que tienen nulos son : \\n\")\n",
    "    print(nulos_categoricas)\n",
    "\n",
    "    # Mostrar los valores de cada columna categórica con nulos\n",
    "    for col in nulos_categoricas:\n",
    "        print(f\"La distribución de las categorías para la columna {col.upper()}\")\n",
    "        display(df[col].value_counts() / df.shape[0])\n",
    "        print(\"........................\")\n",
    "\n",
    "    # Listas de columnas para reemplazar por la moda y por \"Unknown\"\n",
    "    columnas_moda = ['OverTime', 'Department', 'PerformanceRating', 'WorkLifeBalance']\n",
    "    columnas_desconocido = ['BusinessTravel', 'EmployeeNumber' , 'MaritalStatus']\n",
    "\n",
    "    # Reemplazar nulos con la moda \n",
    "    for columna in columnas_moda:\n",
    "        moda = df[columna].mode()[0]  \n",
    "        df[columna] = df[columna].fillna(moda)  \n",
    "\n",
    "    # Reemplazar nulos con \"Unknown\" \n",
    "    for columna in columnas_desconocido:\n",
    "        df[columna] = df[columna].fillna(\"Unknown\")\n",
    "\n",
    "    # Verificar si se han eliminado los nulos\n",
    "    print(\"Después del reemplazo usando 'fillna' quedan los siguientes nulos\")\n",
    "    print(df[columnas_moda + columnas_desconocido].isnull().sum())\n",
    "\n",
    "    return df\n"
   ]
  },
  {
   "cell_type": "code",
   "execution_count": 13,
   "metadata": {},
   "outputs": [],
   "source": [
    "def variables_numericas(df):\n",
    "   \n",
    "    # Identificar columnas numéricas con valores nulos\n",
    "    nulos_numericas = df[df.columns[df.isnull().any()]].select_dtypes(include=np.number).columns\n",
    "    print(\"Las columnas numéricas que tienen nulos son : \\n\")\n",
    "    print(nulos_numericas)\n",
    "\n",
    "    # Mostrar el porcentaje de valores nulos \n",
    "    print(df[nulos_numericas].isnull().sum() / df.shape[0] * 100)\n",
    "\n",
    "    # Visualización de valores atípicos en columnas numéricas\n",
    "    fig, axes = plt.subplots(nrows=2, ncols=3, figsize=(20, 10))\n",
    "    axes = axes.flat\n",
    "    for indice, col in enumerate(nulos_numericas):\n",
    "        sns.boxplot(x=col, data=df, ax=axes[indice])\n",
    "    plt.tight_layout()\n",
    "    fig.delaxes(axes[-1])\n",
    "\n",
    "    # Reemplazar nulos con la media \n",
    "    media = df[[\"DailyRate\", \"HourlyRate\"]].mean()\n",
    "    df[[\"DailyRate\", \"HourlyRate\"]] = df[[\"DailyRate\", \"HourlyRate\"]].fillna(media)\n",
    "\n",
    "    # Verificar si se han eliminado los nulos \n",
    "    print(f\"Después del 'fillna' tenemos {df[['DailyRate', 'HourlyRate']].isnull().sum()} nulos\")\n",
    "\n",
    "    # Copiar el DataFrame \n",
    "    df_copia = df.copy()\n",
    "\n",
    "    # Configurar y aplicar IterativeImputer \n",
    "    imputer_iterative = IterativeImputer(max_iter=20, random_state=42)\n",
    "    imputer_iterative_imputado = imputer_iterative.fit_transform(df_copia[[ \"MonthlyIncome\", \"TotalWorkingYears\"]])\n",
    "\n",
    "    # Asignar los valores imputados de nuevo al DataFrame\n",
    "    df_copia[[\"MonthlyIncome\", \"TotalWorkingYears\"]] = imputer_iterative_imputado\n",
    "\n",
    "    # Verificar si se han eliminado los nulos \n",
    "    print(f\"Después del 'Iterative' tenemos: \\n{df_copia[[ 'MonthlyIncome', 'TotalWorkingYears']].isnull().sum()} nulos\")\n",
    "\n",
    "    # Describir las estadísticas del DataFrame imputado\n",
    "    print(df_copia.describe()[['MonthlyIncome','TotalWorkingYears']])\n",
    "\n",
    "    # Guardar el DataFrame en un archivo CSV\n",
    "    df_copia.to_csv(\"./data/hr_raw_data_nonulls.csv\", index=False)\n",
    "\n",
    "    return df_copia\n"
   ]
  },
  {
   "cell_type": "code",
   "execution_count": 15,
   "metadata": {},
   "outputs": [
    {
     "name": "stdout",
     "output_type": "stream",
     "text": [
      "Las columnas categóricas que tienen nulos son : \n",
      "\n",
      "Index(['BusinessTravel', 'Department', 'EmployeeNumber', 'MaritalStatus',\n",
      "       'OverTime', 'PerformanceRating', 'WorkLifeBalance'],\n",
      "      dtype='object')\n",
      "La distribución de las categorías para la columna BUSINESSTRAVEL\n"
     ]
    },
    {
     "data": {
      "text/plain": [
       "BusinessTravel\n",
       "Travel Rarely        0.363073\n",
       "Travel Frequently    0.102230\n",
       "Non Travel           0.056382\n",
       "Name: count, dtype: float64"
      ]
     },
     "metadata": {},
     "output_type": "display_data"
    },
    {
     "name": "stdout",
     "output_type": "stream",
     "text": [
      "........................\n",
      "La distribución de las categorías para la columna DEPARTMENT\n"
     ]
    },
    {
     "data": {
      "text/plain": [
       "Department\n",
       "Research & Development     0.121437\n",
       "Sales                      0.056382\n",
       "Human Resources            0.009294\n",
       "Name: count, dtype: float64"
      ]
     },
     "metadata": {},
     "output_type": "display_data"
    },
    {
     "name": "stdout",
     "output_type": "stream",
     "text": [
      "........................\n",
      "La distribución de las categorías para la columna EMPLOYEENUMBER\n"
     ]
    },
    {
     "data": {
      "text/plain": [
       "EmployeeNumber\n",
       "495,0    0.001239\n",
       "501,0    0.001239\n",
       "502,0    0.001239\n",
       "507,0    0.001239\n",
       "517,0    0.001239\n",
       "           ...   \n",
       "164,0    0.000620\n",
       "190,0    0.000620\n",
       "194,0    0.000620\n",
       "226,0    0.000620\n",
       "998,0    0.000620\n",
       "Name: count, Length: 1079, dtype: float64"
      ]
     },
     "metadata": {},
     "output_type": "display_data"
    },
    {
     "name": "stdout",
     "output_type": "stream",
     "text": [
      "........................\n",
      "La distribución de las categorías para la columna MARITALSTATUS\n"
     ]
    },
    {
     "data": {
      "text/plain": [
       "MaritalStatus\n",
       "Married     0.271995\n",
       "Single      0.201363\n",
       "Divorced    0.123296\n",
       "Name: count, dtype: float64"
      ]
     },
     "metadata": {},
     "output_type": "display_data"
    },
    {
     "name": "stdout",
     "output_type": "stream",
     "text": [
      "........................\n",
      "La distribución de las categorías para la columna OVERTIME\n"
     ]
    },
    {
     "data": {
      "text/plain": [
       "OverTime\n",
       "No     0.422553\n",
       "Yes    0.158612\n",
       "Name: count, dtype: float64"
      ]
     },
     "metadata": {},
     "output_type": "display_data"
    },
    {
     "name": "stdout",
     "output_type": "stream",
     "text": [
      "........................\n",
      "La distribución de las categorías para la columna PERFORMANCERATING\n"
     ]
    },
    {
     "data": {
      "text/plain": [
       "PerformanceRating\n",
       "3,0    0.746592\n",
       "4,0    0.132590\n",
       "Name: count, dtype: float64"
      ]
     },
     "metadata": {},
     "output_type": "display_data"
    },
    {
     "name": "stdout",
     "output_type": "stream",
     "text": [
      "........................\n",
      "La distribución de las categorías para la columna WORKLIFEBALANCE\n"
     ]
    },
    {
     "data": {
      "text/plain": [
       "WorkLifeBalance\n",
       "3,0    0.565675\n",
       "2,0    0.222429\n",
       "4,0    0.096035\n",
       "1,0    0.048947\n",
       "Name: count, dtype: float64"
      ]
     },
     "metadata": {},
     "output_type": "display_data"
    },
    {
     "name": "stdout",
     "output_type": "stream",
     "text": [
      "........................\n",
      "Después del reemplazo usando 'fillna' quedan los siguientes nulos\n",
      "OverTime             0\n",
      "Department           0\n",
      "PerformanceRating    0\n",
      "WorkLifeBalance      0\n",
      "BusinessTravel       0\n",
      "EmployeeNumber       0\n",
      "MaritalStatus        0\n",
      "dtype: int64\n",
      "Las columnas numéricas que tienen nulos son : \n",
      "\n",
      "Index(['DailyRate', 'HourlyRate', 'MonthlyIncome', 'TotalWorkingYears'], dtype='object')\n",
      "DailyRate             7.682776\n",
      "HourlyRate            5.204461\n",
      "MonthlyIncome        52.230483\n",
      "TotalWorkingYears    32.589839\n",
      "dtype: float64\n",
      "Después del 'fillna' tenemos DailyRate     0\n",
      "HourlyRate    0\n",
      "dtype: int64 nulos\n",
      "Después del 'Iterative' tenemos: \n",
      "MonthlyIncome        0\n",
      "TotalWorkingYears    0\n",
      "dtype: int64 nulos\n",
      "       MonthlyIncome  TotalWorkingYears\n",
      "count    1614.000000        1614.000000\n",
      "mean     6399.663531          11.520610\n",
      "std      3991.855967           7.119934\n",
      "min       593.017428           0.000000\n",
      "25%      3617.152177           7.000000\n",
      "50%      5633.242011          10.000000\n",
      "75%      6908.750000          13.000000\n",
      "max     20753.915760          40.000000\n"
     ]
    },
    {
     "data": {
      "image/png": "[encoded data removed]",
      "text/plain": [
       "<Figure size 2000x1000 with 5 Axes>"
      ]
     },
     "metadata": {},
     "output_type": "display_data"
    }
   ],
   "source": [
    "#Main\n",
    "# Ruta del archivo CSV\n",
    "archivo = \"./data/hr_raw_data_limpio_.csv\"\n",
    "\n",
    "# Cargar los datos desde el archivo CSV\n",
    "df_datos = cargar_datos(archivo)\n",
    "\n",
    "# Imputar valores nulos en variables categóricas\n",
    "df_categoricas = variables_categoricas(df_datos)\n",
    "\n",
    "# Imputar valores nulos en variables numéricas\n",
    "df_final = variables_numericas(df_categoricas)\n"
   ]
  }
 ],
 "metadata": {
  "kernelspec": {
   "display_name": "promoI",
   "language": "python",
   "name": "python3"
  },
  "language_info": {
   "codemirror_mode": {
    "name": "ipython",
    "version": 3
   },
   "file_extension": ".py",
   "mimetype": "text/x-python",
   "name": "python",
   "nbconvert_exporter": "python",
   "pygments_lexer": "ipython3",
   "version": "3.9.19"
  }
 },
 "nbformat": 4,
 "nbformat_minor": 2
}
