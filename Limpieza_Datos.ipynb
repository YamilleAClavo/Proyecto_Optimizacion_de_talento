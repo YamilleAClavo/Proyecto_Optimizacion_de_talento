{
 "cells": [
  {
   "cell_type": "code",
   "execution_count": 207,
   "metadata": {},
   "outputs": [],
   "source": [
    "import warnings\n",
    "warnings.simplefilter(action='ignore', category=FutureWarning) # elimina los errres de que van a cambiar\n",
    "\n",
    "# importamos las librerías que necesitamos\n",
    "# Tratamiento de datos\n",
    "# -----------------------------------------------------------------------\n",
    "import pandas as pd\n",
    "import numpy as np\n",
    "\n",
    "# Imputación de nulos usando métodos avanzados estadísticos\n",
    "# -----------------------------------------------------------------------\n",
    "from sklearn.impute import SimpleImputer\n",
    "from sklearn.experimental import enable_iterative_imputer\n",
    "from sklearn.impute import IterativeImputer\n",
    "from sklearn.impute import KNNImputer\n",
    "\n",
    "# Librerías de visualización\n",
    "# -----------------------------------------------------------------------\n",
    "import seaborn as sns\n",
    "import matplotlib.pyplot as plt\n",
    "# Configuración\n",
    "# -----------------------------------------------------------------------\n",
    "pd.set_option('display.max_columns', None) # para poder visualizar todas las columnas de los DataFrames\n",
    "\n",
    "from word2number import w2n"
   ]
  },
  {
   "cell_type": "code",
   "execution_count": 208,
   "metadata": {},
   "outputs": [],
   "source": [
    "# ! pip install word2number intalar esto e importar\n",
    "# from word2number import w2n "
   ]
  },
  {
   "cell_type": "code",
   "execution_count": 209,
   "metadata": {},
   "outputs": [],
   "source": [
    "import warnings\n",
    "warnings.simplefilter(action='ignore', category=FutureWarning) # elimina los errres de que van a cambiar\n",
    "\n",
    "# importamos las librerías que necesitamos\n",
    "# Tratamiento de datos\n",
    "# -----------------------------------------------------------------------\n",
    "import pandas as pd\n",
    "import numpy as np\n",
    "\n",
    "# Imputación de nulos usando métodos avanzados estadísticos\n",
    "# -----------------------------------------------------------------------\n",
    "from sklearn.impute import SimpleImputer\n",
    "from sklearn.experimental import enable_iterative_imputer\n",
    "from sklearn.impute import IterativeImputer\n",
    "from sklearn.impute import KNNImputer\n",
    "\n",
    "# Librerías de visualización\n",
    "# -----------------------------------------------------------------------\n",
    "import seaborn as sns\n",
    "import matplotlib.pyplot as plt\n",
    "# Configuración\n",
    "# -----------------------------------------------------------------------\n",
    "pd.set_option('display.max_columns', None) # para poder visualizar todas las columnas de los DataFrames\n",
    "\n",
    "from word2number import w2n"
   ]
  },
  {
   "cell_type": "code",
   "execution_count": null,
   "metadata": {},
   "outputs": [],
   "source": [
    "class LimpiarDatos:\n",
    "    def __init__(self):\n",
    "        self.df = pd.read_csv(\"data/HR RAW DATA.csv\", index_col=0)\n",
    "    def cambiar_nombres_columnas (self):\n",
    "        nombres_columnas = {\"employeecount\":\"EmployeeCount\",\n",
    "                     \"employeenumber\" :\"EmployeeNumber\",\n",
    "                     \"NUMCOMPANIESWORKED\" : \"NumCompaniesWorked\",\n",
    "                     \"TOTALWORKINGYEARS\" :\"TotalWorkingYears\",\n",
    "                     \"WORKLIFEBALANCE\" : \"WorkLifeBalance\",\n",
    "                     \"YEARSWITHCURRMANAGER\" : \"YearsWithCurrManager\",\n",
    "                     \"NUMBERCHILDREN\" : \"NumberChildren\"}\n",
    "        self.df.rename(columns=nombres_columnas, inplace=True)\n",
    "    def eliminar_columnas (self):\n",
    "        columnas_eliminar = [\"EmployeeCount\", \"Salary\", \"NumberChildren\", \"SameAsMonthlyIncome\", \"DateBirth\", \"YearsInCurrentRole\", \"Over18\", \"EducationField\", \"StandardHours\", \"RoleDepartament\"]\n",
    "        self.df.drop(columns=columnas_eliminar, inplace=True)\n",
    "    def cambiar_a_numerico (self):\n",
    "        # convertir la edad str en número:\n",
    "        def convertir_edad(value):\n",
    "            try:\n",
    "                return w2n.word_to_num(value)\n",
    "            except ValueError:\n",
    "                return value  # Devolver el valor original si no puede ser convertido\n",
    "        self.df[\"Age\"] = self.df[\"Age\"].apply(convertir_edad)\n",
    "        # quitar simbolo $\n",
    "        self.df[\"DailyRate\"] = self.df[\"DailyRate\"].str.replace(\"$\", \"\")\n",
    "        # Convertir la distancia al trabajo en positivo\n",
    "        self.df[\"DistanceFromHome\"] = self.df[\"DistanceFromHome\"].abs()\n",
    "        # columnas a convertir a numerico\n",
    "        columnas_a_convertir = [\"DailyRate\", \"MonthlyIncome\", \"TotalWorkingYears\", \"Age\", \"HourlyRate\"]\n",
    "        for col in columnas_a_convertir:\n",
    "            if self.df[col].dtype == 'object':\n",
    "                # Verificar si la columna contiene comas antes de intentar reemplazarlas\n",
    "                if self.df[col].str.contains(\",\").any():\n",
    "                    self.df[col] = self.df[col].str.replace(\",\", \".\")\n",
    "            # Convertir la columna a formato numérico\n",
    "                try:\n",
    "                    self.df[col] = pd.to_numeric(self.df[col], errors='coerce')\n",
    "                except:\n",
    "                    self.df[col] = np.nan\n",
    "    def cambiar_a_categorica (self):\n",
    "        # if self.df.select_dtypes(include = \"object\")\n",
    "        # Comprobar las columnas que tiene guion y quitarlo\n",
    "        columnas_guion = [col for col in self.df.select_dtypes(include = \"object\").columns if self.df[col].str.contains('-|_', regex=True).any()]\n",
    "        for col in columnas_guion:\n",
    "            self.df[col] = self.df[col].apply(lambda val: val.replace(\"_\", \" \").replace(\"-\", \" \") if pd.notna(val) else val)\n",
    "        # convertimos los nombres a minusculas y luego ponemos la primera letra en mayusculas\n",
    "        columnas_objetivo = self.df.select_dtypes(include=\"object\").columns\n",
    "        for col in columnas_objetivo:\n",
    "            self.df[col] = self.df[col].str.lower().str.title()\n",
    "        # Quitamos el segundo digito del valor. Deberian de ser valores del 1 al 4 y este patron se repite solo en el primer digito, eliminamos el segundo.\n",
    "        self.df['EnvironmentSatisfaction'] = self.df['EnvironmentSatisfaction'].apply(lambda num: num if num < 10 else num // 10 )\n",
    "        # Poner nombres descriptivos\n",
    "        self.df[\"Education\"].replace(to_replace= [1, 2, 3, 4, 5], value=[\"Primary\", \"Secondary\", \"High School\", \"Bachelor's\", \"Postgraduate\"], inplace=True)\n",
    "        self.df[\"JobLevel\"].replace(to_replace= [1, 2, 3, 4, 5], value=[\"Entry Level\", \"Assistant\", \"Coordinator\", \"Manager\", \"Director\"], inplace=True)\n",
    "        self.df[\"Gender\"].replace(to_replace= [0, 1], value=[\"Male\", \"Female\"], inplace=True)\n",
    "        self.df[\"RemoteWork\"].replace(to_replace= [\"0\", \"1\", \"True\", \"False\"], value=[\"No\", \"Yes\", \"Yes\", \"No\"], inplace=True)\n",
    "        self.df[\"StockOptionLevel\"].replace(to_replace= [0, 1, 2, 3], value=[\"Zero\", \"Low\", \"Medium\", \"High\"], inplace=True)\n",
    "        self.df[\"MaritalStatus\"].replace(to_replace= \"Marreid\", value= \"Married\", inplace=True)\n",
    "        satisfaccion = [\"JobInvolvement\", \"EnvironmentSatisfaction\", \"JobSatisfaction\", \"RelationshipSatisfaction\", \"WorkLifeBalance\"]\n",
    "        for col in satisfaccion:\n",
    "            self.df[col].replace(to_replace= [1, 2, 3, 4], value=[\"Very Low\", \"Low\", \"Medium\", \"High\"], inplace=True)\n",
    "    def guardar_archivo (self):\n",
    "        # Save into a .csv file\n",
    "        self.df.to_csv(\"./data/hr_raw_data_limpio_.csv\")"
   ]
  },
  {
   "cell_type": "code",
   "execution_count": 210,
   "metadata": {},
   "outputs": [],
   "source": [
    "limpieza = LimpiarDatos()\n",
    "limpieza.cambiar_nombres_columnas()\n",
    "limpieza.eliminar_columnas()\n",
    "limpieza.cambiar_a_numerico()\n",
    "limpieza.cambiar_a_categorica()\n",
    "limpieza.guardar_archivo()"
   ]
  },
  {
   "cell_type": "code",
   "execution_count": 211,
   "metadata": {},
   "outputs": [
    {
     "data": {
      "text/plain": [
       "MaritalStatus\n",
       "Married     439\n",
       "Single      325\n",
       "Divorced    199\n",
       "Name: count, dtype: int64"
      ]
     },
     "execution_count": 211,
     "metadata": {},
     "output_type": "execute_result"
    }
   ],
   "source": [
    "limpieza.df[\"MaritalStatus\"].value_counts()"
   ]
  },
  {
   "cell_type": "code",
   "execution_count": 212,
   "metadata": {},
   "outputs": [
    {
     "name": "stdout",
     "output_type": "stream",
     "text": [
      "Index(['Age', 'Attrition', 'BusinessTravel', 'DailyRate', 'Department',\n",
      "       'DistanceFromHome', 'Education', 'EmployeeNumber',\n",
      "       'EnvironmentSatisfaction', 'Gender', 'HourlyRate', 'JobInvolvement',\n",
      "       'JobLevel', 'JobRole', 'JobSatisfaction', 'MaritalStatus',\n",
      "       'MonthlyIncome', 'MonthlyRate', 'NumCompaniesWorked', 'OverTime',\n",
      "       'PercentSalaryHike', 'PerformanceRating', 'RelationshipSatisfaction',\n",
      "       'StockOptionLevel', 'TotalWorkingYears', 'TrainingTimesLastYear',\n",
      "       'WorkLifeBalance', 'YearsAtCompany', 'YearsSinceLastPromotion',\n",
      "       'YearsWithCurrManager', 'RemoteWork'],\n",
      "      dtype='object')\n",
      "Index(['Age', 'Attrition', 'BusinessTravel', 'DailyRate', 'Department',\n",
      "       'DistanceFromHome', 'Education', 'EmployeeNumber',\n",
      "       'EnvironmentSatisfaction', 'Gender', 'HourlyRate', 'JobInvolvement',\n",
      "       'JobLevel', 'JobRole', 'JobSatisfaction', 'MaritalStatus',\n",
      "       'MonthlyIncome', 'MonthlyRate', 'NumCompaniesWorked', 'OverTime',\n",
      "       'PercentSalaryHike', 'PerformanceRating', 'RelationshipSatisfaction',\n",
      "       'StockOptionLevel', 'TotalWorkingYears', 'TrainingTimesLastYear',\n",
      "       'WorkLifeBalance', 'YearsAtCompany', 'YearsSinceLastPromotion',\n",
      "       'YearsWithCurrManager', 'RemoteWork'],\n",
      "      dtype='object')\n"
     ]
    }
   ],
   "source": [
    "print(limpieza.df.columns)\n",
    "\n",
    "print(limpieza.df.columns)"
   ]
  },
  {
   "cell_type": "code",
   "execution_count": 213,
   "metadata": {},
   "outputs": [
    {
     "name": "stdout",
     "output_type": "stream",
     "text": [
      "(1614, 31)\n",
      "(1614, 31)\n"
     ]
    }
   ],
   "source": [
    "print(limpieza.df.shape)\n",
    "\n",
    "print(limpieza.df.shape)"
   ]
  },
  {
   "cell_type": "code",
   "execution_count": 214,
   "metadata": {},
   "outputs": [
    {
     "ename": "KeyError",
     "evalue": "\"['StandardHours'] not in index\"",
     "output_type": "error",
     "traceback": [
      "\u001b[1;31m---------------------------------------------------------------------------\u001b[0m",
      "\u001b[1;31mKeyError\u001b[0m                                  Traceback (most recent call last)",
      "Cell \u001b[1;32mIn[214], line 1\u001b[0m\n\u001b[1;32m----> 1\u001b[0m \u001b[38;5;28mprint\u001b[39m(limpieza\u001b[38;5;241m.\u001b[39mdf[[\u001b[38;5;124m\"\u001b[39m\u001b[38;5;124mDailyRate\u001b[39m\u001b[38;5;124m\"\u001b[39m, \u001b[38;5;124m\"\u001b[39m\u001b[38;5;124mEmployeeNumber\u001b[39m\u001b[38;5;124m\"\u001b[39m, \u001b[38;5;124m\"\u001b[39m\u001b[38;5;124mMonthlyIncome\u001b[39m\u001b[38;5;124m\"\u001b[39m, \u001b[38;5;124m\"\u001b[39m\u001b[38;5;124mTotalWorkingYears\u001b[39m\u001b[38;5;124m\"\u001b[39m, \u001b[38;5;124m\"\u001b[39m\u001b[38;5;124mAge\u001b[39m\u001b[38;5;124m\"\u001b[39m, \u001b[38;5;124m\"\u001b[39m\u001b[38;5;124mHourlyRate\u001b[39m\u001b[38;5;124m\"\u001b[39m, \u001b[38;5;124m\"\u001b[39m\u001b[38;5;124mStandardHours\u001b[39m\u001b[38;5;124m\"\u001b[39m]]\u001b[38;5;241m.\u001b[39minfo())\n\u001b[0;32m      2\u001b[0m \u001b[38;5;28mprint\u001b[39m(limpieza\u001b[38;5;241m.\u001b[39mdf[\u001b[38;5;124m\"\u001b[39m\u001b[38;5;124mHourlyRate\u001b[39m\u001b[38;5;124m\"\u001b[39m]\u001b[38;5;241m.\u001b[39munique())\n\u001b[0;32m      4\u001b[0m \u001b[38;5;28mprint\u001b[39m(limpieza\u001b[38;5;241m.\u001b[39mdf[[\u001b[38;5;124m\"\u001b[39m\u001b[38;5;124mDailyRate\u001b[39m\u001b[38;5;124m\"\u001b[39m, \u001b[38;5;124m\"\u001b[39m\u001b[38;5;124mEmployeeNumber\u001b[39m\u001b[38;5;124m\"\u001b[39m, \u001b[38;5;124m\"\u001b[39m\u001b[38;5;124mMonthlyIncome\u001b[39m\u001b[38;5;124m\"\u001b[39m, \u001b[38;5;124m\"\u001b[39m\u001b[38;5;124mTotalWorkingYears\u001b[39m\u001b[38;5;124m\"\u001b[39m, \u001b[38;5;124m\"\u001b[39m\u001b[38;5;124mAge\u001b[39m\u001b[38;5;124m\"\u001b[39m, \u001b[38;5;124m\"\u001b[39m\u001b[38;5;124mHourlyRate\u001b[39m\u001b[38;5;124m\"\u001b[39m, \u001b[38;5;124m\"\u001b[39m\u001b[38;5;124mStandardHours\u001b[39m\u001b[38;5;124m\"\u001b[39m]]\u001b[38;5;241m.\u001b[39minfo())\n",
      "File \u001b[1;32mc:\\ProgramData\\anaconda3\\Lib\\site-packages\\pandas\\core\\frame.py:3899\u001b[0m, in \u001b[0;36mDataFrame.__getitem__\u001b[1;34m(self, key)\u001b[0m\n\u001b[0;32m   3897\u001b[0m     \u001b[38;5;28;01mif\u001b[39;00m is_iterator(key):\n\u001b[0;32m   3898\u001b[0m         key \u001b[38;5;241m=\u001b[39m \u001b[38;5;28mlist\u001b[39m(key)\n\u001b[1;32m-> 3899\u001b[0m     indexer \u001b[38;5;241m=\u001b[39m \u001b[38;5;28mself\u001b[39m\u001b[38;5;241m.\u001b[39mcolumns\u001b[38;5;241m.\u001b[39m_get_indexer_strict(key, \u001b[38;5;124m\"\u001b[39m\u001b[38;5;124mcolumns\u001b[39m\u001b[38;5;124m\"\u001b[39m)[\u001b[38;5;241m1\u001b[39m]\n\u001b[0;32m   3901\u001b[0m \u001b[38;5;66;03m# take() does not accept boolean indexers\u001b[39;00m\n\u001b[0;32m   3902\u001b[0m \u001b[38;5;28;01mif\u001b[39;00m \u001b[38;5;28mgetattr\u001b[39m(indexer, \u001b[38;5;124m\"\u001b[39m\u001b[38;5;124mdtype\u001b[39m\u001b[38;5;124m\"\u001b[39m, \u001b[38;5;28;01mNone\u001b[39;00m) \u001b[38;5;241m==\u001b[39m \u001b[38;5;28mbool\u001b[39m:\n",
      "File \u001b[1;32mc:\\ProgramData\\anaconda3\\Lib\\site-packages\\pandas\\core\\indexes\\base.py:6115\u001b[0m, in \u001b[0;36mIndex._get_indexer_strict\u001b[1;34m(self, key, axis_name)\u001b[0m\n\u001b[0;32m   6112\u001b[0m \u001b[38;5;28;01melse\u001b[39;00m:\n\u001b[0;32m   6113\u001b[0m     keyarr, indexer, new_indexer \u001b[38;5;241m=\u001b[39m \u001b[38;5;28mself\u001b[39m\u001b[38;5;241m.\u001b[39m_reindex_non_unique(keyarr)\n\u001b[1;32m-> 6115\u001b[0m \u001b[38;5;28mself\u001b[39m\u001b[38;5;241m.\u001b[39m_raise_if_missing(keyarr, indexer, axis_name)\n\u001b[0;32m   6117\u001b[0m keyarr \u001b[38;5;241m=\u001b[39m \u001b[38;5;28mself\u001b[39m\u001b[38;5;241m.\u001b[39mtake(indexer)\n\u001b[0;32m   6118\u001b[0m \u001b[38;5;28;01mif\u001b[39;00m \u001b[38;5;28misinstance\u001b[39m(key, Index):\n\u001b[0;32m   6119\u001b[0m     \u001b[38;5;66;03m# GH 42790 - Preserve name from an Index\u001b[39;00m\n",
      "File \u001b[1;32mc:\\ProgramData\\anaconda3\\Lib\\site-packages\\pandas\\core\\indexes\\base.py:6179\u001b[0m, in \u001b[0;36mIndex._raise_if_missing\u001b[1;34m(self, key, indexer, axis_name)\u001b[0m\n\u001b[0;32m   6176\u001b[0m     \u001b[38;5;28;01mraise\u001b[39;00m \u001b[38;5;167;01mKeyError\u001b[39;00m(\u001b[38;5;124mf\u001b[39m\u001b[38;5;124m\"\u001b[39m\u001b[38;5;124mNone of [\u001b[39m\u001b[38;5;132;01m{\u001b[39;00mkey\u001b[38;5;132;01m}\u001b[39;00m\u001b[38;5;124m] are in the [\u001b[39m\u001b[38;5;132;01m{\u001b[39;00maxis_name\u001b[38;5;132;01m}\u001b[39;00m\u001b[38;5;124m]\u001b[39m\u001b[38;5;124m\"\u001b[39m)\n\u001b[0;32m   6178\u001b[0m not_found \u001b[38;5;241m=\u001b[39m \u001b[38;5;28mlist\u001b[39m(ensure_index(key)[missing_mask\u001b[38;5;241m.\u001b[39mnonzero()[\u001b[38;5;241m0\u001b[39m]]\u001b[38;5;241m.\u001b[39munique())\n\u001b[1;32m-> 6179\u001b[0m \u001b[38;5;28;01mraise\u001b[39;00m \u001b[38;5;167;01mKeyError\u001b[39;00m(\u001b[38;5;124mf\u001b[39m\u001b[38;5;124m\"\u001b[39m\u001b[38;5;132;01m{\u001b[39;00mnot_found\u001b[38;5;132;01m}\u001b[39;00m\u001b[38;5;124m not in index\u001b[39m\u001b[38;5;124m\"\u001b[39m)\n",
      "\u001b[1;31mKeyError\u001b[0m: \"['StandardHours'] not in index\""
     ]
    }
   ],
   "source": [
    "print(limpieza.df[[\"DailyRate\", \"EmployeeNumber\", \"MonthlyIncome\", \"TotalWorkingYears\", \"Age\", \"HourlyRate\", \"StandardHours\"]].info())\n",
    "print(limpieza.df[\"HourlyRate\"].unique())\n",
    "\n",
    "print(limpieza.df[[\"DailyRate\", \"EmployeeNumber\", \"MonthlyIncome\", \"TotalWorkingYears\", \"Age\", \"HourlyRate\", \"StandardHours\"]].info())\n",
    "print(limpieza.df[\"HourlyRate\"].unique())"
   ]
  },
  {
   "cell_type": "code",
   "execution_count": null,
   "metadata": {},
   "outputs": [
    {
     "name": "stdout",
     "output_type": "stream",
     "text": [
      "JobRole\n",
      " Sales Executive               369\n",
      " Research Scientist            314\n",
      " Laboratory Technician         278\n",
      " Manufacturing Director        158\n",
      " Healthcare Representative     149\n",
      " Manager                       111\n",
      " Sales Representative           90\n",
      " Research Director              88\n",
      " Human Resources                57\n",
      "Name: count, dtype: int64\n",
      "JobRole\n",
      " Sales Executive               369\n",
      " Research Scientist            314\n",
      " Laboratory Technician         278\n",
      " Manufacturing Director        158\n",
      " Healthcare Representative     149\n",
      " Manager                       111\n",
      " Sales Representative           90\n",
      " Research Director              88\n",
      " Human Resources                57\n",
      "Name: count, dtype: int64\n"
     ]
    }
   ],
   "source": [
    "print(limpieza.df[\"JobRole\"].value_counts())\n",
    "\n",
    "print(limpieza.df[\"JobRole\"].value_counts())"
   ]
  },
  {
   "cell_type": "code",
   "execution_count": null,
   "metadata": {},
   "outputs": [],
   "source": [
    "limpieza.guardar_archivo()"
   ]
  }
 ],
 "metadata": {
  "kernelspec": {
   "display_name": "base",
   "language": "python",
   "name": "python3"
  },
  "language_info": {
   "codemirror_mode": {
    "name": "ipython",
    "version": 3
   },
   "file_extension": ".py",
   "mimetype": "text/x-python",
   "name": "python",
   "nbconvert_exporter": "python",
   "pygments_lexer": "ipython3",
   "version": "3.9.19"
  }
 },
 "nbformat": 4,
 "nbformat_minor": 2
}
