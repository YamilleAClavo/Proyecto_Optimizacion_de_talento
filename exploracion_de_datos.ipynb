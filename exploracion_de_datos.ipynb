{
 "cells": [
  {
   "cell_type": "code",
   "execution_count": 1,
   "metadata": {},
   "outputs": [],
   "source": [
    "import pandas as pd\n",
    "import numpy as np\n",
    "from IPython.display import display\n",
    "from itertools import combinations\n",
    "from scipy.stats import kstest, spearmanr, pearsonr\n",
    "\n",
    "\n",
    "class AutoEDA:\n",
    "    def __init__(self):\n",
    "        pass\n",
    "\n",
    "    def read_file(self, file_path):\n",
    "        \"\"\"\n",
    "        Reads a file and returns a pandas DataFrame.\n",
    "        \n",
    "        Parameters:\n",
    "        - file_path (str): The path to the file.\n",
    "        \n",
    "        Returns:\n",
    "        - DataFrame: A pandas DataFrame.\n",
    "        \"\"\"\n",
    "        # Determine the file extension\n",
    "        file_extension = file_path.split('.')[-1].lower()\n",
    "        \n",
    "        # Read the file based on the file extension\n",
    "        try:\n",
    "            if file_extension == 'csv':\n",
    "                return pd.read_csv(file_path, index_col=0)\n",
    "            elif file_extension in ['xls', 'xlsx']:\n",
    "                return pd.read_excel(file_path)\n",
    "            elif file_extension == 'json':\n",
    "                return pd.read_json(file_path)\n",
    "            elif file_extension == 'pkl':\n",
    "                return pd.read_pickle(file_path)\n",
    "            else:\n",
    "                raise ValueError(\"Reading this format is not yet implemented.\")\n",
    "        except Exception as e:\n",
    "            return f\"File reading failed, error: {e}.\"\n",
    "\n",
    "\n",
    "    def explo_df(self, DataFrame, column=None):\n",
    "        \"\"\"\n",
    "        Explores a DataFrame or a specific column and prints various statistics.\n",
    "        \n",
    "        Parameters:\n",
    "        - DataFrame: The DataFrame to explore.\n",
    "        - column (str or list, optional): The column or columns to explore. If None, explore the entire DataFrame.\n",
    "        \"\"\"\n",
    "        if column is None:\n",
    "            # General DataFrame exploration\n",
    "            print(\"DataFrame Information:\")\n",
    "            display(DataFrame.info())\n",
    "            print(\"\\nFirst 10 rows of the DataFrame:\")\n",
    "            display(DataFrame.head(10))\n",
    "            print(\"\\nLast 10 rows of the DataFrame:\")\n",
    "            display(DataFrame.tail(10))\n",
    "            print(\"\\nStatistical description of the DataFrame (numeric):\")\n",
    "            display(DataFrame.describe().T)\n",
    "            print(\"\\nStatistical description of the DataFrame (categorical):\")\n",
    "            display(DataFrame.describe(include='object').T)\n",
    "            print(\"\\nCount of null values per column:\")\n",
    "            display(DataFrame.isnull().sum())\n",
    "            print(\"\\nPercentage of null values per column (only columns with nulls):\")\n",
    "            null_percentage = round(DataFrame.isnull().sum()/DataFrame.shape[0]*100, 2)\n",
    "            display(null_percentage[null_percentage > 0])\n",
    "            print(\"\\nRows with all values as null:\")\n",
    "            all_null_rows = DataFrame[DataFrame.isnull().all(axis=1)]\n",
    "            if not all_null_rows.empty:\n",
    "                display(all_null_rows)\n",
    "            else:\n",
    "                print(\"There is no rows with all values as null.\")\n",
    "            print(\"\\nCount of duplicate rows:\")\n",
    "            display(DataFrame.duplicated().sum())\n",
    "        else:\n",
    "            # Column(s) exploration\n",
    "            if isinstance(column, str):\n",
    "                column = [column]  # Convert to list if a single column is passed as a string\n",
    "            for col in column:\n",
    "                print(f\"\\nExploration of the column: {col}\")\n",
    "                if DataFrame[col].dtype in ['int64', 'float64']:\n",
    "                    print(\"\\nStatistical description (numeric):\")\n",
    "                    display(DataFrame[col].describe())\n",
    "                else:\n",
    "                    print(\"\\nStatistical description (categorical):\")\n",
    "                    display(DataFrame[col].describe(include='object'))\n",
    "                print(\"\\nCount of null values:\")\n",
    "                display(DataFrame[col].isnull().sum())\n",
    "                print(\"\\nCount of unique values:\")\n",
    "                display(DataFrame[col].nunique())\n",
    "                print(\"\\nUnique values:\")\n",
    "                display(DataFrame[col].unique())\n",
    "                print(\"\\nValue Counts:\")\n",
    "                display(DataFrame[col].value_counts())\n",
    "                print(\"\\nMost frequent value (mode):\")\n",
    "                display(DataFrame[col].mode().iloc[0])\n",
    "                print(\"\\nCount of duplicates in the column:\")\n",
    "                display(DataFrame.duplicated(subset=[col]).sum())\n"
   ]
  },
  {
   "cell_type": "code",
   "execution_count": 3,
   "metadata": {},
   "outputs": [
    {
     "name": "stdout",
     "output_type": "stream",
     "text": [
      "\n",
      "Exploration of the column: Age\n",
      "\n",
      "Statistical description (categorical):\n"
     ]
    },
    {
     "data": {
      "text/plain": [
       "count     1614\n",
       "unique      54\n",
       "top         35\n",
       "freq        84\n",
       "Name: Age, dtype: object"
      ]
     },
     "metadata": {},
     "output_type": "display_data"
    },
    {
     "name": "stdout",
     "output_type": "stream",
     "text": [
      "\n",
      "Count of null values:\n"
     ]
    },
    {
     "data": {
      "text/plain": [
       "np.int64(0)"
      ]
     },
     "metadata": {},
     "output_type": "display_data"
    },
    {
     "name": "stdout",
     "output_type": "stream",
     "text": [
      "\n",
      "Count of unique values:\n"
     ]
    },
    {
     "data": {
      "text/plain": [
       "54"
      ]
     },
     "metadata": {},
     "output_type": "display_data"
    },
    {
     "name": "stdout",
     "output_type": "stream",
     "text": [
      "\n",
      "Unique values:\n"
     ]
    },
    {
     "data": {
      "text/plain": [
       "array(['51', '52', '42', '47', '46', '48', '59', '41', '56', '38', '55',\n",
       "       '40', '58', '35', '45', '33', '36', '34', 'forty-seven', '53',\n",
       "       '43', '60', '32', '37', '49', '39', '50', '44', '30',\n",
       "       'fifty-eight', '29', '31', '54', '57', '27', 'thirty-six', '28',\n",
       "       '26', 'fifty-five', '25', 'fifty-two', 'thirty-one', '24',\n",
       "       'thirty', '23', '22', '21', '20', 'twenty-six', '19',\n",
       "       'thirty-seven', '18', 'thirty-two', 'twenty-four'], dtype=object)"
      ]
     },
     "metadata": {},
     "output_type": "display_data"
    },
    {
     "name": "stdout",
     "output_type": "stream",
     "text": [
      "\n",
      "Value Counts:\n"
     ]
    },
    {
     "data": {
      "text/plain": [
       "Age\n",
       "35              84\n",
       "34              83\n",
       "31              82\n",
       "29              78\n",
       "36              74\n",
       "38              64\n",
       "32              64\n",
       "30              63\n",
       "33              61\n",
       "40              60\n",
       "27              54\n",
       "28              53\n",
       "37              53\n",
       "42              50\n",
       "45              48\n",
       "41              46\n",
       "39              45\n",
       "26              45\n",
       "43              40\n",
       "46              38\n",
       "44              34\n",
       "50              31\n",
       "25              27\n",
       "24              26\n",
       "47              26\n",
       "49              25\n",
       "55              24\n",
       "51              20\n",
       "48              20\n",
       "53              20\n",
       "54              20\n",
       "52              18\n",
       "56              17\n",
       "22              16\n",
       "21              16\n",
       "23              15\n",
       "58              14\n",
       "20              11\n",
       "59              10\n",
       "19               9\n",
       "18               8\n",
       "60               5\n",
       "57               5\n",
       "thirty-two       2\n",
       "forty-seven      1\n",
       "fifty-eight      1\n",
       "thirty-six       1\n",
       "fifty-five       1\n",
       "fifty-two        1\n",
       "thirty-one       1\n",
       "thirty           1\n",
       "twenty-six       1\n",
       "thirty-seven     1\n",
       "twenty-four      1\n",
       "Name: count, dtype: int64"
      ]
     },
     "metadata": {},
     "output_type": "display_data"
    },
    {
     "name": "stdout",
     "output_type": "stream",
     "text": [
      "\n",
      "Most frequent value (mode):\n"
     ]
    },
    {
     "data": {
      "text/plain": [
       "'35'"
      ]
     },
     "metadata": {},
     "output_type": "display_data"
    },
    {
     "name": "stdout",
     "output_type": "stream",
     "text": [
      "\n",
      "Count of duplicates in the column:\n"
     ]
    },
    {
     "data": {
      "text/plain": [
       "np.int64(1560)"
      ]
     },
     "metadata": {},
     "output_type": "display_data"
    }
   ],
   "source": [
    "autoEda = AutoEDA()\n",
    "df = autoEda.read_file(\"HR RAW DATA.csv\")\n",
    "autoEda.explo_df(df, 'Age')#aqui cambiamos el nombre de la columna "
   ]
  },
  {
   "cell_type": "code",
   "execution_count": 4,
   "metadata": {},
   "outputs": [
    {
     "name": "stdout",
     "output_type": "stream",
     "text": [
      "\n",
      "Exploration of the column: Attrition\n",
      "\n",
      "Statistical description (categorical):\n"
     ]
    },
    {
     "data": {
      "text/plain": [
       "count     1614\n",
       "unique       2\n",
       "top         No\n",
       "freq      1355\n",
       "Name: Attrition, dtype: object"
      ]
     },
     "metadata": {},
     "output_type": "display_data"
    },
    {
     "name": "stdout",
     "output_type": "stream",
     "text": [
      "\n",
      "Count of null values:\n"
     ]
    },
    {
     "data": {
      "text/plain": [
       "np.int64(0)"
      ]
     },
     "metadata": {},
     "output_type": "display_data"
    },
    {
     "name": "stdout",
     "output_type": "stream",
     "text": [
      "\n",
      "Count of unique values:\n"
     ]
    },
    {
     "data": {
      "text/plain": [
       "2"
      ]
     },
     "metadata": {},
     "output_type": "display_data"
    },
    {
     "name": "stdout",
     "output_type": "stream",
     "text": [
      "\n",
      "Unique values:\n"
     ]
    },
    {
     "data": {
      "text/plain": [
       "array(['No', 'Yes'], dtype=object)"
      ]
     },
     "metadata": {},
     "output_type": "display_data"
    },
    {
     "name": "stdout",
     "output_type": "stream",
     "text": [
      "\n",
      "Value Counts:\n"
     ]
    },
    {
     "data": {
      "text/plain": [
       "Attrition\n",
       "No     1355\n",
       "Yes     259\n",
       "Name: count, dtype: int64"
      ]
     },
     "metadata": {},
     "output_type": "display_data"
    },
    {
     "name": "stdout",
     "output_type": "stream",
     "text": [
      "\n",
      "Most frequent value (mode):\n"
     ]
    },
    {
     "data": {
      "text/plain": [
       "'No'"
      ]
     },
     "metadata": {},
     "output_type": "display_data"
    },
    {
     "name": "stdout",
     "output_type": "stream",
     "text": [
      "\n",
      "Count of duplicates in the column:\n"
     ]
    },
    {
     "data": {
      "text/plain": [
       "np.int64(1612)"
      ]
     },
     "metadata": {},
     "output_type": "display_data"
    }
   ],
   "source": [
    "autoEda = AutoEDA()\n",
    "df = autoEda.read_file(\"HR RAW DATA.csv\")\n",
    "autoEda.explo_df(df, 'Attrition')#aqui cambiamos el nombre de la columna "
   ]
  },
  {
   "cell_type": "code",
   "execution_count": 5,
   "metadata": {},
   "outputs": [
    {
     "name": "stdout",
     "output_type": "stream",
     "text": [
      "\n",
      "Exploration of the column: BusinessTravel\n",
      "\n",
      "Statistical description (categorical):\n"
     ]
    },
    {
     "data": {
      "text/plain": [
       "count               842\n",
       "unique                3\n",
       "top       travel_rarely\n",
       "freq                586\n",
       "Name: BusinessTravel, dtype: object"
      ]
     },
     "metadata": {},
     "output_type": "display_data"
    },
    {
     "name": "stdout",
     "output_type": "stream",
     "text": [
      "\n",
      "Count of null values:\n"
     ]
    },
    {
     "data": {
      "text/plain": [
       "np.int64(772)"
      ]
     },
     "metadata": {},
     "output_type": "display_data"
    },
    {
     "name": "stdout",
     "output_type": "stream",
     "text": [
      "\n",
      "Count of unique values:\n"
     ]
    },
    {
     "data": {
      "text/plain": [
       "3"
      ]
     },
     "metadata": {},
     "output_type": "display_data"
    },
    {
     "name": "stdout",
     "output_type": "stream",
     "text": [
      "\n",
      "Unique values:\n"
     ]
    },
    {
     "data": {
      "text/plain": [
       "array([nan, 'travel_rarely', 'travel_frequently', 'non-travel'],\n",
       "      dtype=object)"
      ]
     },
     "metadata": {},
     "output_type": "display_data"
    },
    {
     "name": "stdout",
     "output_type": "stream",
     "text": [
      "\n",
      "Value Counts:\n"
     ]
    },
    {
     "data": {
      "text/plain": [
       "BusinessTravel\n",
       "travel_rarely        586\n",
       "travel_frequently    165\n",
       "non-travel            91\n",
       "Name: count, dtype: int64"
      ]
     },
     "metadata": {},
     "output_type": "display_data"
    },
    {
     "name": "stdout",
     "output_type": "stream",
     "text": [
      "\n",
      "Most frequent value (mode):\n"
     ]
    },
    {
     "data": {
      "text/plain": [
       "'travel_rarely'"
      ]
     },
     "metadata": {},
     "output_type": "display_data"
    },
    {
     "name": "stdout",
     "output_type": "stream",
     "text": [
      "\n",
      "Count of duplicates in the column:\n"
     ]
    },
    {
     "data": {
      "text/plain": [
       "np.int64(1610)"
      ]
     },
     "metadata": {},
     "output_type": "display_data"
    }
   ],
   "source": [
    "autoEda = AutoEDA()\n",
    "df = autoEda.read_file(\"HR RAW DATA.csv\")\n",
    "autoEda.explo_df(df, 'BusinessTravel')#aqui cambiamos el nombre de la columna "
   ]
  },
  {
   "cell_type": "code",
   "execution_count": 6,
   "metadata": {},
   "outputs": [
    {
     "name": "stdout",
     "output_type": "stream",
     "text": [
      "\n",
      "Exploration of the column: DailyRate\n",
      "\n",
      "Statistical description (categorical):\n"
     ]
    },
    {
     "data": {
      "text/plain": [
       "count     1614\n",
       "unique     849\n",
       "top       nan$\n",
       "freq       124\n",
       "Name: DailyRate, dtype: object"
      ]
     },
     "metadata": {},
     "output_type": "display_data"
    },
    {
     "name": "stdout",
     "output_type": "stream",
     "text": [
      "\n",
      "Count of null values:\n"
     ]
    },
    {
     "data": {
      "text/plain": [
       "np.int64(0)"
      ]
     },
     "metadata": {},
     "output_type": "display_data"
    },
    {
     "name": "stdout",
     "output_type": "stream",
     "text": [
      "\n",
      "Count of unique values:\n"
     ]
    },
    {
     "data": {
      "text/plain": [
       "849"
      ]
     },
     "metadata": {},
     "output_type": "display_data"
    },
    {
     "name": "stdout",
     "output_type": "stream",
     "text": [
      "\n",
      "Unique values:\n"
     ]
    },
    {
     "data": {
      "text/plain": [
       "array(['684,0$', '699,0$', '532,0$', '359,0$', '1319,0$', '117,0$',\n",
       "       '1435,0$', '635,0$', '1276,0$', '840,0$', '247,0$', '1369,0$',\n",
       "       '201,0$', '1360,0$', '692,0$', '1398,0$', '286,0$', '1402,0$',\n",
       "       '819,0$', '884,0$', '1238,0$', '515,0$', '1223,0$', '202,0$',\n",
       "       '928,0$', '607,0$', '266,0$', '429,0$', '589,0$', 'nan$',\n",
       "       '1180,0$', '1282,0$', '776,0$', '665,0$', '526,0$', '1034,0$',\n",
       "       '1403,0$', '1499,0$', '580,0$', '859,0$', '263,0$', '1376,0$',\n",
       "       '885,0$', '1003,0$', '1321,0$', '394,0$', '1372,0$', '1333,0$',\n",
       "       '228,0$', '737,0$', '823,0$', '667,0$', '301,0$', '573,0$',\n",
       "       '1329,0$', '630,0$', '1063,0$', '1017,0$', '1296,0$', '939,0$',\n",
       "       '1355,0$', '1448,0$', '200,0$', '1202,0$', '404,0$', '208,0$',\n",
       "       '813,0$', '465,0$', '1189,0$', '1001,0$', '1394,0$', '161,0$',\n",
       "       '288,0$', '682,0$', '1354,0$', '147,0$', '119,0$', '1413,0$',\n",
       "       '452,0$', '334,0$', '1132,0$', '982,0$', '480,0$', '1099,0$',\n",
       "       '672,0$', '1379,0$', '583,0$', '1492,0$', '1050,0$', '469,0$',\n",
       "       '237,0$', '1440,0$', '1291,0$', '1157,0$', '1336,0$', '1224,0$',\n",
       "       '735,0$', '1389,0$', '638,0$', '1240,0$', '194,0$', '1339,0$',\n",
       "       '111,0$', '1469,0$', '470,0$', '1232,0$', '1249,0$', '798,0$',\n",
       "       '549,0$', '570,0$', '541,0$', '164,0$', '1117,0$', '619,0$',\n",
       "       '319,0$', '956,0$', '1245,0$', '1397,0$', '527,0$', '213,0$',\n",
       "       '882,0$', '330,0$', '406,0$', '217,0$', '481,0$', '669,0$',\n",
       "       '1465,0$', '685,0$', '1062,0$', '177,0$', '1199,0$', '648,0$',\n",
       "       '412,0$', '282,0$', '770,0$', '601,0$', '855,0$', '332,0$',\n",
       "       '1326,0$', '748,0$', '405,0$', '790,0$', '971,0$', '1370,0$',\n",
       "       '750,0$', '880,0$', '678,0$', '1179,0$', '350,0$', '1266,0$',\n",
       "       '574,0$', '189,0$', '310,0$', '722,0$', '1219,0$', '994,0$',\n",
       "       '721,0$', '853,0$', '427,0$', '852,0$', '1334,0$', '1093,0$',\n",
       "       '967,0$', '989,0$', '1195,0$', '1045,0$', '829,0$', '663,0$',\n",
       "       '1300,0$', '1105,0$', '906,0$', '849,0$', '1275,0$', '1218,0$',\n",
       "       '422,0$', '1274,0$', '1076,0$', '1207,0$', '430,0$', '933,0$',\n",
       "       '1184,0$', '586,0$', '890,0$', '379,0$', '1425,0$', '1188,0$',\n",
       "       '938,0$', '1053,0$', '248,0$', '796,0$', '174,0$', '408,0$',\n",
       "       '977,0$', '536,0$', '135,0$', '1476,0$', '587,0$', '495,0$',\n",
       "       '523,0$', '507,0$', '1055,0$', '1445,0$', '218,0$', '447,0$',\n",
       "       '1029,0$', '674,0$', '538,0$', '740,0$', '1234,0$', '170,0$',\n",
       "       '1130,0$', '584,0$', '918,0$', '792,0$', '611,0$', '1383,0$',\n",
       "       '867,0$', '706,0$', '728,0$', '311,0$', '556,0$', '937,0$',\n",
       "       '1125,0$', '444,0$', '911,0$', '585,0$', '1392,0$', '1005,0$',\n",
       "       '1299,0$', '655,0$', '746,0$', '632,0$', '658,0$', '1467,0$',\n",
       "       '1312,0$', '249,0$', '802,0$', '689,0$', '1395,0$', '1436,0$',\n",
       "       '1496,0$', '1480,0$', '313,0$', '894,0$', '290,0$', '1084,0$',\n",
       "       '1002,0$', '1242,0$', '1052,0$', '944,0$', '771,0$', '1416,0$',\n",
       "       '1327,0$', '488,0$', '1385,0$', '666,0$', '1315,0$', '442,0$',\n",
       "       '950,0$', '691,0$', '1018,0$', '559,0$', '318,0$', '144,0$',\n",
       "       '1171,0$', '143,0$', '1178,0$', '1107,0$', '645,0$', '1485,0$',\n",
       "       '1116,0$', '163,0$', '561,0$', '426,0$', '509,0$', '258,0$',\n",
       "       '525,0$', '238,0$', '482,0$', '397,0$', '243,0$', '806,0$',\n",
       "       '1442,0$', '929,0$', '827,0$', '703,0$', '294,0$', '314,0$',\n",
       "       '654,0$', '501,0$', '954,0$', '1434,0$', '657,0$', '240,0$',\n",
       "       '791,0$', '676,0$', '436,0$', '760,0$', '661,0$', '1085,0$',\n",
       "       '154,0$', '1283,0$', '616,0$', '498,0$', '530,0$', '805,0$',\n",
       "       '903,0$', '1229,0$', '566,0$', '1441,0$', '153,0$', '1066,0$',\n",
       "       '145,0$', '1109,0$', '124,0$', '300,0$', '1366,0$', '857,0$',\n",
       "       '1204,0$', '1082,0$', '203,0$', '1308,0$', '718,0$', '593,0$',\n",
       "       '1384,0$', '1361,0$', '1146,0$', '1316,0$', '363,0$', '1103,0$',\n",
       "       '920,0$', '694,0$', '1429,0$', '531,0$', '621,0$', '604,0$',\n",
       "       '325,0$', '1030,0$', '524,0$', '943,0$', '1009,0$', '817,0$',\n",
       "       '930,0$', '1147,0$', '652,0$', '337,0$', '1136,0$', '326,0$',\n",
       "       '377,0$', '1038,0$', '1490,0$', '1246,0$', '224,0$', '441,0$',\n",
       "       '898,0$', '1313,0$', '1015,0$', '1387,0$', '1302,0$', '602,0$',\n",
       "       '772,0$', '809,0$', '786,0$', '921,0$', '717,0$', '979,0$',\n",
       "       '953,0$', '244,0$', '196,0$', '303,0$', '1092,0$', '261,0$',\n",
       "       '1422,0$', '1137,0$', '511,0$', '1396,0$', '1096,0$', '1169,0$',\n",
       "       '1239,0$', '157,0$', '754,0$', '1303,0$', '697,0$', '116,0$',\n",
       "       '557,0$', '582,0$', '704,0$', '613,0$', '419,0$', '477,0$',\n",
       "       '1211,0$', '505,0$', '269,0$', '553,0$', '1277,0$', '302,0$',\n",
       "       '975,0$', '1318,0$', '881,0$', '466,0$', '945,0$', '433,0$',\n",
       "       '991,0$', '1083,0$', '136,0$', '333,0$', '1462,0$', '1131,0$',\n",
       "       '1023,0$', '1065,0$', '1115,0$', '1479,0$', '304,0$', '1368,0$',\n",
       "       '828,0$', '799,0$', '142,0$', '446,0$', '254,0$', '1410,0$',\n",
       "       '883,0$', '121,0$', '1343,0$', '490,0$', '1400,0$', '1332,0$',\n",
       "       '1200,0$', '1102,0$', '1328,0$', '548,0$', '1214,0$', '120,0$',\n",
       "       '841,0$', '1033,0$', '1452,0$', '1268,0$', '307,0$', '797,0$',\n",
       "       '555,0$', '1377,0$', '210,0$', '483,0$', '575,0$', '1311,0$',\n",
       "       '759,0$', '891,0$', '317,0$', '688,0$', '195,0$', '622,0$',\n",
       "       '646,0$', '719,0$', '1012,0$', '1278,0$', '1222,0$', '1231,0$',\n",
       "       '462,0$', '231,0$', '1089,0$', '1262,0$', '439,0$', '528,0$',\n",
       "       '647,0$', '1097,0$', '942,0$', '966,0$', '168,0$', '299,0$',\n",
       "       '999,0$', '1498,0$', '1439,0$', '1111,0$', '1174,0$', '172,0$',\n",
       "       '401,0$', '866,0$', '571,0$', '1342,0$', '995,0$', '118,0$',\n",
       "       '990,0$', '241,0$', '1470,0$', '492,0$', '1040,0$', '1320,0$',\n",
       "       '146,0$', '1153,0$', '185,0$', '1297,0$', '1064,0$', '1351,0$',\n",
       "       '468,0$', '1273,0$', '1141,0$', '1488,0$', '653,0$', '1225,0$',\n",
       "       '1217,0$', '1127,0$', '1427,0$', '702,0$', '926,0$', '878,0$',\n",
       "       '896,0$', '1401,0$', '675,0$', '1070,0$', '496,0$', '390,0$',\n",
       "       '1220,0$', '1124,0$', '1046,0$', '267,0$', '443,0$', '1287,0$',\n",
       "       '1420,0$', '562,0$', '650,0$', '141,0$', '715,0$', '376,0$',\n",
       "       '932,0$', '471,0$', '180,0$', '1265,0$', '1075,0$', '1086,0$',\n",
       "       '152,0$', '974,0$', '788,0$', '192,0$', '150,0$', '1167,0$',\n",
       "       '206,0$', '736,0$', '322,0$', '683,0$', '1475,0$', '560,0$',\n",
       "       '115,0$', '888,0$', '671,0$', '567,0$', '148,0$', '581,0$',\n",
       "       '371,0$', '1181,0$', '1253,0$', '370,0$', '1194,0$', '572,0$',\n",
       "       '355,0$', '783,0$', '155,0$', '508,0$', '642,0$', '1382,0$',\n",
       "       '1037,0$', '1120,0$', '374,0$', '287,0$', '591,0$', '670,0$',\n",
       "       '1346,0$', '103,0$', '673,0$', '705,0$', '1459,0$', '1443,0$',\n",
       "       '1142,0$', '664,0$', '432,0$', '1353,0$', '489,0$', '807,0$',\n",
       "       '1280,0$', '957,0$', '542,0$', '216,0$', '1150,0$', '364,0$',\n",
       "       '1256,0$', '440,0$', '713,0$', '140,0$', '629,0$', '328,0$',\n",
       "       '472,0$', '905,0$', '1151,0$', '644,0$', '992,0$', '1323,0$',\n",
       "       '818,0$', '1431,0$', '976,0$', '832,0$', '916,0$', '1247,0$',\n",
       "       '128,0$', '1158,0$', '996,0$', '1449,0$', '636,0$', '889,0$',\n",
       "       '106,0$', '723,0$', '1482,0$', '738,0$', '1192,0$', '1309,0$',\n",
       "       '544,0$', '641,0$', '756,0$', '895,0$', '1261,0$', '329,0$',\n",
       "       '1362,0$', '1371,0$', '821,0$', '1381,0$', '1473,0$', '296,0$',\n",
       "       '1349,0$', '986,0$', '413,0$', '988,0$', '1474,0$', '232,0$',\n",
       "       '1236,0$', '1112,0$', '204,0$', '913,0$', '810,0$', '693,0$',\n",
       "       '316,0$', '381,0$', '775,0$', '804,0$', '1090,0$', '346,0$',\n",
       "       '725,0$', '182,0$', '384,0$', '1325,0$', '1258,0$', '1041,0$',\n",
       "       '625,0$', '1418,0$', '1269,0$', '395,0$', '341,0$', '500,0$',\n",
       "       '1454,0$', '617,0$', '1122,0$', '1198,0$', '188,0$', '335,0$',\n",
       "       '461,0$', '1134,0$', '138,0$', '1206,0$', '109,0$', '277,0$',\n",
       "       '265,0$', '342,0$', '1186,0$', '769,0$', '1176,0$', '1091,0$',\n",
       "       '618,0$', '970,0$', '984,0$', '793,0$', '1182,0$', '603,0$',\n",
       "       '874,0$', '367,0$', '199,0$', '1457,0$', '1421,0$', '1450,0$',\n",
       "       '1212,0$', '1010,0$', '131,0$', '193,0$', '640,0$', '848,0$',\n",
       "       '1138,0$', '256,0$', '935,0$', '458,0$', '662,0$', '499,0$',\n",
       "       '949,0$', '383,0$', '1255,0$', '1221,0$', '981,0$', '1495,0$',\n",
       "       '1193,0$', '467,0$', '271,0$', '410,0$', '1288,0$', '1108,0$',\n",
       "       '437,0$', '457,0$', '634,0$', '546,0$', '711,0$', '448,0$',\n",
       "       '365,0$', '763,0$', '486,0$', '392,0$', '727,0$', '741,0$',\n",
       "       '552,0$', '506,0$', '1456,0$', '160,0$', '897,0$', '600,0$',\n",
       "       '1054,0$', '428,0$', '343,0$', '1216,0$', '207,0$', '280,0$',\n",
       "       '414,0$', '836,0$', '592,0$', '219,0$', '1079,0$', '1251,0$',\n",
       "       '1168,0$', '1444,0$', '1154,0$', '234,0$', '529,0$', '1322,0$',\n",
       "       '924,0$', '134,0$', '755,0$', '253,0$', '922,0$', '1365,0$',\n",
       "       '306,0$', '1271,0$', '1404,0$', '1391,0$', '1464,0$', '1330,0$',\n",
       "       '773,0$', '902,0$', '107,0$', '504,0$', '1358,0$', '824,0$',\n",
       "       '594,0$', '734,0$', '766,0$', '431,0$', '1213,0$', '1373,0$',\n",
       "       '1324,0$', '1123,0$', '391,0$', '125,0$', '1357,0$', '626,0$',\n",
       "       '132,0$', '871,0$', '1031,0$', '1145,0$', '854,0$', '1411,0$',\n",
       "       '252,0$', '833,0$', '1210,0$', '1463,0$', '812,0$', '1162,0$',\n",
       "       '845,0$', '1144,0$', '156,0$', '464,0$', '1305,0$', '983,0$',\n",
       "       '534,0$', '1306,0$', '1094,0$', '558,0$', '959,0$', '782,0$',\n",
       "       '362,0$', '268,0$', '167,0$', '1243,0$', '720,0$', '868,0$',\n",
       "       '1252,0$', '781,0$', '1272,0$', '129,0$', '1069,0$', '289,0$',\n",
       "       '955,0$', '660,0$', '415,0$', '309,0$', '130,0$', '862,0$',\n",
       "       '1098,0$', '969,0$', '373,0$', '599,0$', '968,0$', '830,0$',\n",
       "       '1423,0$', '516,0$', '598,0$', '104,0$', '479,0$', '474,0$',\n",
       "       '264,0$', '1059,0$', '563,0$', '1259,0$', '369,0$', '543,0$',\n",
       "       '964,0$', '176,0$', '181,0$', '211,0$', '590,0$', '305,0$',\n",
       "       '478,0$', '1294,0$', '1128,0$', '726,0$', '352,0$', '1172,0$',\n",
       "       '605,0$', '1337,0$', '105,0$'], dtype=object)"
      ]
     },
     "metadata": {},
     "output_type": "display_data"
    },
    {
     "name": "stdout",
     "output_type": "stream",
     "text": [
      "\n",
      "Value Counts:\n"
     ]
    },
    {
     "data": {
      "text/plain": [
       "DailyRate\n",
       "nan$       124\n",
       "691,0$       7\n",
       "329,0$       7\n",
       "147,0$       6\n",
       "530,0$       6\n",
       "          ... \n",
       "1294,0$      1\n",
       "478,0$       1\n",
       "305,0$       1\n",
       "590,0$       1\n",
       "211,0$       1\n",
       "Name: count, Length: 849, dtype: int64"
      ]
     },
     "metadata": {},
     "output_type": "display_data"
    },
    {
     "name": "stdout",
     "output_type": "stream",
     "text": [
      "\n",
      "Most frequent value (mode):\n"
     ]
    },
    {
     "data": {
      "text/plain": [
       "'nan$'"
      ]
     },
     "metadata": {},
     "output_type": "display_data"
    },
    {
     "name": "stdout",
     "output_type": "stream",
     "text": [
      "\n",
      "Count of duplicates in the column:\n"
     ]
    },
    {
     "data": {
      "text/plain": [
       "np.int64(765)"
      ]
     },
     "metadata": {},
     "output_type": "display_data"
    }
   ],
   "source": [
    "autoEda = AutoEDA()\n",
    "df = autoEda.read_file(\"HR RAW DATA.csv\")\n",
    "autoEda.explo_df(df, 'DailyRate')#aqui cambiamos el nombre de la columna "
   ]
  },
  {
   "cell_type": "code",
   "execution_count": 7,
   "metadata": {},
   "outputs": [
    {
     "name": "stdout",
     "output_type": "stream",
     "text": [
      "\n",
      "Exploration of the column: Department\n",
      "\n",
      "Statistical description (categorical):\n"
     ]
    },
    {
     "data": {
      "text/plain": [
       "count                          302\n",
       "unique                           3\n",
       "top        Research & Development \n",
       "freq                           196\n",
       "Name: Department, dtype: object"
      ]
     },
     "metadata": {},
     "output_type": "display_data"
    },
    {
     "name": "stdout",
     "output_type": "stream",
     "text": [
      "\n",
      "Count of null values:\n"
     ]
    },
    {
     "data": {
      "text/plain": [
       "np.int64(1312)"
      ]
     },
     "metadata": {},
     "output_type": "display_data"
    },
    {
     "name": "stdout",
     "output_type": "stream",
     "text": [
      "\n",
      "Count of unique values:\n"
     ]
    },
    {
     "data": {
      "text/plain": [
       "3"
      ]
     },
     "metadata": {},
     "output_type": "display_data"
    },
    {
     "name": "stdout",
     "output_type": "stream",
     "text": [
      "\n",
      "Unique values:\n"
     ]
    },
    {
     "data": {
      "text/plain": [
       "array([nan, ' Research & Development ', ' Sales ', ' Human Resources '],\n",
       "      dtype=object)"
      ]
     },
     "metadata": {},
     "output_type": "display_data"
    },
    {
     "name": "stdout",
     "output_type": "stream",
     "text": [
      "\n",
      "Value Counts:\n"
     ]
    },
    {
     "data": {
      "text/plain": [
       "Department\n",
       "Research & Development     196\n",
       "Sales                       91\n",
       "Human Resources             15\n",
       "Name: count, dtype: int64"
      ]
     },
     "metadata": {},
     "output_type": "display_data"
    },
    {
     "name": "stdout",
     "output_type": "stream",
     "text": [
      "\n",
      "Most frequent value (mode):\n"
     ]
    },
    {
     "data": {
      "text/plain": [
       "' Research & Development '"
      ]
     },
     "metadata": {},
     "output_type": "display_data"
    },
    {
     "name": "stdout",
     "output_type": "stream",
     "text": [
      "\n",
      "Count of duplicates in the column:\n"
     ]
    },
    {
     "data": {
      "text/plain": [
       "np.int64(1610)"
      ]
     },
     "metadata": {},
     "output_type": "display_data"
    }
   ],
   "source": [
    "autoEda = AutoEDA()\n",
    "df = autoEda.read_file(\"HR RAW DATA.csv\")\n",
    "autoEda.explo_df(df, 'Department')#aqui cambiamos el nombre de la columna "
   ]
  },
  {
   "cell_type": "code",
   "execution_count": 8,
   "metadata": {},
   "outputs": [
    {
     "name": "stdout",
     "output_type": "stream",
     "text": [
      "\n",
      "Exploration of the column: DistanceFromHome\n",
      "\n",
      "Statistical description (numeric):\n"
     ]
    },
    {
     "data": {
      "text/plain": [
       "count    1614.000000\n",
       "mean        4.527261\n",
       "std        14.591913\n",
       "min       -49.000000\n",
       "25%         2.000000\n",
       "50%         5.000000\n",
       "75%        11.000000\n",
       "max        29.000000\n",
       "Name: DistanceFromHome, dtype: float64"
      ]
     },
     "metadata": {},
     "output_type": "display_data"
    },
    {
     "name": "stdout",
     "output_type": "stream",
     "text": [
      "\n",
      "Count of null values:\n"
     ]
    },
    {
     "data": {
      "text/plain": [
       "np.int64(0)"
      ]
     },
     "metadata": {},
     "output_type": "display_data"
    },
    {
     "name": "stdout",
     "output_type": "stream",
     "text": [
      "\n",
      "Count of unique values:\n"
     ]
    },
    {
     "data": {
      "text/plain": [
       "69"
      ]
     },
     "metadata": {},
     "output_type": "display_data"
    },
    {
     "name": "stdout",
     "output_type": "stream",
     "text": [
      "\n",
      "Unique values:\n"
     ]
    },
    {
     "data": {
      "text/plain": [
       "array([  6,   1,   4,   2,   3,  22,  25,   9,   7,  23,  10,  12,  14,\n",
       "       -13,  15,   8, -42,  28, -37,   5,  16, -35,  26, -26,  24,  29,\n",
       "       -25,  17,  21, -18, -10, -30, -27,  20, -31, -29, -39,  18, -21,\n",
       "       -15,  11,  13, -14,  19, -33, -34, -46, -36, -19,  27, -12, -23,\n",
       "       -45, -28, -47, -32, -24, -16, -22, -41, -49, -11, -48, -38, -20,\n",
       "       -17, -43, -40, -44])"
      ]
     },
     "metadata": {},
     "output_type": "display_data"
    },
    {
     "name": "stdout",
     "output_type": "stream",
     "text": [
      "\n",
      "Value Counts:\n"
     ]
    },
    {
     "data": {
      "text/plain": [
       "DistanceFromHome\n",
       " 2     217\n",
       " 1     203\n",
       " 10     86\n",
       " 9      85\n",
       " 8      81\n",
       "      ... \n",
       "-21      2\n",
       "-43      2\n",
       "-28      2\n",
       "-39      1\n",
       "-40      1\n",
       "Name: count, Length: 69, dtype: int64"
      ]
     },
     "metadata": {},
     "output_type": "display_data"
    },
    {
     "name": "stdout",
     "output_type": "stream",
     "text": [
      "\n",
      "Most frequent value (mode):\n"
     ]
    },
    {
     "data": {
      "text/plain": [
       "np.int64(2)"
      ]
     },
     "metadata": {},
     "output_type": "display_data"
    },
    {
     "name": "stdout",
     "output_type": "stream",
     "text": [
      "\n",
      "Count of duplicates in the column:\n"
     ]
    },
    {
     "data": {
      "text/plain": [
       "np.int64(1545)"
      ]
     },
     "metadata": {},
     "output_type": "display_data"
    }
   ],
   "source": [
    "autoEda = AutoEDA()\n",
    "df = autoEda.read_file(\"HR RAW DATA.csv\")\n",
    "autoEda.explo_df(df, 'DistanceFromHome')#aqui cambiamos el nombre de la columna "
   ]
  },
  {
   "cell_type": "code",
   "execution_count": 9,
   "metadata": {},
   "outputs": [
    {
     "name": "stdout",
     "output_type": "stream",
     "text": [
      "\n",
      "Exploration of the column: Education\n",
      "\n",
      "Statistical description (numeric):\n"
     ]
    },
    {
     "data": {
      "text/plain": [
       "count    1614.000000\n",
       "mean        2.925031\n",
       "std         1.022357\n",
       "min         1.000000\n",
       "25%         2.000000\n",
       "50%         3.000000\n",
       "75%         4.000000\n",
       "max         5.000000\n",
       "Name: Education, dtype: float64"
      ]
     },
     "metadata": {},
     "output_type": "display_data"
    },
    {
     "name": "stdout",
     "output_type": "stream",
     "text": [
      "\n",
      "Count of null values:\n"
     ]
    },
    {
     "data": {
      "text/plain": [
       "np.int64(0)"
      ]
     },
     "metadata": {},
     "output_type": "display_data"
    },
    {
     "name": "stdout",
     "output_type": "stream",
     "text": [
      "\n",
      "Count of unique values:\n"
     ]
    },
    {
     "data": {
      "text/plain": [
       "5"
      ]
     },
     "metadata": {},
     "output_type": "display_data"
    },
    {
     "name": "stdout",
     "output_type": "stream",
     "text": [
      "\n",
      "Unique values:\n"
     ]
    },
    {
     "data": {
      "text/plain": [
       "array([3, 4, 2, 1, 5])"
      ]
     },
     "metadata": {},
     "output_type": "display_data"
    },
    {
     "name": "stdout",
     "output_type": "stream",
     "text": [
      "\n",
      "Value Counts:\n"
     ]
    },
    {
     "data": {
      "text/plain": [
       "Education\n",
       "3    621\n",
       "4    445\n",
       "2    314\n",
       "1    180\n",
       "5     54\n",
       "Name: count, dtype: int64"
      ]
     },
     "metadata": {},
     "output_type": "display_data"
    },
    {
     "name": "stdout",
     "output_type": "stream",
     "text": [
      "\n",
      "Most frequent value (mode):\n"
     ]
    },
    {
     "data": {
      "text/plain": [
       "np.int64(3)"
      ]
     },
     "metadata": {},
     "output_type": "display_data"
    },
    {
     "name": "stdout",
     "output_type": "stream",
     "text": [
      "\n",
      "Count of duplicates in the column:\n"
     ]
    },
    {
     "data": {
      "text/plain": [
       "np.int64(1609)"
      ]
     },
     "metadata": {},
     "output_type": "display_data"
    }
   ],
   "source": [
    "autoEda = AutoEDA()\n",
    "df = autoEda.read_file(\"HR RAW DATA.csv\")\n",
    "autoEda.explo_df(df, 'Education')#aqui cambiamos el nombre de la columna "
   ]
  },
  {
   "cell_type": "code",
   "execution_count": 10,
   "metadata": {},
   "outputs": [
    {
     "name": "stdout",
     "output_type": "stream",
     "text": [
      "\n",
      "Exploration of the column: EducationField\n",
      "\n",
      "Statistical description (categorical):\n"
     ]
    },
    {
     "data": {
      "text/plain": [
       "count               869\n",
       "unique                6\n",
       "top       Life Sciences\n",
       "freq                349\n",
       "Name: EducationField, dtype: object"
      ]
     },
     "metadata": {},
     "output_type": "display_data"
    },
    {
     "name": "stdout",
     "output_type": "stream",
     "text": [
      "\n",
      "Count of null values:\n"
     ]
    },
    {
     "data": {
      "text/plain": [
       "np.int64(745)"
      ]
     },
     "metadata": {},
     "output_type": "display_data"
    },
    {
     "name": "stdout",
     "output_type": "stream",
     "text": [
      "\n",
      "Count of unique values:\n"
     ]
    },
    {
     "data": {
      "text/plain": [
       "6"
      ]
     },
     "metadata": {},
     "output_type": "display_data"
    },
    {
     "name": "stdout",
     "output_type": "stream",
     "text": [
      "\n",
      "Unique values:\n"
     ]
    },
    {
     "data": {
      "text/plain": [
       "array([nan, 'Life Sciences', 'Technical Degree', 'Medical', 'Other',\n",
       "       'Marketing', 'Human Resources'], dtype=object)"
      ]
     },
     "metadata": {},
     "output_type": "display_data"
    },
    {
     "name": "stdout",
     "output_type": "stream",
     "text": [
      "\n",
      "Value Counts:\n"
     ]
    },
    {
     "data": {
      "text/plain": [
       "EducationField\n",
       "Life Sciences       349\n",
       "Medical             276\n",
       "Marketing           104\n",
       "Technical Degree     69\n",
       "Other                59\n",
       "Human Resources      12\n",
       "Name: count, dtype: int64"
      ]
     },
     "metadata": {},
     "output_type": "display_data"
    },
    {
     "name": "stdout",
     "output_type": "stream",
     "text": [
      "\n",
      "Most frequent value (mode):\n"
     ]
    },
    {
     "data": {
      "text/plain": [
       "'Life Sciences'"
      ]
     },
     "metadata": {},
     "output_type": "display_data"
    },
    {
     "name": "stdout",
     "output_type": "stream",
     "text": [
      "\n",
      "Count of duplicates in the column:\n"
     ]
    },
    {
     "data": {
      "text/plain": [
       "np.int64(1607)"
      ]
     },
     "metadata": {},
     "output_type": "display_data"
    }
   ],
   "source": [
    "autoEda = AutoEDA()\n",
    "df = autoEda.read_file(\"HR RAW DATA.csv\")\n",
    "autoEda.explo_df(df, 'EducationField')#aqui cambiamos el nombre de la columna "
   ]
  },
  {
   "cell_type": "code",
   "execution_count": 11,
   "metadata": {},
   "outputs": [
    {
     "name": "stdout",
     "output_type": "stream",
     "text": [
      "\n",
      "Exploration of the column: employeecount\n",
      "\n",
      "Statistical description (numeric):\n"
     ]
    },
    {
     "data": {
      "text/plain": [
       "count    1614.0\n",
       "mean        1.0\n",
       "std         0.0\n",
       "min         1.0\n",
       "25%         1.0\n",
       "50%         1.0\n",
       "75%         1.0\n",
       "max         1.0\n",
       "Name: employeecount, dtype: float64"
      ]
     },
     "metadata": {},
     "output_type": "display_data"
    },
    {
     "name": "stdout",
     "output_type": "stream",
     "text": [
      "\n",
      "Count of null values:\n"
     ]
    },
    {
     "data": {
      "text/plain": [
       "np.int64(0)"
      ]
     },
     "metadata": {},
     "output_type": "display_data"
    },
    {
     "name": "stdout",
     "output_type": "stream",
     "text": [
      "\n",
      "Count of unique values:\n"
     ]
    },
    {
     "data": {
      "text/plain": [
       "1"
      ]
     },
     "metadata": {},
     "output_type": "display_data"
    },
    {
     "name": "stdout",
     "output_type": "stream",
     "text": [
      "\n",
      "Unique values:\n"
     ]
    },
    {
     "data": {
      "text/plain": [
       "array([1])"
      ]
     },
     "metadata": {},
     "output_type": "display_data"
    },
    {
     "name": "stdout",
     "output_type": "stream",
     "text": [
      "\n",
      "Value Counts:\n"
     ]
    },
    {
     "data": {
      "text/plain": [
       "employeecount\n",
       "1    1614\n",
       "Name: count, dtype: int64"
      ]
     },
     "metadata": {},
     "output_type": "display_data"
    },
    {
     "name": "stdout",
     "output_type": "stream",
     "text": [
      "\n",
      "Most frequent value (mode):\n"
     ]
    },
    {
     "data": {
      "text/plain": [
       "np.int64(1)"
      ]
     },
     "metadata": {},
     "output_type": "display_data"
    },
    {
     "name": "stdout",
     "output_type": "stream",
     "text": [
      "\n",
      "Count of duplicates in the column:\n"
     ]
    },
    {
     "data": {
      "text/plain": [
       "np.int64(1613)"
      ]
     },
     "metadata": {},
     "output_type": "display_data"
    }
   ],
   "source": [
    "autoEda = AutoEDA()\n",
    "df = autoEda.read_file(\"HR RAW DATA.csv\")\n",
    "autoEda.explo_df(df, 'employeecount')#aqui cambiamos el nombre de la columna "
   ]
  },
  {
   "cell_type": "code",
   "execution_count": 12,
   "metadata": {},
   "outputs": [
    {
     "name": "stdout",
     "output_type": "stream",
     "text": [
      "\n",
      "Exploration of the column: employeenumber\n",
      "\n",
      "Statistical description (categorical):\n"
     ]
    },
    {
     "data": {
      "text/plain": [
       "count      1183\n",
       "unique     1079\n",
       "top       495,0\n",
       "freq          2\n",
       "Name: employeenumber, dtype: object"
      ]
     },
     "metadata": {},
     "output_type": "display_data"
    },
    {
     "name": "stdout",
     "output_type": "stream",
     "text": [
      "\n",
      "Count of null values:\n"
     ]
    },
    {
     "data": {
      "text/plain": [
       "np.int64(431)"
      ]
     },
     "metadata": {},
     "output_type": "display_data"
    },
    {
     "name": "stdout",
     "output_type": "stream",
     "text": [
      "\n",
      "Count of unique values:\n"
     ]
    },
    {
     "data": {
      "text/plain": [
       "1079"
      ]
     },
     "metadata": {},
     "output_type": "display_data"
    },
    {
     "name": "stdout",
     "output_type": "stream",
     "text": [
      "\n",
      "Unique values:\n"
     ]
    },
    {
     "data": {
      "text/plain": [
       "array(['162,0', '259,0', '319,0', ..., '2012,0', '2023,0', '2040,0'],\n",
       "      dtype=object)"
      ]
     },
     "metadata": {},
     "output_type": "display_data"
    },
    {
     "name": "stdout",
     "output_type": "stream",
     "text": [
      "\n",
      "Value Counts:\n"
     ]
    },
    {
     "data": {
      "text/plain": [
       "employeenumber\n",
       "495,0    2\n",
       "501,0    2\n",
       "502,0    2\n",
       "507,0    2\n",
       "517,0    2\n",
       "        ..\n",
       "164,0    1\n",
       "190,0    1\n",
       "194,0    1\n",
       "226,0    1\n",
       "998,0    1\n",
       "Name: count, Length: 1079, dtype: int64"
      ]
     },
     "metadata": {},
     "output_type": "display_data"
    },
    {
     "name": "stdout",
     "output_type": "stream",
     "text": [
      "\n",
      "Most frequent value (mode):\n"
     ]
    },
    {
     "data": {
      "text/plain": [
       "'1044,0'"
      ]
     },
     "metadata": {},
     "output_type": "display_data"
    },
    {
     "name": "stdout",
     "output_type": "stream",
     "text": [
      "\n",
      "Count of duplicates in the column:\n"
     ]
    },
    {
     "data": {
      "text/plain": [
       "np.int64(534)"
      ]
     },
     "metadata": {},
     "output_type": "display_data"
    }
   ],
   "source": [
    "autoEda = AutoEDA()\n",
    "df = autoEda.read_file(\"HR RAW DATA.csv\")\n",
    "autoEda.explo_df(df, 'employeenumber')#aqui cambiamos el nombre de la columna "
   ]
  },
  {
   "cell_type": "code",
   "execution_count": 13,
   "metadata": {},
   "outputs": [
    {
     "name": "stdout",
     "output_type": "stream",
     "text": [
      "\n",
      "Exploration of the column: EnvironmentSatisfaction\n",
      "\n",
      "Statistical description (numeric):\n"
     ]
    },
    {
     "data": {
      "text/plain": [
       "count    1614.000000\n",
       "mean        4.294919\n",
       "std         6.993559\n",
       "min         1.000000\n",
       "25%         2.000000\n",
       "50%         3.000000\n",
       "75%         4.000000\n",
       "max        49.000000\n",
       "Name: EnvironmentSatisfaction, dtype: float64"
      ]
     },
     "metadata": {},
     "output_type": "display_data"
    },
    {
     "name": "stdout",
     "output_type": "stream",
     "text": [
      "\n",
      "Count of null values:\n"
     ]
    },
    {
     "data": {
      "text/plain": [
       "np.int64(0)"
      ]
     },
     "metadata": {},
     "output_type": "display_data"
    },
    {
     "name": "stdout",
     "output_type": "stream",
     "text": [
      "\n",
      "Count of unique values:\n"
     ]
    },
    {
     "data": {
      "text/plain": [
       "38"
      ]
     },
     "metadata": {},
     "output_type": "display_data"
    },
    {
     "name": "stdout",
     "output_type": "stream",
     "text": [
      "\n",
      "Unique values:\n"
     ]
    },
    {
     "data": {
      "text/plain": [
       "array([ 1,  3,  4,  2, 42, 37, 35, 25, 27, 31, 39, 21, 15, 14, 33, 19, 12,\n",
       "       13, 28, 47, 36, 29, 24, 46, 16, 22, 41, 49, 11, 48, 18, 10, 45, 38,\n",
       "       17, 20, 26, 43])"
      ]
     },
     "metadata": {},
     "output_type": "display_data"
    },
    {
     "name": "stdout",
     "output_type": "stream",
     "text": [
      "\n",
      "Value Counts:\n"
     ]
    },
    {
     "data": {
      "text/plain": [
       "EnvironmentSatisfaction\n",
       "4     460\n",
       "3     459\n",
       "1     298\n",
       "2     297\n",
       "12      7\n",
       "35      6\n",
       "13      6\n",
       "24      5\n",
       "47      5\n",
       "14      5\n",
       "41      4\n",
       "42      4\n",
       "46      4\n",
       "36      4\n",
       "48      4\n",
       "20      3\n",
       "22      3\n",
       "11      3\n",
       "18      3\n",
       "45      3\n",
       "27      3\n",
       "25      3\n",
       "17      3\n",
       "37      2\n",
       "38      2\n",
       "16      2\n",
       "31      2\n",
       "15      2\n",
       "19      2\n",
       "29      2\n",
       "28      1\n",
       "33      1\n",
       "21      1\n",
       "39      1\n",
       "49      1\n",
       "10      1\n",
       "26      1\n",
       "43      1\n",
       "Name: count, dtype: int64"
      ]
     },
     "metadata": {},
     "output_type": "display_data"
    },
    {
     "name": "stdout",
     "output_type": "stream",
     "text": [
      "\n",
      "Most frequent value (mode):\n"
     ]
    },
    {
     "data": {
      "text/plain": [
       "np.int64(4)"
      ]
     },
     "metadata": {},
     "output_type": "display_data"
    },
    {
     "name": "stdout",
     "output_type": "stream",
     "text": [
      "\n",
      "Count of duplicates in the column:\n"
     ]
    },
    {
     "data": {
      "text/plain": [
       "np.int64(1576)"
      ]
     },
     "metadata": {},
     "output_type": "display_data"
    }
   ],
   "source": [
    "autoEda = AutoEDA()\n",
    "df = autoEda.read_file(\"HR RAW DATA.csv\")\n",
    "autoEda.explo_df(df, 'EnvironmentSatisfaction')#aqui cambiamos el nombre de la columna "
   ]
  },
  {
   "cell_type": "code",
   "execution_count": 14,
   "metadata": {},
   "outputs": [
    {
     "name": "stdout",
     "output_type": "stream",
     "text": [
      "\n",
      "Exploration of the column: Gender\n",
      "\n",
      "Statistical description (numeric):\n"
     ]
    },
    {
     "data": {
      "text/plain": [
       "count    1614.000000\n",
       "mean        0.398389\n",
       "std         0.489718\n",
       "min         0.000000\n",
       "25%         0.000000\n",
       "50%         0.000000\n",
       "75%         1.000000\n",
       "max         1.000000\n",
       "Name: Gender, dtype: float64"
      ]
     },
     "metadata": {},
     "output_type": "display_data"
    },
    {
     "name": "stdout",
     "output_type": "stream",
     "text": [
      "\n",
      "Count of null values:\n"
     ]
    },
    {
     "data": {
      "text/plain": [
       "np.int64(0)"
      ]
     },
     "metadata": {},
     "output_type": "display_data"
    },
    {
     "name": "stdout",
     "output_type": "stream",
     "text": [
      "\n",
      "Count of unique values:\n"
     ]
    },
    {
     "data": {
      "text/plain": [
       "2"
      ]
     },
     "metadata": {},
     "output_type": "display_data"
    },
    {
     "name": "stdout",
     "output_type": "stream",
     "text": [
      "\n",
      "Unique values:\n"
     ]
    },
    {
     "data": {
      "text/plain": [
       "array([0, 1])"
      ]
     },
     "metadata": {},
     "output_type": "display_data"
    },
    {
     "name": "stdout",
     "output_type": "stream",
     "text": [
      "\n",
      "Value Counts:\n"
     ]
    },
    {
     "data": {
      "text/plain": [
       "Gender\n",
       "0    971\n",
       "1    643\n",
       "Name: count, dtype: int64"
      ]
     },
     "metadata": {},
     "output_type": "display_data"
    },
    {
     "name": "stdout",
     "output_type": "stream",
     "text": [
      "\n",
      "Most frequent value (mode):\n"
     ]
    },
    {
     "data": {
      "text/plain": [
       "np.int64(0)"
      ]
     },
     "metadata": {},
     "output_type": "display_data"
    },
    {
     "name": "stdout",
     "output_type": "stream",
     "text": [
      "\n",
      "Count of duplicates in the column:\n"
     ]
    },
    {
     "data": {
      "text/plain": [
       "np.int64(1612)"
      ]
     },
     "metadata": {},
     "output_type": "display_data"
    }
   ],
   "source": [
    "autoEda = AutoEDA()\n",
    "df = autoEda.read_file(\"HR RAW DATA.csv\")\n",
    "autoEda.explo_df(df, 'Gender')#aqui cambiamos el nombre de la columna "
   ]
  },
  {
   "cell_type": "code",
   "execution_count": 15,
   "metadata": {},
   "outputs": [
    {
     "name": "stdout",
     "output_type": "stream",
     "text": [
      "\n",
      "Exploration of the column: HourlyRate\n",
      "\n",
      "Statistical description (categorical):\n"
     ]
    },
    {
     "data": {
      "text/plain": [
       "count              1614\n",
       "unique               72\n",
       "top       Not Available\n",
       "freq                 84\n",
       "Name: HourlyRate, dtype: object"
      ]
     },
     "metadata": {},
     "output_type": "display_data"
    },
    {
     "name": "stdout",
     "output_type": "stream",
     "text": [
      "\n",
      "Count of null values:\n"
     ]
    },
    {
     "data": {
      "text/plain": [
       "np.int64(0)"
      ]
     },
     "metadata": {},
     "output_type": "display_data"
    },
    {
     "name": "stdout",
     "output_type": "stream",
     "text": [
      "\n",
      "Count of unique values:\n"
     ]
    },
    {
     "data": {
      "text/plain": [
       "72"
      ]
     },
     "metadata": {},
     "output_type": "display_data"
    },
    {
     "name": "stdout",
     "output_type": "stream",
     "text": [
      "\n",
      "Unique values:\n"
     ]
    },
    {
     "data": {
      "text/plain": [
       "array(['51', '65', '58', '82', '45', '99', '91', '64', '55', '68', '49',\n",
       "       '61', '79', '31', '69', '48', '80', '74', '98', '59', '33', '56',\n",
       "       '66', '57', '53', '87', '81', '84', '32', '41', '92', '47',\n",
       "       'Not Available', '43', '86', '30', '42', '88', '96', '67', '62',\n",
       "       '72', '78', '89', '52', '50', '90', '37', '94', '76', '60', '46',\n",
       "       '83', '100', '40', '97', '54', '75', '39', '85', '63', '44', '93',\n",
       "       '36', '35', '73', '71', '70', '38', '77', '95', '34'], dtype=object)"
      ]
     },
     "metadata": {},
     "output_type": "display_data"
    },
    {
     "name": "stdout",
     "output_type": "stream",
     "text": [
      "\n",
      "Value Counts:\n"
     ]
    },
    {
     "data": {
      "text/plain": [
       "HourlyRate\n",
       "Not Available    84\n",
       "42               33\n",
       "66               32\n",
       "48               30\n",
       "84               29\n",
       "                 ..\n",
       "50               15\n",
       "53               13\n",
       "68               13\n",
       "38               12\n",
       "34               11\n",
       "Name: count, Length: 72, dtype: int64"
      ]
     },
     "metadata": {},
     "output_type": "display_data"
    },
    {
     "name": "stdout",
     "output_type": "stream",
     "text": [
      "\n",
      "Most frequent value (mode):\n"
     ]
    },
    {
     "data": {
      "text/plain": [
       "'Not Available'"
      ]
     },
     "metadata": {},
     "output_type": "display_data"
    },
    {
     "name": "stdout",
     "output_type": "stream",
     "text": [
      "\n",
      "Count of duplicates in the column:\n"
     ]
    },
    {
     "data": {
      "text/plain": [
       "np.int64(1542)"
      ]
     },
     "metadata": {},
     "output_type": "display_data"
    }
   ],
   "source": [
    "autoEda = AutoEDA()\n",
    "df = autoEda.read_file(\"HR RAW DATA.csv\")\n",
    "autoEda.explo_df(df, 'HourlyRate')#aqui cambiamos el nombre de la columna "
   ]
  },
  {
   "cell_type": "code",
   "execution_count": 16,
   "metadata": {},
   "outputs": [
    {
     "name": "stdout",
     "output_type": "stream",
     "text": [
      "\n",
      "Exploration of the column: JobInvolvement\n",
      "\n",
      "Statistical description (numeric):\n"
     ]
    },
    {
     "data": {
      "text/plain": [
       "count    1614.000000\n",
       "mean        2.739777\n",
       "std         0.711567\n",
       "min         1.000000\n",
       "25%         2.000000\n",
       "50%         3.000000\n",
       "75%         3.000000\n",
       "max         4.000000\n",
       "Name: JobInvolvement, dtype: float64"
      ]
     },
     "metadata": {},
     "output_type": "display_data"
    },
    {
     "name": "stdout",
     "output_type": "stream",
     "text": [
      "\n",
      "Count of null values:\n"
     ]
    },
    {
     "data": {
      "text/plain": [
       "np.int64(0)"
      ]
     },
     "metadata": {},
     "output_type": "display_data"
    },
    {
     "name": "stdout",
     "output_type": "stream",
     "text": [
      "\n",
      "Count of unique values:\n"
     ]
    },
    {
     "data": {
      "text/plain": [
       "4"
      ]
     },
     "metadata": {},
     "output_type": "display_data"
    },
    {
     "name": "stdout",
     "output_type": "stream",
     "text": [
      "\n",
      "Unique values:\n"
     ]
    },
    {
     "data": {
      "text/plain": [
       "array([3, 2, 4, 1])"
      ]
     },
     "metadata": {},
     "output_type": "display_data"
    },
    {
     "name": "stdout",
     "output_type": "stream",
     "text": [
      "\n",
      "Value Counts:\n"
     ]
    },
    {
     "data": {
      "text/plain": [
       "JobInvolvement\n",
       "3    955\n",
       "2    406\n",
       "4    164\n",
       "1     89\n",
       "Name: count, dtype: int64"
      ]
     },
     "metadata": {},
     "output_type": "display_data"
    },
    {
     "name": "stdout",
     "output_type": "stream",
     "text": [
      "\n",
      "Most frequent value (mode):\n"
     ]
    },
    {
     "data": {
      "text/plain": [
       "np.int64(3)"
      ]
     },
     "metadata": {},
     "output_type": "display_data"
    },
    {
     "name": "stdout",
     "output_type": "stream",
     "text": [
      "\n",
      "Count of duplicates in the column:\n"
     ]
    },
    {
     "data": {
      "text/plain": [
       "np.int64(1610)"
      ]
     },
     "metadata": {},
     "output_type": "display_data"
    }
   ],
   "source": [
    "autoEda = AutoEDA()\n",
    "df = autoEda.read_file(\"HR RAW DATA.csv\")\n",
    "autoEda.explo_df(df, 'JobInvolvement')#aqui cambiamos el nombre de la columna "
   ]
  },
  {
   "cell_type": "code",
   "execution_count": 18,
   "metadata": {},
   "outputs": [
    {
     "name": "stdout",
     "output_type": "stream",
     "text": [
      "\n",
      "Exploration of the column: JobLevel\n",
      "\n",
      "Statistical description (numeric):\n"
     ]
    },
    {
     "data": {
      "text/plain": [
       "count    1614.000000\n",
       "mean        2.068154\n",
       "std         1.101344\n",
       "min         1.000000\n",
       "25%         1.000000\n",
       "50%         2.000000\n",
       "75%         3.000000\n",
       "max         5.000000\n",
       "Name: JobLevel, dtype: float64"
      ]
     },
     "metadata": {},
     "output_type": "display_data"
    },
    {
     "name": "stdout",
     "output_type": "stream",
     "text": [
      "\n",
      "Count of null values:\n"
     ]
    },
    {
     "data": {
      "text/plain": [
       "np.int64(0)"
      ]
     },
     "metadata": {},
     "output_type": "display_data"
    },
    {
     "name": "stdout",
     "output_type": "stream",
     "text": [
      "\n",
      "Count of unique values:\n"
     ]
    },
    {
     "data": {
      "text/plain": [
       "5"
      ]
     },
     "metadata": {},
     "output_type": "display_data"
    },
    {
     "name": "stdout",
     "output_type": "stream",
     "text": [
      "\n",
      "Unique values:\n"
     ]
    },
    {
     "data": {
      "text/plain": [
       "array([5, 4, 3, 2, 1])"
      ]
     },
     "metadata": {},
     "output_type": "display_data"
    },
    {
     "name": "stdout",
     "output_type": "stream",
     "text": [
      "\n",
      "Value Counts:\n"
     ]
    },
    {
     "data": {
      "text/plain": [
       "JobLevel\n",
       "2    597\n",
       "1    586\n",
       "3    242\n",
       "4    113\n",
       "5     76\n",
       "Name: count, dtype: int64"
      ]
     },
     "metadata": {},
     "output_type": "display_data"
    },
    {
     "name": "stdout",
     "output_type": "stream",
     "text": [
      "\n",
      "Most frequent value (mode):\n"
     ]
    },
    {
     "data": {
      "text/plain": [
       "np.int64(2)"
      ]
     },
     "metadata": {},
     "output_type": "display_data"
    },
    {
     "name": "stdout",
     "output_type": "stream",
     "text": [
      "\n",
      "Count of duplicates in the column:\n"
     ]
    },
    {
     "data": {
      "text/plain": [
       "np.int64(1609)"
      ]
     },
     "metadata": {},
     "output_type": "display_data"
    }
   ],
   "source": [
    "autoEda = AutoEDA()\n",
    "df = autoEda.read_file(\"HR RAW DATA.csv\")\n",
    "autoEda.explo_df(df, \"JobLevel\")\n"
   ]
  },
  {
   "cell_type": "code",
   "execution_count": 19,
   "metadata": {},
   "outputs": [
    {
     "name": "stdout",
     "output_type": "stream",
     "text": [
      "\n",
      "Exploration of the column: JobRole\n",
      "\n",
      "Statistical description (categorical):\n"
     ]
    },
    {
     "data": {
      "text/plain": [
       "count          1614\n",
       "unique         1579\n",
       "top        mANager \n",
       "freq              4\n",
       "Name: JobRole, dtype: object"
      ]
     },
     "metadata": {},
     "output_type": "display_data"
    },
    {
     "name": "stdout",
     "output_type": "stream",
     "text": [
      "\n",
      "Count of null values:\n"
     ]
    },
    {
     "data": {
      "text/plain": [
       "np.int64(0)"
      ]
     },
     "metadata": {},
     "output_type": "display_data"
    },
    {
     "name": "stdout",
     "output_type": "stream",
     "text": [
      "\n",
      "Count of unique values:\n"
     ]
    },
    {
     "data": {
      "text/plain": [
       "1579"
      ]
     },
     "metadata": {},
     "output_type": "display_data"
    },
    {
     "name": "stdout",
     "output_type": "stream",
     "text": [
      "\n",
      "Unique values:\n"
     ]
    },
    {
     "data": {
      "text/plain": [
       "array([' resEArch DIREcToR ', ' ManAGeR ', ' ManaGER ', ...,\n",
       "       ' sAlES ExECUTivE ', ' SaLes ExecUtIVe ',\n",
       "       ' mAnUfactURInG DiRECTOr '], dtype=object)"
      ]
     },
     "metadata": {},
     "output_type": "display_data"
    },
    {
     "name": "stdout",
     "output_type": "stream",
     "text": [
      "\n",
      "Value Counts:\n"
     ]
    },
    {
     "data": {
      "text/plain": [
       "JobRole\n",
       "mANager                   4\n",
       "MANAgER                   3\n",
       "ManageR                   3\n",
       "mAnaGeR                   3\n",
       "ManagEr                   3\n",
       "                         ..\n",
       "LAbOrATOry techNicIan     1\n",
       "sAlEs Executive           1\n",
       "rEsEARch sCientIST        1\n",
       "ResEaRcH scIEnTIsT        1\n",
       "SalEs exECUTIvE           1\n",
       "Name: count, Length: 1579, dtype: int64"
      ]
     },
     "metadata": {},
     "output_type": "display_data"
    },
    {
     "name": "stdout",
     "output_type": "stream",
     "text": [
      "\n",
      "Most frequent value (mode):\n"
     ]
    },
    {
     "data": {
      "text/plain": [
       "' mANager '"
      ]
     },
     "metadata": {},
     "output_type": "display_data"
    },
    {
     "name": "stdout",
     "output_type": "stream",
     "text": [
      "\n",
      "Count of duplicates in the column:\n"
     ]
    },
    {
     "data": {
      "text/plain": [
       "np.int64(35)"
      ]
     },
     "metadata": {},
     "output_type": "display_data"
    }
   ],
   "source": [
    "autoEda = AutoEDA()\n",
    "df = autoEda.read_file(\"HR RAW DATA.csv\")\n",
    "autoEda.explo_df(df, \"JobRole\")"
   ]
  },
  {
   "cell_type": "code",
   "execution_count": 20,
   "metadata": {},
   "outputs": [
    {
     "name": "stdout",
     "output_type": "stream",
     "text": [
      "\n",
      "Exploration of the column: JobSatisfaction\n",
      "\n",
      "Statistical description (numeric):\n"
     ]
    },
    {
     "data": {
      "text/plain": [
       "count    1614.000000\n",
       "mean        2.738538\n",
       "std         1.106163\n",
       "min         1.000000\n",
       "25%         2.000000\n",
       "50%         3.000000\n",
       "75%         4.000000\n",
       "max         4.000000\n",
       "Name: JobSatisfaction, dtype: float64"
      ]
     },
     "metadata": {},
     "output_type": "display_data"
    },
    {
     "name": "stdout",
     "output_type": "stream",
     "text": [
      "\n",
      "Count of null values:\n"
     ]
    },
    {
     "data": {
      "text/plain": [
       "np.int64(0)"
      ]
     },
     "metadata": {},
     "output_type": "display_data"
    },
    {
     "name": "stdout",
     "output_type": "stream",
     "text": [
      "\n",
      "Count of unique values:\n"
     ]
    },
    {
     "data": {
      "text/plain": [
       "4"
      ]
     },
     "metadata": {},
     "output_type": "display_data"
    },
    {
     "name": "stdout",
     "output_type": "stream",
     "text": [
      "\n",
      "Unique values:\n"
     ]
    },
    {
     "data": {
      "text/plain": [
       "array([3, 4, 1, 2])"
      ]
     },
     "metadata": {},
     "output_type": "display_data"
    },
    {
     "name": "stdout",
     "output_type": "stream",
     "text": [
      "\n",
      "Value Counts:\n"
     ]
    },
    {
     "data": {
      "text/plain": [
       "JobSatisfaction\n",
       "4    514\n",
       "3    481\n",
       "1    317\n",
       "2    302\n",
       "Name: count, dtype: int64"
      ]
     },
     "metadata": {},
     "output_type": "display_data"
    },
    {
     "name": "stdout",
     "output_type": "stream",
     "text": [
      "\n",
      "Most frequent value (mode):\n"
     ]
    },
    {
     "data": {
      "text/plain": [
       "np.int64(4)"
      ]
     },
     "metadata": {},
     "output_type": "display_data"
    },
    {
     "name": "stdout",
     "output_type": "stream",
     "text": [
      "\n",
      "Count of duplicates in the column:\n"
     ]
    },
    {
     "data": {
      "text/plain": [
       "np.int64(1610)"
      ]
     },
     "metadata": {},
     "output_type": "display_data"
    }
   ],
   "source": [
    "autoEda = AutoEDA()\n",
    "df = autoEda.read_file(\"HR RAW DATA.csv\")\n",
    "autoEda.explo_df(df, \"JobSatisfaction\")"
   ]
  },
  {
   "cell_type": "code",
   "execution_count": 21,
   "metadata": {},
   "outputs": [
    {
     "name": "stdout",
     "output_type": "stream",
     "text": [
      "\n",
      "Exploration of the column: MaritalStatus\n",
      "\n",
      "Statistical description (categorical):\n"
     ]
    },
    {
     "data": {
      "text/plain": [
       "count         963\n",
       "unique          5\n",
       "top       Married\n",
       "freq          404\n",
       "Name: MaritalStatus, dtype: object"
      ]
     },
     "metadata": {},
     "output_type": "display_data"
    },
    {
     "name": "stdout",
     "output_type": "stream",
     "text": [
      "\n",
      "Count of null values:\n"
     ]
    },
    {
     "data": {
      "text/plain": [
       "np.int64(651)"
      ]
     },
     "metadata": {},
     "output_type": "display_data"
    },
    {
     "name": "stdout",
     "output_type": "stream",
     "text": [
      "\n",
      "Count of unique values:\n"
     ]
    },
    {
     "data": {
      "text/plain": [
       "5"
      ]
     },
     "metadata": {},
     "output_type": "display_data"
    },
    {
     "name": "stdout",
     "output_type": "stream",
     "text": [
      "\n",
      "Unique values:\n"
     ]
    },
    {
     "data": {
      "text/plain": [
       "array([nan, 'Married', 'Divorced', 'Single', 'divorced', 'Marreid'],\n",
       "      dtype=object)"
      ]
     },
     "metadata": {},
     "output_type": "display_data"
    },
    {
     "name": "stdout",
     "output_type": "stream",
     "text": [
      "\n",
      "Value Counts:\n"
     ]
    },
    {
     "data": {
      "text/plain": [
       "MaritalStatus\n",
       "Married     404\n",
       "Single      325\n",
       "Divorced    188\n",
       "Marreid      35\n",
       "divorced     11\n",
       "Name: count, dtype: int64"
      ]
     },
     "metadata": {},
     "output_type": "display_data"
    },
    {
     "name": "stdout",
     "output_type": "stream",
     "text": [
      "\n",
      "Most frequent value (mode):\n"
     ]
    },
    {
     "data": {
      "text/plain": [
       "'Married'"
      ]
     },
     "metadata": {},
     "output_type": "display_data"
    },
    {
     "name": "stdout",
     "output_type": "stream",
     "text": [
      "\n",
      "Count of duplicates in the column:\n"
     ]
    },
    {
     "data": {
      "text/plain": [
       "np.int64(1608)"
      ]
     },
     "metadata": {},
     "output_type": "display_data"
    }
   ],
   "source": [
    "autoEda = AutoEDA()\n",
    "df = autoEda.read_file(\"HR RAW DATA.csv\")\n",
    "autoEda.explo_df(df, \"MaritalStatus\")"
   ]
  },
  {
   "cell_type": "code",
   "execution_count": 22,
   "metadata": {},
   "outputs": [
    {
     "name": "stdout",
     "output_type": "stream",
     "text": [
      "\n",
      "Exploration of the column: MonthlyIncome\n",
      "\n",
      "Statistical description (categorical):\n"
     ]
    },
    {
     "data": {
      "text/plain": [
       "count        771\n",
       "unique       668\n",
       "top       6347,0\n",
       "freq           4\n",
       "Name: MonthlyIncome, dtype: object"
      ]
     },
     "metadata": {},
     "output_type": "display_data"
    },
    {
     "name": "stdout",
     "output_type": "stream",
     "text": [
      "\n",
      "Count of null values:\n"
     ]
    },
    {
     "data": {
      "text/plain": [
       "np.int64(843)"
      ]
     },
     "metadata": {},
     "output_type": "display_data"
    },
    {
     "name": "stdout",
     "output_type": "stream",
     "text": [
      "\n",
      "Count of unique values:\n"
     ]
    },
    {
     "data": {
      "text/plain": [
       "668"
      ]
     },
     "metadata": {},
     "output_type": "display_data"
    },
    {
     "name": "stdout",
     "output_type": "stream",
     "text": [
      "\n",
      "Unique values:\n"
     ]
    },
    {
     "data": {
      "text/plain": [
       "array(['19537,0', '19999,0', '19232,0', '17169,0', nan, '17174,0',\n",
       "       '16595,0', '19973,0', '13402,0', '13206,0', '19545,0', '18041,0',\n",
       "       '19246,0', '10748,0', '16752,0', '6201,0', '19845,0', '4001,0',\n",
       "       '10447,0', '16064,0', '3210,0', '10266,0', '10475,0', '6162,0',\n",
       "       '4721,0', '4615,0', '16959,0', '10306,0', '5406,0', '5902,0',\n",
       "       '10855,0', '5914,0', '6646,0', '13973,0', '13320,0', '6687,0',\n",
       "       '4735,0', '13872,0', '19045,0', '16015,0', '9613,0', '11510,0',\n",
       "       '4306,0', '17046,0', '5067,0', '3692,0', '19847,0', '2308,0',\n",
       "       '5747,0', '10422,0', '6347,0', '2348,0', '3072,0', '12490,0',\n",
       "       '8020,0', '17068,0', '8943,0', '19272,0', '5577,0', '2691,0',\n",
       "       '7403,0', '8823,0', '3579,0', '17779,0', '18213,0', '13577,0',\n",
       "       '19190,0', '17123,0', '19187,0', '10008,0', '7988,0', '7083,0',\n",
       "       '4723,0', '3407,0', '2929,0', '12031,0', '15427,0', '5126,0',\n",
       "       '9619,0', '5010,0', '19033,0', '10400,0', '2793,0', '5674,0',\n",
       "       '19197,0', '8412,0', '3348,0', '5309,0', '7654,0', '12808,0',\n",
       "       '6586,0', '2519,0', '17099,0', '13120,0', '3131,0', '4444,0',\n",
       "       '6674,0', '9852,0', '17861,0', '7446,0', '13757,0', '16598,0',\n",
       "       '4285,0', '10124,0', '9714,0', '9924,0', '11245,0', '3069,0',\n",
       "       '9241,0', '6472,0', '3055,0', '8321,0', '3143,0', '8578,0',\n",
       "       '4197,0', '9888,0', '13341,0', '5677,0', '2909,0', '9526,0',\n",
       "       '6825,0', '4424,0', '5441,0', '6074,0', '6146,0', '6172,0',\n",
       "       '4668,0', '5605,0', '4319,0', '3564,0', '6261,0', '6804,0',\n",
       "       '19436,0', '5828,0', '2455,0', '5055,0', '4682,0', '5257,0',\n",
       "       '2119,0', '5974,0', '3034,0', '13212,0', '8392,0', '4051,0',\n",
       "       '4805,0', '2741,0', '5337,0', '9434,0', '5396,0', '11159,0',\n",
       "       '4960,0', '8793,0', '19189,0', '2216,0', '11713,0', '5304,0',\n",
       "       '11103,0', '6632,0', '7587,0', '4335,0', '5980,0', '4244,0',\n",
       "       '5228,0', '2700,0', '2366,0', '2329,0', '4294,0', '6725,0',\n",
       "       '10325,0', '4447,0', '10845,0', '5472,0', '6385,0', '7525,0',\n",
       "       '3660,0', '8740,0', '13499,0', '3491,0', '5220,0', '10252,0',\n",
       "       '19740,0', '6209,0', '7094,0', '4534,0', '8500,0', '4639,0',\n",
       "       '5363,0', '4081,0', '3578,0', '17328,0', '10793,0', '10851,0',\n",
       "       '10466,0', '2362,0', '6439,0', '5769,0', '4385,0', '4066,0',\n",
       "       '5206,0', '2655,0', '2570,0', '4502,0', '4968,0', '5147,0',\n",
       "       '2718,0', '3539,0', '5468,0', '5813,0', '9667,0', '5154,0',\n",
       "       '5675,0', '7314,0', '5098,0', '13570,0', '6712,0', '9991,0',\n",
       "       '10248,0', '10938,0', '2593,0', '11878,0', '8095,0', '16856,0',\n",
       "       '4537,0', '17924,0', '4014,0', '12742,0', '3376,0', '10482,0',\n",
       "       '4249,0', '6549,0', '14411,0', '19586,0', '8237,0', '3211,0',\n",
       "       '16704,0', '4774,0', '4568,0', '5993,0', '6499,0', '3452,0',\n",
       "       '6397,0', '2725,0', '3622,0', '6180,0', '6274,0', '4381,0',\n",
       "       '2559,0', '5488,0', '2514,0', '3196,0', '3420,0', '4087,0',\n",
       "       '5368,0', '12936,0', '4221,0', '4963,0', '4200,0', '5006,0',\n",
       "       '7639,0', '6502,0', '13525,0', '6349,0', '6380,0', '3102,0',\n",
       "       '4556,0', '4230,0', '4859,0', '6322,0', '10761,0', '2973,0',\n",
       "       '5204,0', '17399,0', '16885,0', '4323,0', '5155,0', '2936,0',\n",
       "       '18789,0', '4883,0', '2029,0', '2996,0', '9278,0', '4162,0',\n",
       "       '8853,0', '4876,0', '2141,0', '7756,0', '3936,0', '6842,0',\n",
       "       '3989,0', '4930,0', '3702,0', '2705,0', '4448,0', '2379,0',\n",
       "       '5487,0', '2810,0', '8938,0', '9936,0', '5454,0', '18740,0',\n",
       "       '5473,0', '13503,0', '13549,0', '18172,0', '2774,0', '9439,0',\n",
       "       '5265,0', '3815,0', '2389,0', '4000,0', '17584,0', '5661,0',\n",
       "       '4869,0', '4649,0', '10496,0', '2768,0', '3408,0', '3755,0',\n",
       "       '2187,0', '4258,0', '5326,0', '5485,0', '2782,0', '17639,0',\n",
       "       '6062,0', '6288,0', '3424,0', '4194,0', '2532,0', '5666,0',\n",
       "       '13726,0', '4107,0', '3597,0', '4115,0', '6272,0', '2517,0',\n",
       "       '3904,0', '9204,0', '4373,0', '2064,0', '2430,0', '4877,0',\n",
       "       '3760,0', '2013,0', '2974,0', '2766,0', '3377,0', '4213,0',\n",
       "       '6513,0', '4284,0', '2226,0', '5561,0', '2144,0', '5373,0',\n",
       "       '2897,0', '5321,0', '5410,0', '4850,0', '2001,0', '4404,0',\n",
       "       '3944,0', '2960,0', '18947,0', '6465,0', '2683,0', '2014,0',\n",
       "       '3441,0', '13664,0', '5021,0', '18844,0', '4739,0', '10650,0',\n",
       "       '4317,0', '2024,0', '3058,0', '3929,0', '4425,0', '2328,0',\n",
       "       '2657,0', '5940,0', '2622,0', '3212,0', '2911,0', '6931,0',\n",
       "       '2176,0', '3230,0', '18665,0', '2789,0', '6410,0', '4941,0',\n",
       "       '3983,0', '2904,0', '2696,0', '2174,0', '6755,0', '10965,0',\n",
       "       '2543,0', '19406,0', '6538,0', '2258,0', '2218,0', '2654,0',\n",
       "       '11935,0', '2546,0', '3894,0', '4262,0', '10527,0', '2400,0',\n",
       "       '3681,0', '3447,0', '19513,0', '2659,0', '8847,0', '2045,0',\n",
       "       '4851,0', '8120,0', '4577,0', '5405,0', '3708,0', '13770,0',\n",
       "       '2297,0', '2450,0', '4342,0', '2572,0', '6500,0', '3149,0',\n",
       "       '5324,0', '4382,0', '2553,0', '5933,0', '4403,0', '10934,0',\n",
       "       '2022,0', '4256,0', '3580,0', '2899,0', '5562,0', '2377,0',\n",
       "       '2404,0', '2799,0', '2811,0', '4377,0', '4240,0', '4227,0',\n",
       "       '3917,0', '4969,0', '2042,0', '2821,0', '9957,0', '2207,0',\n",
       "       '2070,0', '2791,0', '8224,0', '2610,0', '5731,0', '2539,0',\n",
       "       '2376,0', '19081,0', '2743,0', '4538,0', '3867,0', '2080,0',\n",
       "       '2096,0', '4627,0', '2302,0', '5071,0', '10596,0', '5467,0',\n",
       "       '2394,0', '3629,0', '9362,0', '3229,0', '16422,0', '5647,0',\n",
       "       '4400,0', '2066,0', '5486,0', '3162,0', '6651,0', '4898,0',\n",
       "       '3180,0', '11244,0', '4069,0', '6392,0', '4855,0', '3312,0',\n",
       "       '3117,0', '15202,0', '2580,0', '2166,0', '4374,0', '5505,0',\n",
       "       '2587,0', '15972,0', '2305,0', '3433,0', '3477,0', '3907,0',\n",
       "       '3445,0', '2760,0', '6294,0', '13116,0', '3591,0', '2105,0',\n",
       "       '3902,0', '2662,0', '2062,0', '5507,0', '8103,0', '3978,0',\n",
       "       '5399,0', '10448,0', '4440,0', '2660,0', '3375,0', '2269,0',\n",
       "       '4787,0', '2809,0', '10854,0', '2571,0', '6142,0', '2496,0',\n",
       "       '3419,0', '2501,0', '2566,0', '3920,0', '13964,0', '6540,0',\n",
       "       '2244,0', '16184,0', '4233,0', '14814,0', '17159,0', '2318,0',\n",
       "       '3617,0', '2684,0', '19237,0', '4422,0', '2552,0', '2678,0',\n",
       "       '5171,0', '11916,0', '9380,0', '5878,0', '2468,0', '4127,0',\n",
       "       '2148,0', '3886,0', '6667,0', '2090,0', '2086,0', '1951,0',\n",
       "       '3022,0', '9724,0', '3388,0', '3038,0', '2322,0', '2926,0',\n",
       "       '4505,0', '2835,0', '6553,0', '6673,0', '13591,0', '2177,0',\n",
       "       '19517,0', '19202,0', '10048,0', '2723,0', '6644,0', '3161,0',\n",
       "       '1420,0', '1200,0', '5238,0', '9985,0', '15992,0', '2370,0',\n",
       "       '6781,0', '6653,0', '2851,0', '5258,0', '2476,0', '2285,0',\n",
       "       '3448,0', '4558,0', '1702,0', '2564,0', '5070,0', '3780,0',\n",
       "       '9824,0', '1878,0', '2340,0', '2127,0', '2033,0', '9602,0',\n",
       "       '16627,0', '2083,0', '1009,0', '7861,0', '2642,0', '5121,0',\n",
       "       '2694,0', '5094,0', '2274,0', '2314,0', '2380,0', '2008,0',\n",
       "       '10552,0', '2259,0', '2413,0', '2121,0', '2479,0', '13194,0',\n",
       "       '4163,0', '2600,0', '18303,0', '4777,0', '1052,0', '2461,0',\n",
       "       '2596,0', '4728,0', '7351,0', '4766,0', '2827,0', '2853,0',\n",
       "       '2290,0', '2107,0', '2210,0', '13191,0', '18265,0', '1118,0',\n",
       "       '2372,0', '2838,0', '18061,0', '1611,0', '4768,0', '1274,0',\n",
       "       '2561,0', '1563,0', '6388,0', '8376,0', '4841,0', '2074,0',\n",
       "       '2972,0', '6815,0', '2690,0', '17567,0', '1569,0', '4187,0',\n",
       "       '3306,0', '1393,0', '10883,0', '2862,0', '6735,0', '9756,0',\n",
       "       '5294,0', '2437,0', '4071,0', '2956,0', '4648,0', '2804,0',\n",
       "       '2439,0', '2856,0', '2933,0', '1091,0', '5151,0', '2863,0',\n",
       "       '2858,0', '1129,0', '19431,0'], dtype=object)"
      ]
     },
     "metadata": {},
     "output_type": "display_data"
    },
    {
     "name": "stdout",
     "output_type": "stream",
     "text": [
      "\n",
      "Value Counts:\n"
     ]
    },
    {
     "data": {
      "text/plain": [
       "MonthlyIncome\n",
       "6347,0     4\n",
       "5304,0     4\n",
       "2657,0     3\n",
       "2258,0     3\n",
       "2380,0     2\n",
       "          ..\n",
       "19845,0    1\n",
       "6201,0     1\n",
       "16752,0    1\n",
       "10748,0    1\n",
       "19246,0    1\n",
       "Name: count, Length: 668, dtype: int64"
      ]
     },
     "metadata": {},
     "output_type": "display_data"
    },
    {
     "name": "stdout",
     "output_type": "stream",
     "text": [
      "\n",
      "Most frequent value (mode):\n"
     ]
    },
    {
     "data": {
      "text/plain": [
       "'5304,0'"
      ]
     },
     "metadata": {},
     "output_type": "display_data"
    },
    {
     "name": "stdout",
     "output_type": "stream",
     "text": [
      "\n",
      "Count of duplicates in the column:\n"
     ]
    },
    {
     "data": {
      "text/plain": [
       "np.int64(945)"
      ]
     },
     "metadata": {},
     "output_type": "display_data"
    }
   ],
   "source": [
    "autoEda = AutoEDA()\n",
    "df = autoEda.read_file(\"HR RAW DATA.csv\")\n",
    "autoEda.explo_df(df, \"MonthlyIncome\")"
   ]
  },
  {
   "cell_type": "code",
   "execution_count": 23,
   "metadata": {},
   "outputs": [
    {
     "name": "stdout",
     "output_type": "stream",
     "text": [
      "\n",
      "Exploration of the column: MonthlyRate\n",
      "\n",
      "Statistical description (numeric):\n"
     ]
    },
    {
     "data": {
      "text/plain": [
       "count     1614.000000\n",
       "mean     14284.495663\n",
       "std       7110.414585\n",
       "min       2094.000000\n",
       "25%       8001.000000\n",
       "50%      14248.500000\n",
       "75%      20364.000000\n",
       "max      26999.000000\n",
       "Name: MonthlyRate, dtype: float64"
      ]
     },
     "metadata": {},
     "output_type": "display_data"
    },
    {
     "name": "stdout",
     "output_type": "stream",
     "text": [
      "\n",
      "Count of null values:\n"
     ]
    },
    {
     "data": {
      "text/plain": [
       "np.int64(0)"
      ]
     },
     "metadata": {},
     "output_type": "display_data"
    },
    {
     "name": "stdout",
     "output_type": "stream",
     "text": [
      "\n",
      "Count of unique values:\n"
     ]
    },
    {
     "data": {
      "text/plain": [
       "1427"
      ]
     },
     "metadata": {},
     "output_type": "display_data"
    },
    {
     "name": "stdout",
     "output_type": "stream",
     "text": [
      "\n",
      "Unique values:\n"
     ]
    },
    {
     "data": {
      "text/plain": [
       "array([ 6462,  5678,  4933, ..., 15302, 26956, 16642])"
      ]
     },
     "metadata": {},
     "output_type": "display_data"
    },
    {
     "name": "stdout",
     "output_type": "stream",
     "text": [
      "\n",
      "Value Counts:\n"
     ]
    },
    {
     "data": {
      "text/plain": [
       "MonthlyRate\n",
       "9150     4\n",
       "6069     3\n",
       "4156     3\n",
       "11737    3\n",
       "25326    3\n",
       "        ..\n",
       "17089    1\n",
       "19982    1\n",
       "12449    1\n",
       "5829     1\n",
       "24164    1\n",
       "Name: count, Length: 1427, dtype: int64"
      ]
     },
     "metadata": {},
     "output_type": "display_data"
    },
    {
     "name": "stdout",
     "output_type": "stream",
     "text": [
      "\n",
      "Most frequent value (mode):\n"
     ]
    },
    {
     "data": {
      "text/plain": [
       "np.int64(9150)"
      ]
     },
     "metadata": {},
     "output_type": "display_data"
    },
    {
     "name": "stdout",
     "output_type": "stream",
     "text": [
      "\n",
      "Count of duplicates in the column:\n"
     ]
    },
    {
     "data": {
      "text/plain": [
       "np.int64(187)"
      ]
     },
     "metadata": {},
     "output_type": "display_data"
    }
   ],
   "source": [
    "autoEda = AutoEDA()\n",
    "df = autoEda.read_file(\"HR RAW DATA.csv\")\n",
    "autoEda.explo_df(df, \"MonthlyRate\")"
   ]
  },
  {
   "cell_type": "code",
   "execution_count": 24,
   "metadata": {},
   "outputs": [
    {
     "name": "stdout",
     "output_type": "stream",
     "text": [
      "\n",
      "Exploration of the column: NUMCOMPANIESWORKED\n",
      "\n",
      "Statistical description (numeric):\n"
     ]
    },
    {
     "data": {
      "text/plain": [
       "count    1614.000000\n",
       "mean        2.673482\n",
       "std         2.506152\n",
       "min         0.000000\n",
       "25%         1.000000\n",
       "50%         2.000000\n",
       "75%         4.000000\n",
       "max         9.000000\n",
       "Name: NUMCOMPANIESWORKED, dtype: float64"
      ]
     },
     "metadata": {},
     "output_type": "display_data"
    },
    {
     "name": "stdout",
     "output_type": "stream",
     "text": [
      "\n",
      "Count of null values:\n"
     ]
    },
    {
     "data": {
      "text/plain": [
       "np.int64(0)"
      ]
     },
     "metadata": {},
     "output_type": "display_data"
    },
    {
     "name": "stdout",
     "output_type": "stream",
     "text": [
      "\n",
      "Count of unique values:\n"
     ]
    },
    {
     "data": {
      "text/plain": [
       "10"
      ]
     },
     "metadata": {},
     "output_type": "display_data"
    },
    {
     "name": "stdout",
     "output_type": "stream",
     "text": [
      "\n",
      "Unique values:\n"
     ]
    },
    {
     "data": {
      "text/plain": [
       "array([7, 0, 1, 3, 2, 4, 8, 9, 5, 6])"
      ]
     },
     "metadata": {},
     "output_type": "display_data"
    },
    {
     "name": "stdout",
     "output_type": "stream",
     "text": [
      "\n",
      "Value Counts:\n"
     ]
    },
    {
     "data": {
      "text/plain": [
       "NUMCOMPANIESWORKED\n",
       "1    573\n",
       "0    226\n",
       "3    169\n",
       "4    157\n",
       "2    156\n",
       "7     84\n",
       "6     73\n",
       "5     66\n",
       "9     59\n",
       "8     51\n",
       "Name: count, dtype: int64"
      ]
     },
     "metadata": {},
     "output_type": "display_data"
    },
    {
     "name": "stdout",
     "output_type": "stream",
     "text": [
      "\n",
      "Most frequent value (mode):\n"
     ]
    },
    {
     "data": {
      "text/plain": [
       "np.int64(1)"
      ]
     },
     "metadata": {},
     "output_type": "display_data"
    },
    {
     "name": "stdout",
     "output_type": "stream",
     "text": [
      "\n",
      "Count of duplicates in the column:\n"
     ]
    },
    {
     "data": {
      "text/plain": [
       "np.int64(1604)"
      ]
     },
     "metadata": {},
     "output_type": "display_data"
    }
   ],
   "source": [
    "autoEda = AutoEDA()\n",
    "df = autoEda.read_file(\"HR RAW DATA.csv\")\n",
    "autoEda.explo_df(df, \"NUMCOMPANIESWORKED\")"
   ]
  },
  {
   "cell_type": "code",
   "execution_count": 25,
   "metadata": {},
   "outputs": [
    {
     "name": "stdout",
     "output_type": "stream",
     "text": [
      "\n",
      "Exploration of the column: Over18\n",
      "\n",
      "Statistical description (categorical):\n"
     ]
    },
    {
     "data": {
      "text/plain": [
       "count     713\n",
       "unique      1\n",
       "top         Y\n",
       "freq      713\n",
       "Name: Over18, dtype: object"
      ]
     },
     "metadata": {},
     "output_type": "display_data"
    },
    {
     "name": "stdout",
     "output_type": "stream",
     "text": [
      "\n",
      "Count of null values:\n"
     ]
    },
    {
     "data": {
      "text/plain": [
       "np.int64(901)"
      ]
     },
     "metadata": {},
     "output_type": "display_data"
    },
    {
     "name": "stdout",
     "output_type": "stream",
     "text": [
      "\n",
      "Count of unique values:\n"
     ]
    },
    {
     "data": {
      "text/plain": [
       "1"
      ]
     },
     "metadata": {},
     "output_type": "display_data"
    },
    {
     "name": "stdout",
     "output_type": "stream",
     "text": [
      "\n",
      "Unique values:\n"
     ]
    },
    {
     "data": {
      "text/plain": [
       "array(['Y', nan], dtype=object)"
      ]
     },
     "metadata": {},
     "output_type": "display_data"
    },
    {
     "name": "stdout",
     "output_type": "stream",
     "text": [
      "\n",
      "Value Counts:\n"
     ]
    },
    {
     "data": {
      "text/plain": [
       "Over18\n",
       "Y    713\n",
       "Name: count, dtype: int64"
      ]
     },
     "metadata": {},
     "output_type": "display_data"
    },
    {
     "name": "stdout",
     "output_type": "stream",
     "text": [
      "\n",
      "Most frequent value (mode):\n"
     ]
    },
    {
     "data": {
      "text/plain": [
       "'Y'"
      ]
     },
     "metadata": {},
     "output_type": "display_data"
    },
    {
     "name": "stdout",
     "output_type": "stream",
     "text": [
      "\n",
      "Count of duplicates in the column:\n"
     ]
    },
    {
     "data": {
      "text/plain": [
       "np.int64(1612)"
      ]
     },
     "metadata": {},
     "output_type": "display_data"
    }
   ],
   "source": [
    "autoEda = AutoEDA()\n",
    "df = autoEda.read_file(\"HR RAW DATA.csv\")\n",
    "autoEda.explo_df(df, \"Over18\")\n"
   ]
  },
  {
   "cell_type": "code",
   "execution_count": 26,
   "metadata": {},
   "outputs": [
    {
     "name": "stdout",
     "output_type": "stream",
     "text": [
      "\n",
      "Exploration of the column: OverTime\n",
      "\n",
      "Statistical description (categorical):\n"
     ]
    },
    {
     "data": {
      "text/plain": [
       "count     938\n",
       "unique      2\n",
       "top        No\n",
       "freq      682\n",
       "Name: OverTime, dtype: object"
      ]
     },
     "metadata": {},
     "output_type": "display_data"
    },
    {
     "name": "stdout",
     "output_type": "stream",
     "text": [
      "\n",
      "Count of null values:\n"
     ]
    },
    {
     "data": {
      "text/plain": [
       "np.int64(676)"
      ]
     },
     "metadata": {},
     "output_type": "display_data"
    },
    {
     "name": "stdout",
     "output_type": "stream",
     "text": [
      "\n",
      "Count of unique values:\n"
     ]
    },
    {
     "data": {
      "text/plain": [
       "2"
      ]
     },
     "metadata": {},
     "output_type": "display_data"
    },
    {
     "name": "stdout",
     "output_type": "stream",
     "text": [
      "\n",
      "Unique values:\n"
     ]
    },
    {
     "data": {
      "text/plain": [
       "array(['No', nan, 'Yes'], dtype=object)"
      ]
     },
     "metadata": {},
     "output_type": "display_data"
    },
    {
     "name": "stdout",
     "output_type": "stream",
     "text": [
      "\n",
      "Value Counts:\n"
     ]
    },
    {
     "data": {
      "text/plain": [
       "OverTime\n",
       "No     682\n",
       "Yes    256\n",
       "Name: count, dtype: int64"
      ]
     },
     "metadata": {},
     "output_type": "display_data"
    },
    {
     "name": "stdout",
     "output_type": "stream",
     "text": [
      "\n",
      "Most frequent value (mode):\n"
     ]
    },
    {
     "data": {
      "text/plain": [
       "'No'"
      ]
     },
     "metadata": {},
     "output_type": "display_data"
    },
    {
     "name": "stdout",
     "output_type": "stream",
     "text": [
      "\n",
      "Count of duplicates in the column:\n"
     ]
    },
    {
     "data": {
      "text/plain": [
       "np.int64(1611)"
      ]
     },
     "metadata": {},
     "output_type": "display_data"
    }
   ],
   "source": [
    "autoEda = AutoEDA()\n",
    "df = autoEda.read_file(\"HR RAW DATA.csv\")\n",
    "autoEda.explo_df(df, \"OverTime\")\n"
   ]
  },
  {
   "cell_type": "code",
   "execution_count": 27,
   "metadata": {},
   "outputs": [
    {
     "name": "stdout",
     "output_type": "stream",
     "text": [
      "\n",
      "Exploration of the column: PercentSalaryHike\n",
      "\n",
      "Statistical description (numeric):\n"
     ]
    },
    {
     "data": {
      "text/plain": [
       "count    1614.000000\n",
       "mean       15.165428\n",
       "std         3.648610\n",
       "min        11.000000\n",
       "25%        12.000000\n",
       "50%        14.000000\n",
       "75%        18.000000\n",
       "max        25.000000\n",
       "Name: PercentSalaryHike, dtype: float64"
      ]
     },
     "metadata": {},
     "output_type": "display_data"
    },
    {
     "name": "stdout",
     "output_type": "stream",
     "text": [
      "\n",
      "Count of null values:\n"
     ]
    },
    {
     "data": {
      "text/plain": [
       "np.int64(0)"
      ]
     },
     "metadata": {},
     "output_type": "display_data"
    },
    {
     "name": "stdout",
     "output_type": "stream",
     "text": [
      "\n",
      "Count of unique values:\n"
     ]
    },
    {
     "data": {
      "text/plain": [
       "15"
      ]
     },
     "metadata": {},
     "output_type": "display_data"
    },
    {
     "name": "stdout",
     "output_type": "stream",
     "text": [
      "\n",
      "Unique values:\n"
     ]
    },
    {
     "data": {
      "text/plain": [
       "array([13, 14, 11, 19, 12, 25, 16, 17, 22, 23, 20, 15, 21, 24, 18])"
      ]
     },
     "metadata": {},
     "output_type": "display_data"
    },
    {
     "name": "stdout",
     "output_type": "stream",
     "text": [
      "\n",
      "Value Counts:\n"
     ]
    },
    {
     "data": {
      "text/plain": [
       "PercentSalaryHike\n",
       "11    232\n",
       "13    230\n",
       "12    225\n",
       "14    220\n",
       "15    110\n",
       "18     98\n",
       "17     88\n",
       "16     86\n",
       "19     82\n",
       "20     60\n",
       "22     59\n",
       "21     51\n",
       "23     29\n",
       "24     25\n",
       "25     19\n",
       "Name: count, dtype: int64"
      ]
     },
     "metadata": {},
     "output_type": "display_data"
    },
    {
     "name": "stdout",
     "output_type": "stream",
     "text": [
      "\n",
      "Most frequent value (mode):\n"
     ]
    },
    {
     "data": {
      "text/plain": [
       "np.int64(11)"
      ]
     },
     "metadata": {},
     "output_type": "display_data"
    },
    {
     "name": "stdout",
     "output_type": "stream",
     "text": [
      "\n",
      "Count of duplicates in the column:\n"
     ]
    },
    {
     "data": {
      "text/plain": [
       "np.int64(1599)"
      ]
     },
     "metadata": {},
     "output_type": "display_data"
    }
   ],
   "source": [
    "autoEda = AutoEDA()\n",
    "df = autoEda.read_file(\"HR RAW DATA.csv\")\n",
    "autoEda.explo_df(df, \"PercentSalaryHike\")"
   ]
  },
  {
   "cell_type": "code",
   "execution_count": 28,
   "metadata": {},
   "outputs": [
    {
     "name": "stdout",
     "output_type": "stream",
     "text": [
      "\n",
      "Exploration of the column: PerformanceRating\n",
      "\n",
      "Statistical description (categorical):\n"
     ]
    },
    {
     "data": {
      "text/plain": [
       "count     1419\n",
       "unique       2\n",
       "top        3,0\n",
       "freq      1205\n",
       "Name: PerformanceRating, dtype: object"
      ]
     },
     "metadata": {},
     "output_type": "display_data"
    },
    {
     "name": "stdout",
     "output_type": "stream",
     "text": [
      "\n",
      "Count of null values:\n"
     ]
    },
    {
     "data": {
      "text/plain": [
       "np.int64(195)"
      ]
     },
     "metadata": {},
     "output_type": "display_data"
    },
    {
     "name": "stdout",
     "output_type": "stream",
     "text": [
      "\n",
      "Count of unique values:\n"
     ]
    },
    {
     "data": {
      "text/plain": [
       "2"
      ]
     },
     "metadata": {},
     "output_type": "display_data"
    },
    {
     "name": "stdout",
     "output_type": "stream",
     "text": [
      "\n",
      "Unique values:\n"
     ]
    },
    {
     "data": {
      "text/plain": [
       "array(['3,0', '4,0', nan], dtype=object)"
      ]
     },
     "metadata": {},
     "output_type": "display_data"
    },
    {
     "name": "stdout",
     "output_type": "stream",
     "text": [
      "\n",
      "Value Counts:\n"
     ]
    },
    {
     "data": {
      "text/plain": [
       "PerformanceRating\n",
       "3,0    1205\n",
       "4,0     214\n",
       "Name: count, dtype: int64"
      ]
     },
     "metadata": {},
     "output_type": "display_data"
    },
    {
     "name": "stdout",
     "output_type": "stream",
     "text": [
      "\n",
      "Most frequent value (mode):\n"
     ]
    },
    {
     "data": {
      "text/plain": [
       "'3,0'"
      ]
     },
     "metadata": {},
     "output_type": "display_data"
    },
    {
     "name": "stdout",
     "output_type": "stream",
     "text": [
      "\n",
      "Count of duplicates in the column:\n"
     ]
    },
    {
     "data": {
      "text/plain": [
       "np.int64(1611)"
      ]
     },
     "metadata": {},
     "output_type": "display_data"
    }
   ],
   "source": [
    "autoEda = AutoEDA()\n",
    "df = autoEda.read_file(\"HR RAW DATA.csv\")\n",
    "autoEda.explo_df(df, \"PerformanceRating\")"
   ]
  },
  {
   "cell_type": "code",
   "execution_count": 29,
   "metadata": {},
   "outputs": [
    {
     "name": "stdout",
     "output_type": "stream",
     "text": [
      "\n",
      "Exploration of the column: RelationshipSatisfaction\n",
      "\n",
      "Statistical description (numeric):\n"
     ]
    },
    {
     "data": {
      "text/plain": [
       "count    1614.000000\n",
       "mean        2.704461\n",
       "std         1.079031\n",
       "min         1.000000\n",
       "25%         2.000000\n",
       "50%         3.000000\n",
       "75%         4.000000\n",
       "max         4.000000\n",
       "Name: RelationshipSatisfaction, dtype: float64"
      ]
     },
     "metadata": {},
     "output_type": "display_data"
    },
    {
     "name": "stdout",
     "output_type": "stream",
     "text": [
      "\n",
      "Count of null values:\n"
     ]
    },
    {
     "data": {
      "text/plain": [
       "np.int64(0)"
      ]
     },
     "metadata": {},
     "output_type": "display_data"
    },
    {
     "name": "stdout",
     "output_type": "stream",
     "text": [
      "\n",
      "Count of unique values:\n"
     ]
    },
    {
     "data": {
      "text/plain": [
       "4"
      ]
     },
     "metadata": {},
     "output_type": "display_data"
    },
    {
     "name": "stdout",
     "output_type": "stream",
     "text": [
      "\n",
      "Unique values:\n"
     ]
    },
    {
     "data": {
      "text/plain": [
       "array([3, 1, 4, 2])"
      ]
     },
     "metadata": {},
     "output_type": "display_data"
    },
    {
     "name": "stdout",
     "output_type": "stream",
     "text": [
      "\n",
      "Value Counts:\n"
     ]
    },
    {
     "data": {
      "text/plain": [
       "RelationshipSatisfaction\n",
       "3    504\n",
       "4    468\n",
       "2    339\n",
       "1    303\n",
       "Name: count, dtype: int64"
      ]
     },
     "metadata": {},
     "output_type": "display_data"
    },
    {
     "name": "stdout",
     "output_type": "stream",
     "text": [
      "\n",
      "Most frequent value (mode):\n"
     ]
    },
    {
     "data": {
      "text/plain": [
       "np.int64(3)"
      ]
     },
     "metadata": {},
     "output_type": "display_data"
    },
    {
     "name": "stdout",
     "output_type": "stream",
     "text": [
      "\n",
      "Count of duplicates in the column:\n"
     ]
    },
    {
     "data": {
      "text/plain": [
       "np.int64(1610)"
      ]
     },
     "metadata": {},
     "output_type": "display_data"
    }
   ],
   "source": [
    "autoEda = AutoEDA()\n",
    "df = autoEda.read_file(\"HR RAW DATA.csv\")\n",
    "autoEda.explo_df(df, \"RelationshipSatisfaction\")"
   ]
  },
  {
   "cell_type": "code",
   "execution_count": 30,
   "metadata": {},
   "outputs": [
    {
     "name": "stdout",
     "output_type": "stream",
     "text": [
      "\n",
      "Exploration of the column: StandardHours\n",
      "\n",
      "Statistical description (categorical):\n"
     ]
    },
    {
     "data": {
      "text/plain": [
       "count      419\n",
       "unique       1\n",
       "top       80,0\n",
       "freq       419\n",
       "Name: StandardHours, dtype: object"
      ]
     },
     "metadata": {},
     "output_type": "display_data"
    },
    {
     "name": "stdout",
     "output_type": "stream",
     "text": [
      "\n",
      "Count of null values:\n"
     ]
    },
    {
     "data": {
      "text/plain": [
       "np.int64(1195)"
      ]
     },
     "metadata": {},
     "output_type": "display_data"
    },
    {
     "name": "stdout",
     "output_type": "stream",
     "text": [
      "\n",
      "Count of unique values:\n"
     ]
    },
    {
     "data": {
      "text/plain": [
       "1"
      ]
     },
     "metadata": {},
     "output_type": "display_data"
    },
    {
     "name": "stdout",
     "output_type": "stream",
     "text": [
      "\n",
      "Unique values:\n"
     ]
    },
    {
     "data": {
      "text/plain": [
       "array([nan, '80,0'], dtype=object)"
      ]
     },
     "metadata": {},
     "output_type": "display_data"
    },
    {
     "name": "stdout",
     "output_type": "stream",
     "text": [
      "\n",
      "Value Counts:\n"
     ]
    },
    {
     "data": {
      "text/plain": [
       "StandardHours\n",
       "80,0    419\n",
       "Name: count, dtype: int64"
      ]
     },
     "metadata": {},
     "output_type": "display_data"
    },
    {
     "name": "stdout",
     "output_type": "stream",
     "text": [
      "\n",
      "Most frequent value (mode):\n"
     ]
    },
    {
     "data": {
      "text/plain": [
       "'80,0'"
      ]
     },
     "metadata": {},
     "output_type": "display_data"
    },
    {
     "name": "stdout",
     "output_type": "stream",
     "text": [
      "\n",
      "Count of duplicates in the column:\n"
     ]
    },
    {
     "data": {
      "text/plain": [
       "np.int64(1612)"
      ]
     },
     "metadata": {},
     "output_type": "display_data"
    }
   ],
   "source": [
    "autoEda = AutoEDA()\n",
    "df = autoEda.read_file(\"HR RAW DATA.csv\")\n",
    "autoEda.explo_df(df, \"StandardHours\")"
   ]
  },
  {
   "cell_type": "code",
   "execution_count": 31,
   "metadata": {},
   "outputs": [
    {
     "name": "stdout",
     "output_type": "stream",
     "text": [
      "\n",
      "Exploration of the column: StockOptionLevel\n",
      "\n",
      "Statistical description (numeric):\n"
     ]
    },
    {
     "data": {
      "text/plain": [
       "count    1614.000000\n",
       "mean        0.791202\n",
       "std         0.842396\n",
       "min         0.000000\n",
       "25%         0.000000\n",
       "50%         1.000000\n",
       "75%         1.000000\n",
       "max         3.000000\n",
       "Name: StockOptionLevel, dtype: float64"
      ]
     },
     "metadata": {},
     "output_type": "display_data"
    },
    {
     "name": "stdout",
     "output_type": "stream",
     "text": [
      "\n",
      "Count of null values:\n"
     ]
    },
    {
     "data": {
      "text/plain": [
       "np.int64(0)"
      ]
     },
     "metadata": {},
     "output_type": "display_data"
    },
    {
     "name": "stdout",
     "output_type": "stream",
     "text": [
      "\n",
      "Count of unique values:\n"
     ]
    },
    {
     "data": {
      "text/plain": [
       "4"
      ]
     },
     "metadata": {},
     "output_type": "display_data"
    },
    {
     "name": "stdout",
     "output_type": "stream",
     "text": [
      "\n",
      "Unique values:\n"
     ]
    },
    {
     "data": {
      "text/plain": [
       "array([0, 1, 2, 3])"
      ]
     },
     "metadata": {},
     "output_type": "display_data"
    },
    {
     "name": "stdout",
     "output_type": "stream",
     "text": [
      "\n",
      "Value Counts:\n"
     ]
    },
    {
     "data": {
      "text/plain": [
       "StockOptionLevel\n",
       "0    687\n",
       "1    666\n",
       "2    172\n",
       "3     89\n",
       "Name: count, dtype: int64"
      ]
     },
     "metadata": {},
     "output_type": "display_data"
    },
    {
     "name": "stdout",
     "output_type": "stream",
     "text": [
      "\n",
      "Most frequent value (mode):\n"
     ]
    },
    {
     "data": {
      "text/plain": [
       "np.int64(0)"
      ]
     },
     "metadata": {},
     "output_type": "display_data"
    },
    {
     "name": "stdout",
     "output_type": "stream",
     "text": [
      "\n",
      "Count of duplicates in the column:\n"
     ]
    },
    {
     "data": {
      "text/plain": [
       "np.int64(1610)"
      ]
     },
     "metadata": {},
     "output_type": "display_data"
    }
   ],
   "source": [
    "autoEda = AutoEDA()\n",
    "df = autoEda.read_file(\"HR RAW DATA.csv\")\n",
    "autoEda.explo_df(df, \"StockOptionLevel\")"
   ]
  },
  {
   "cell_type": "code",
   "execution_count": 32,
   "metadata": {},
   "outputs": [
    {
     "name": "stdout",
     "output_type": "stream",
     "text": [
      "\n",
      "Exploration of the column: TOTALWORKINGYEARS\n",
      "\n",
      "Statistical description (categorical):\n"
     ]
    },
    {
     "data": {
      "text/plain": [
       "count     1088\n",
       "unique      40\n",
       "top       10,0\n",
       "freq       144\n",
       "Name: TOTALWORKINGYEARS, dtype: object"
      ]
     },
     "metadata": {},
     "output_type": "display_data"
    },
    {
     "name": "stdout",
     "output_type": "stream",
     "text": [
      "\n",
      "Count of null values:\n"
     ]
    },
    {
     "data": {
      "text/plain": [
       "np.int64(526)"
      ]
     },
     "metadata": {},
     "output_type": "display_data"
    },
    {
     "name": "stdout",
     "output_type": "stream",
     "text": [
      "\n",
      "Count of unique values:\n"
     ]
    },
    {
     "data": {
      "text/plain": [
       "40"
      ]
     },
     "metadata": {},
     "output_type": "display_data"
    },
    {
     "name": "stdout",
     "output_type": "stream",
     "text": [
      "\n",
      "Unique values:\n"
     ]
    },
    {
     "data": {
      "text/plain": [
       "array([nan, '34,0', '22,0', '28,0', '20,0', '21,0', '33,0', '40,0',\n",
       "       '18,0', '25,0', '15,0', '17,0', '26,0', '16,0', '24,0', '14,0',\n",
       "       '23,0', '27,0', '19,0', '11,0', '38,0', '37,0', '13,0', '12,0',\n",
       "       '29,0', '10,0', '36,0', '35,0', '9,0', '31,0', '32,0', '8,0',\n",
       "       '7,0', '30,0', '6,0', '5,0', '4,0', '3,0', '2,0', '1,0', '0,0'],\n",
       "      dtype=object)"
      ]
     },
     "metadata": {},
     "output_type": "display_data"
    },
    {
     "name": "stdout",
     "output_type": "stream",
     "text": [
      "\n",
      "Value Counts:\n"
     ]
    },
    {
     "data": {
      "text/plain": [
       "TOTALWORKINGYEARS\n",
       "10,0    144\n",
       "8,0      86\n",
       "6,0      84\n",
       "9,0      69\n",
       "5,0      66\n",
       "7,0      56\n",
       "4,0      54\n",
       "1,0      53\n",
       "12,0     34\n",
       "3,0      32\n",
       "13,0     30\n",
       "14,0     30\n",
       "11,0     29\n",
       "16,0     28\n",
       "15,0     28\n",
       "20,0     28\n",
       "18,0     27\n",
       "21,0     23\n",
       "17,0     22\n",
       "2,0      21\n",
       "22,0     18\n",
       "19,0     17\n",
       "24,0     14\n",
       "28,0     13\n",
       "23,0     13\n",
       "0,0       8\n",
       "26,0      8\n",
       "33,0      6\n",
       "36,0      6\n",
       "29,0      6\n",
       "25,0      6\n",
       "27,0      5\n",
       "37,0      5\n",
       "31,0      4\n",
       "32,0      3\n",
       "40,0      3\n",
       "30,0      3\n",
       "35,0      3\n",
       "34,0      2\n",
       "38,0      1\n",
       "Name: count, dtype: int64"
      ]
     },
     "metadata": {},
     "output_type": "display_data"
    },
    {
     "name": "stdout",
     "output_type": "stream",
     "text": [
      "\n",
      "Most frequent value (mode):\n"
     ]
    },
    {
     "data": {
      "text/plain": [
       "'10,0'"
      ]
     },
     "metadata": {},
     "output_type": "display_data"
    },
    {
     "name": "stdout",
     "output_type": "stream",
     "text": [
      "\n",
      "Count of duplicates in the column:\n"
     ]
    },
    {
     "data": {
      "text/plain": [
       "np.int64(1573)"
      ]
     },
     "metadata": {},
     "output_type": "display_data"
    }
   ],
   "source": [
    "autoEda = AutoEDA()\n",
    "df = autoEda.read_file(\"HR RAW DATA.csv\")\n",
    "autoEda.explo_df(df, \"TOTALWORKINGYEARS\")"
   ]
  },
  {
   "cell_type": "code",
   "execution_count": 33,
   "metadata": {},
   "outputs": [
    {
     "name": "stdout",
     "output_type": "stream",
     "text": [
      "\n",
      "Exploration of the column: TrainingTimesLastYear\n",
      "\n",
      "Statistical description (numeric):\n"
     ]
    },
    {
     "data": {
      "text/plain": [
       "count    1614.000000\n",
       "mean        2.809789\n",
       "std         1.297765\n",
       "min         0.000000\n",
       "25%         2.000000\n",
       "50%         3.000000\n",
       "75%         3.000000\n",
       "max         6.000000\n",
       "Name: TrainingTimesLastYear, dtype: float64"
      ]
     },
     "metadata": {},
     "output_type": "display_data"
    },
    {
     "name": "stdout",
     "output_type": "stream",
     "text": [
      "\n",
      "Count of null values:\n"
     ]
    },
    {
     "data": {
      "text/plain": [
       "np.int64(0)"
      ]
     },
     "metadata": {},
     "output_type": "display_data"
    },
    {
     "name": "stdout",
     "output_type": "stream",
     "text": [
      "\n",
      "Count of unique values:\n"
     ]
    },
    {
     "data": {
      "text/plain": [
       "7"
      ]
     },
     "metadata": {},
     "output_type": "display_data"
    },
    {
     "name": "stdout",
     "output_type": "stream",
     "text": [
      "\n",
      "Unique values:\n"
     ]
    },
    {
     "data": {
      "text/plain": [
       "array([5, 3, 2, 0, 1, 4, 6])"
      ]
     },
     "metadata": {},
     "output_type": "display_data"
    },
    {
     "name": "stdout",
     "output_type": "stream",
     "text": [
      "\n",
      "Value Counts:\n"
     ]
    },
    {
     "data": {
      "text/plain": [
       "TrainingTimesLastYear\n",
       "2    598\n",
       "3    534\n",
       "4    137\n",
       "5    136\n",
       "1     77\n",
       "6     72\n",
       "0     60\n",
       "Name: count, dtype: int64"
      ]
     },
     "metadata": {},
     "output_type": "display_data"
    },
    {
     "name": "stdout",
     "output_type": "stream",
     "text": [
      "\n",
      "Most frequent value (mode):\n"
     ]
    },
    {
     "data": {
      "text/plain": [
       "np.int64(2)"
      ]
     },
     "metadata": {},
     "output_type": "display_data"
    },
    {
     "name": "stdout",
     "output_type": "stream",
     "text": [
      "\n",
      "Count of duplicates in the column:\n"
     ]
    },
    {
     "data": {
      "text/plain": [
       "np.int64(1607)"
      ]
     },
     "metadata": {},
     "output_type": "display_data"
    }
   ],
   "source": [
    "autoEda = AutoEDA()\n",
    "df = autoEda.read_file(\"HR RAW DATA.csv\")\n",
    "autoEda.explo_df(df, \"TrainingTimesLastYear\")"
   ]
  },
  {
   "cell_type": "code",
   "execution_count": 34,
   "metadata": {},
   "outputs": [
    {
     "name": "stdout",
     "output_type": "stream",
     "text": [
      "\n",
      "Exploration of the column: WORKLIFEBALANCE\n",
      "\n",
      "Statistical description (categorical):\n"
     ]
    },
    {
     "data": {
      "text/plain": [
       "count     1506\n",
       "unique       4\n",
       "top        3,0\n",
       "freq       913\n",
       "Name: WORKLIFEBALANCE, dtype: object"
      ]
     },
     "metadata": {},
     "output_type": "display_data"
    },
    {
     "name": "stdout",
     "output_type": "stream",
     "text": [
      "\n",
      "Count of null values:\n"
     ]
    },
    {
     "data": {
      "text/plain": [
       "np.int64(108)"
      ]
     },
     "metadata": {},
     "output_type": "display_data"
    },
    {
     "name": "stdout",
     "output_type": "stream",
     "text": [
      "\n",
      "Count of unique values:\n"
     ]
    },
    {
     "data": {
      "text/plain": [
       "4"
      ]
     },
     "metadata": {},
     "output_type": "display_data"
    },
    {
     "name": "stdout",
     "output_type": "stream",
     "text": [
      "\n",
      "Unique values:\n"
     ]
    },
    {
     "data": {
      "text/plain": [
       "array(['3,0', nan, '2,0', '4,0', '1,0'], dtype=object)"
      ]
     },
     "metadata": {},
     "output_type": "display_data"
    },
    {
     "name": "stdout",
     "output_type": "stream",
     "text": [
      "\n",
      "Value Counts:\n"
     ]
    },
    {
     "data": {
      "text/plain": [
       "WORKLIFEBALANCE\n",
       "3,0    913\n",
       "2,0    359\n",
       "4,0    155\n",
       "1,0     79\n",
       "Name: count, dtype: int64"
      ]
     },
     "metadata": {},
     "output_type": "display_data"
    },
    {
     "name": "stdout",
     "output_type": "stream",
     "text": [
      "\n",
      "Most frequent value (mode):\n"
     ]
    },
    {
     "data": {
      "text/plain": [
       "'3,0'"
      ]
     },
     "metadata": {},
     "output_type": "display_data"
    },
    {
     "name": "stdout",
     "output_type": "stream",
     "text": [
      "\n",
      "Count of duplicates in the column:\n"
     ]
    },
    {
     "data": {
      "text/plain": [
       "np.int64(1609)"
      ]
     },
     "metadata": {},
     "output_type": "display_data"
    }
   ],
   "source": [
    "autoEda = AutoEDA()\n",
    "df = autoEda.read_file(\"HR RAW DATA.csv\")\n",
    "autoEda.explo_df(df, \"WORKLIFEBALANCE\")"
   ]
  },
  {
   "cell_type": "code",
   "execution_count": 35,
   "metadata": {},
   "outputs": [
    {
     "name": "stdout",
     "output_type": "stream",
     "text": [
      "\n",
      "Exploration of the column: YearsAtCompany\n",
      "\n",
      "Statistical description (numeric):\n"
     ]
    },
    {
     "data": {
      "text/plain": [
       "count    1614.000000\n",
       "mean        7.132590\n",
       "std         6.124237\n",
       "min         0.000000\n",
       "25%         3.000000\n",
       "50%         5.000000\n",
       "75%         9.000000\n",
       "max        40.000000\n",
       "Name: YearsAtCompany, dtype: float64"
      ]
     },
     "metadata": {},
     "output_type": "display_data"
    },
    {
     "name": "stdout",
     "output_type": "stream",
     "text": [
      "\n",
      "Count of null values:\n"
     ]
    },
    {
     "data": {
      "text/plain": [
       "np.int64(0)"
      ]
     },
     "metadata": {},
     "output_type": "display_data"
    },
    {
     "name": "stdout",
     "output_type": "stream",
     "text": [
      "\n",
      "Count of unique values:\n"
     ]
    },
    {
     "data": {
      "text/plain": [
       "37"
      ]
     },
     "metadata": {},
     "output_type": "display_data"
    },
    {
     "name": "stdout",
     "output_type": "stream",
     "text": [
      "\n",
      "Unique values:\n"
     ]
    },
    {
     "data": {
      "text/plain": [
       "array([20, 33, 22, 19, 21, 18, 24, 31, 26, 16, 23, 15, 17, 32, 14, 13, 25,\n",
       "       12, 11, 37, 40, 36, 27, 29, 10,  9, 30,  8,  7, 34,  6,  5,  4,  2,\n",
       "        3,  1,  0])"
      ]
     },
     "metadata": {},
     "output_type": "display_data"
    },
    {
     "name": "stdout",
     "output_type": "stream",
     "text": [
      "\n",
      "Value Counts:\n"
     ]
    },
    {
     "data": {
      "text/plain": [
       "YearsAtCompany\n",
       "5     208\n",
       "1     171\n",
       "2     141\n",
       "3     141\n",
       "10    133\n",
       "7     115\n",
       "4     114\n",
       "8     106\n",
       "9      94\n",
       "6      78\n",
       "0      44\n",
       "11     36\n",
       "20     29\n",
       "13     26\n",
       "15     21\n",
       "14     19\n",
       "22     17\n",
       "18     15\n",
       "12     15\n",
       "21     14\n",
       "16     14\n",
       "19     12\n",
       "17      9\n",
       "24      7\n",
       "33      5\n",
       "25      5\n",
       "26      4\n",
       "31      3\n",
       "32      3\n",
       "27      3\n",
       "36      3\n",
       "23      2\n",
       "40      2\n",
       "29      2\n",
       "37      1\n",
       "30      1\n",
       "34      1\n",
       "Name: count, dtype: int64"
      ]
     },
     "metadata": {},
     "output_type": "display_data"
    },
    {
     "name": "stdout",
     "output_type": "stream",
     "text": [
      "\n",
      "Most frequent value (mode):\n"
     ]
    },
    {
     "data": {
      "text/plain": [
       "np.int64(5)"
      ]
     },
     "metadata": {},
     "output_type": "display_data"
    },
    {
     "name": "stdout",
     "output_type": "stream",
     "text": [
      "\n",
      "Count of duplicates in the column:\n"
     ]
    },
    {
     "data": {
      "text/plain": [
       "np.int64(1577)"
      ]
     },
     "metadata": {},
     "output_type": "display_data"
    }
   ],
   "source": [
    "autoEda = AutoEDA()\n",
    "df = autoEda.read_file(\"HR RAW DATA.csv\")\n",
    "autoEda.explo_df(df, \"YearsAtCompany\")"
   ]
  },
  {
   "cell_type": "code",
   "execution_count": 36,
   "metadata": {},
   "outputs": [
    {
     "name": "stdout",
     "output_type": "stream",
     "text": [
      "\n",
      "Exploration of the column: YearsInCurrentRole\n",
      "\n",
      "Statistical description (categorical):\n"
     ]
    },
    {
     "data": {
      "text/plain": [
       "count      34\n",
       "unique     10\n",
       "top       2,0\n",
       "freq       11\n",
       "Name: YearsInCurrentRole, dtype: object"
      ]
     },
     "metadata": {},
     "output_type": "display_data"
    },
    {
     "name": "stdout",
     "output_type": "stream",
     "text": [
      "\n",
      "Count of null values:\n"
     ]
    },
    {
     "data": {
      "text/plain": [
       "np.int64(1580)"
      ]
     },
     "metadata": {},
     "output_type": "display_data"
    },
    {
     "name": "stdout",
     "output_type": "stream",
     "text": [
      "\n",
      "Count of unique values:\n"
     ]
    },
    {
     "data": {
      "text/plain": [
       "10"
      ]
     },
     "metadata": {},
     "output_type": "display_data"
    },
    {
     "name": "stdout",
     "output_type": "stream",
     "text": [
      "\n",
      "Unique values:\n"
     ]
    },
    {
     "data": {
      "text/plain": [
       "array([nan, '13,0', '12,0', '11,0', '7,0', '6,0', '4,0', '3,0', '2,0',\n",
       "       '1,0', '0,0'], dtype=object)"
      ]
     },
     "metadata": {},
     "output_type": "display_data"
    },
    {
     "name": "stdout",
     "output_type": "stream",
     "text": [
      "\n",
      "Value Counts:\n"
     ]
    },
    {
     "data": {
      "text/plain": [
       "YearsInCurrentRole\n",
       "2,0     11\n",
       "7,0      5\n",
       "0,0      4\n",
       "4,0      3\n",
       "1,0      3\n",
       "11,0     2\n",
       "6,0      2\n",
       "3,0      2\n",
       "12,0     1\n",
       "13,0     1\n",
       "Name: count, dtype: int64"
      ]
     },
     "metadata": {},
     "output_type": "display_data"
    },
    {
     "name": "stdout",
     "output_type": "stream",
     "text": [
      "\n",
      "Most frequent value (mode):\n"
     ]
    },
    {
     "data": {
      "text/plain": [
       "'2,0'"
      ]
     },
     "metadata": {},
     "output_type": "display_data"
    },
    {
     "name": "stdout",
     "output_type": "stream",
     "text": [
      "\n",
      "Count of duplicates in the column:\n"
     ]
    },
    {
     "data": {
      "text/plain": [
       "np.int64(1603)"
      ]
     },
     "metadata": {},
     "output_type": "display_data"
    }
   ],
   "source": [
    "autoEda = AutoEDA()\n",
    "df = autoEda.read_file(\"HR RAW DATA.csv\")\n",
    "autoEda.explo_df(df, \"YearsInCurrentRole\")"
   ]
  },
  {
   "cell_type": "code",
   "execution_count": 37,
   "metadata": {},
   "outputs": [
    {
     "name": "stdout",
     "output_type": "stream",
     "text": [
      "\n",
      "Exploration of the column: YearsSinceLastPromotion\n",
      "\n",
      "Statistical description (numeric):\n"
     ]
    },
    {
     "data": {
      "text/plain": [
       "count    1614.000000\n",
       "mean        2.245973\n",
       "std         3.235665\n",
       "min         0.000000\n",
       "25%         0.000000\n",
       "50%         1.000000\n",
       "75%         3.000000\n",
       "max        15.000000\n",
       "Name: YearsSinceLastPromotion, dtype: float64"
      ]
     },
     "metadata": {},
     "output_type": "display_data"
    },
    {
     "name": "stdout",
     "output_type": "stream",
     "text": [
      "\n",
      "Count of null values:\n"
     ]
    },
    {
     "data": {
      "text/plain": [
       "np.int64(0)"
      ]
     },
     "metadata": {},
     "output_type": "display_data"
    },
    {
     "name": "stdout",
     "output_type": "stream",
     "text": [
      "\n",
      "Count of unique values:\n"
     ]
    },
    {
     "data": {
      "text/plain": [
       "16"
      ]
     },
     "metadata": {},
     "output_type": "display_data"
    },
    {
     "name": "stdout",
     "output_type": "stream",
     "text": [
      "\n",
      "Unique values:\n"
     ]
    },
    {
     "data": {
      "text/plain": [
       "array([15, 11,  5,  2,  4,  7,  0,  1, 13, 14,  8, 12,  3,  6, 10,  9])"
      ]
     },
     "metadata": {},
     "output_type": "display_data"
    },
    {
     "name": "stdout",
     "output_type": "stream",
     "text": [
      "\n",
      "Value Counts:\n"
     ]
    },
    {
     "data": {
      "text/plain": [
       "YearsSinceLastPromotion\n",
       "0     625\n",
       "1     384\n",
       "2     177\n",
       "7      93\n",
       "4      67\n",
       "3      62\n",
       "5      53\n",
       "6      37\n",
       "11     26\n",
       "8      20\n",
       "9      18\n",
       "15     15\n",
       "12     11\n",
       "14     10\n",
       "13     10\n",
       "10      6\n",
       "Name: count, dtype: int64"
      ]
     },
     "metadata": {},
     "output_type": "display_data"
    },
    {
     "name": "stdout",
     "output_type": "stream",
     "text": [
      "\n",
      "Most frequent value (mode):\n"
     ]
    },
    {
     "data": {
      "text/plain": [
       "np.int64(0)"
      ]
     },
     "metadata": {},
     "output_type": "display_data"
    },
    {
     "name": "stdout",
     "output_type": "stream",
     "text": [
      "\n",
      "Count of duplicates in the column:\n"
     ]
    },
    {
     "data": {
      "text/plain": [
       "np.int64(1598)"
      ]
     },
     "metadata": {},
     "output_type": "display_data"
    }
   ],
   "source": [
    "autoEda = AutoEDA()\n",
    "df = autoEda.read_file(\"HR RAW DATA.csv\")\n",
    "autoEda.explo_df(df, \"YearsSinceLastPromotion\")"
   ]
  },
  {
   "cell_type": "code",
   "execution_count": 38,
   "metadata": {},
   "outputs": [
    {
     "name": "stdout",
     "output_type": "stream",
     "text": [
      "\n",
      "Exploration of the column: YEARSWITHCURRMANAGER\n",
      "\n",
      "Statistical description (numeric):\n"
     ]
    },
    {
     "data": {
      "text/plain": [
       "count    1614.000000\n",
       "mean        4.220570\n",
       "std         3.562695\n",
       "min         0.000000\n",
       "25%         2.000000\n",
       "50%         3.000000\n",
       "75%         7.000000\n",
       "max        17.000000\n",
       "Name: YEARSWITHCURRMANAGER, dtype: float64"
      ]
     },
     "metadata": {},
     "output_type": "display_data"
    },
    {
     "name": "stdout",
     "output_type": "stream",
     "text": [
      "\n",
      "Count of null values:\n"
     ]
    },
    {
     "data": {
      "text/plain": [
       "np.int64(0)"
      ]
     },
     "metadata": {},
     "output_type": "display_data"
    },
    {
     "name": "stdout",
     "output_type": "stream",
     "text": [
      "\n",
      "Count of unique values:\n"
     ]
    },
    {
     "data": {
      "text/plain": [
       "18"
      ]
     },
     "metadata": {},
     "output_type": "display_data"
    },
    {
     "name": "stdout",
     "output_type": "stream",
     "text": [
      "\n",
      "Unique values:\n"
     ]
    },
    {
     "data": {
      "text/plain": [
       "array([15,  9,  6,  8,  7, 11, 10, 12,  4,  0,  5, 17,  2, 14,  1, 13,  3,\n",
       "       16])"
      ]
     },
     "metadata": {},
     "output_type": "display_data"
    },
    {
     "name": "stdout",
     "output_type": "stream",
     "text": [
      "\n",
      "Value Counts:\n"
     ]
    },
    {
     "data": {
      "text/plain": [
       "YEARSWITHCURRMANAGER\n",
       "2     380\n",
       "0     270\n",
       "7     267\n",
       "3     148\n",
       "8     115\n",
       "4     104\n",
       "1      84\n",
       "9      70\n",
       "5      36\n",
       "10     31\n",
       "6      30\n",
       "11     22\n",
       "12     20\n",
       "13     16\n",
       "17      8\n",
       "15      5\n",
       "14      5\n",
       "16      3\n",
       "Name: count, dtype: int64"
      ]
     },
     "metadata": {},
     "output_type": "display_data"
    },
    {
     "name": "stdout",
     "output_type": "stream",
     "text": [
      "\n",
      "Most frequent value (mode):\n"
     ]
    },
    {
     "data": {
      "text/plain": [
       "np.int64(2)"
      ]
     },
     "metadata": {},
     "output_type": "display_data"
    },
    {
     "name": "stdout",
     "output_type": "stream",
     "text": [
      "\n",
      "Count of duplicates in the column:\n"
     ]
    },
    {
     "data": {
      "text/plain": [
       "np.int64(1596)"
      ]
     },
     "metadata": {},
     "output_type": "display_data"
    }
   ],
   "source": [
    "autoEda = AutoEDA()\n",
    "df = autoEda.read_file(\"HR RAW DATA.csv\")\n",
    "autoEda.explo_df(df, \"YEARSWITHCURRMANAGER\")"
   ]
  },
  {
   "cell_type": "code",
   "execution_count": 39,
   "metadata": {},
   "outputs": [
    {
     "name": "stdout",
     "output_type": "stream",
     "text": [
      "\n",
      "Exploration of the column: SameAsMonthlyIncome\n",
      "\n",
      "Statistical description (categorical):\n"
     ]
    },
    {
     "data": {
      "text/plain": [
       "count        771\n",
       "unique       668\n",
       "top       6347,0\n",
       "freq           4\n",
       "Name: SameAsMonthlyIncome, dtype: object"
      ]
     },
     "metadata": {},
     "output_type": "display_data"
    },
    {
     "name": "stdout",
     "output_type": "stream",
     "text": [
      "\n",
      "Count of null values:\n"
     ]
    },
    {
     "data": {
      "text/plain": [
       "np.int64(843)"
      ]
     },
     "metadata": {},
     "output_type": "display_data"
    },
    {
     "name": "stdout",
     "output_type": "stream",
     "text": [
      "\n",
      "Count of unique values:\n"
     ]
    },
    {
     "data": {
      "text/plain": [
       "668"
      ]
     },
     "metadata": {},
     "output_type": "display_data"
    },
    {
     "name": "stdout",
     "output_type": "stream",
     "text": [
      "\n",
      "Unique values:\n"
     ]
    },
    {
     "data": {
      "text/plain": [
       "array(['19537,0', '19999,0', '19232,0', '17169,0', nan, '17174,0',\n",
       "       '16595,0', '19973,0', '13402,0', '13206,0', '19545,0', '18041,0',\n",
       "       '19246,0', '10748,0', '16752,0', '6201,0', '19845,0', '4001,0',\n",
       "       '10447,0', '16064,0', '3210,0', '10266,0', '10475,0', '6162,0',\n",
       "       '4721,0', '4615,0', '16959,0', '10306,0', '5406,0', '5902,0',\n",
       "       '10855,0', '5914,0', '6646,0', '13973,0', '13320,0', '6687,0',\n",
       "       '4735,0', '13872,0', '19045,0', '16015,0', '9613,0', '11510,0',\n",
       "       '4306,0', '17046,0', '5067,0', '3692,0', '19847,0', '2308,0',\n",
       "       '5747,0', '10422,0', '6347,0', '2348,0', '3072,0', '12490,0',\n",
       "       '8020,0', '17068,0', '8943,0', '19272,0', '5577,0', '2691,0',\n",
       "       '7403,0', '8823,0', '3579,0', '17779,0', '18213,0', '13577,0',\n",
       "       '19190,0', '17123,0', '19187,0', '10008,0', '7988,0', '7083,0',\n",
       "       '4723,0', '3407,0', '2929,0', '12031,0', '15427,0', '5126,0',\n",
       "       '9619,0', '5010,0', '19033,0', '10400,0', '2793,0', '5674,0',\n",
       "       '19197,0', '8412,0', '3348,0', '5309,0', '7654,0', '12808,0',\n",
       "       '6586,0', '2519,0', '17099,0', '13120,0', '3131,0', '4444,0',\n",
       "       '6674,0', '9852,0', '17861,0', '7446,0', '13757,0', '16598,0',\n",
       "       '4285,0', '10124,0', '9714,0', '9924,0', '11245,0', '3069,0',\n",
       "       '9241,0', '6472,0', '3055,0', '8321,0', '3143,0', '8578,0',\n",
       "       '4197,0', '9888,0', '13341,0', '5677,0', '2909,0', '9526,0',\n",
       "       '6825,0', '4424,0', '5441,0', '6074,0', '6146,0', '6172,0',\n",
       "       '4668,0', '5605,0', '4319,0', '3564,0', '6261,0', '6804,0',\n",
       "       '19436,0', '5828,0', '2455,0', '5055,0', '4682,0', '5257,0',\n",
       "       '2119,0', '5974,0', '3034,0', '13212,0', '8392,0', '4051,0',\n",
       "       '4805,0', '2741,0', '5337,0', '9434,0', '5396,0', '11159,0',\n",
       "       '4960,0', '8793,0', '19189,0', '2216,0', '11713,0', '5304,0',\n",
       "       '11103,0', '6632,0', '7587,0', '4335,0', '5980,0', '4244,0',\n",
       "       '5228,0', '2700,0', '2366,0', '2329,0', '4294,0', '6725,0',\n",
       "       '10325,0', '4447,0', '10845,0', '5472,0', '6385,0', '7525,0',\n",
       "       '3660,0', '8740,0', '13499,0', '3491,0', '5220,0', '10252,0',\n",
       "       '19740,0', '6209,0', '7094,0', '4534,0', '8500,0', '4639,0',\n",
       "       '5363,0', '4081,0', '3578,0', '17328,0', '10793,0', '10851,0',\n",
       "       '10466,0', '2362,0', '6439,0', '5769,0', '4385,0', '4066,0',\n",
       "       '5206,0', '2655,0', '2570,0', '4502,0', '4968,0', '5147,0',\n",
       "       '2718,0', '3539,0', '5468,0', '5813,0', '9667,0', '5154,0',\n",
       "       '5675,0', '7314,0', '5098,0', '13570,0', '6712,0', '9991,0',\n",
       "       '10248,0', '10938,0', '2593,0', '11878,0', '8095,0', '16856,0',\n",
       "       '4537,0', '17924,0', '4014,0', '12742,0', '3376,0', '10482,0',\n",
       "       '4249,0', '6549,0', '14411,0', '19586,0', '8237,0', '3211,0',\n",
       "       '16704,0', '4774,0', '4568,0', '5993,0', '6499,0', '3452,0',\n",
       "       '6397,0', '2725,0', '3622,0', '6180,0', '6274,0', '4381,0',\n",
       "       '2559,0', '5488,0', '2514,0', '3196,0', '3420,0', '4087,0',\n",
       "       '5368,0', '12936,0', '4221,0', '4963,0', '4200,0', '5006,0',\n",
       "       '7639,0', '6502,0', '13525,0', '6349,0', '6380,0', '3102,0',\n",
       "       '4556,0', '4230,0', '4859,0', '6322,0', '10761,0', '2973,0',\n",
       "       '5204,0', '17399,0', '16885,0', '4323,0', '5155,0', '2936,0',\n",
       "       '18789,0', '4883,0', '2029,0', '2996,0', '9278,0', '4162,0',\n",
       "       '8853,0', '4876,0', '2141,0', '7756,0', '3936,0', '6842,0',\n",
       "       '3989,0', '4930,0', '3702,0', '2705,0', '4448,0', '2379,0',\n",
       "       '5487,0', '2810,0', '8938,0', '9936,0', '5454,0', '18740,0',\n",
       "       '5473,0', '13503,0', '13549,0', '18172,0', '2774,0', '9439,0',\n",
       "       '5265,0', '3815,0', '2389,0', '4000,0', '17584,0', '5661,0',\n",
       "       '4869,0', '4649,0', '10496,0', '2768,0', '3408,0', '3755,0',\n",
       "       '2187,0', '4258,0', '5326,0', '5485,0', '2782,0', '17639,0',\n",
       "       '6062,0', '6288,0', '3424,0', '4194,0', '2532,0', '5666,0',\n",
       "       '13726,0', '4107,0', '3597,0', '4115,0', '6272,0', '2517,0',\n",
       "       '3904,0', '9204,0', '4373,0', '2064,0', '2430,0', '4877,0',\n",
       "       '3760,0', '2013,0', '2974,0', '2766,0', '3377,0', '4213,0',\n",
       "       '6513,0', '4284,0', '2226,0', '5561,0', '2144,0', '5373,0',\n",
       "       '2897,0', '5321,0', '5410,0', '4850,0', '2001,0', '4404,0',\n",
       "       '3944,0', '2960,0', '18947,0', '6465,0', '2683,0', '2014,0',\n",
       "       '3441,0', '13664,0', '5021,0', '18844,0', '4739,0', '10650,0',\n",
       "       '4317,0', '2024,0', '3058,0', '3929,0', '4425,0', '2328,0',\n",
       "       '2657,0', '5940,0', '2622,0', '3212,0', '2911,0', '6931,0',\n",
       "       '2176,0', '3230,0', '18665,0', '2789,0', '6410,0', '4941,0',\n",
       "       '3983,0', '2904,0', '2696,0', '2174,0', '6755,0', '10965,0',\n",
       "       '2543,0', '19406,0', '6538,0', '2258,0', '2218,0', '2654,0',\n",
       "       '11935,0', '2546,0', '3894,0', '4262,0', '10527,0', '2400,0',\n",
       "       '3681,0', '3447,0', '19513,0', '2659,0', '8847,0', '2045,0',\n",
       "       '4851,0', '8120,0', '4577,0', '5405,0', '3708,0', '13770,0',\n",
       "       '2297,0', '2450,0', '4342,0', '2572,0', '6500,0', '3149,0',\n",
       "       '5324,0', '4382,0', '2553,0', '5933,0', '4403,0', '10934,0',\n",
       "       '2022,0', '4256,0', '3580,0', '2899,0', '5562,0', '2377,0',\n",
       "       '2404,0', '2799,0', '2811,0', '4377,0', '4240,0', '4227,0',\n",
       "       '3917,0', '4969,0', '2042,0', '2821,0', '9957,0', '2207,0',\n",
       "       '2070,0', '2791,0', '8224,0', '2610,0', '5731,0', '2539,0',\n",
       "       '2376,0', '19081,0', '2743,0', '4538,0', '3867,0', '2080,0',\n",
       "       '2096,0', '4627,0', '2302,0', '5071,0', '10596,0', '5467,0',\n",
       "       '2394,0', '3629,0', '9362,0', '3229,0', '16422,0', '5647,0',\n",
       "       '4400,0', '2066,0', '5486,0', '3162,0', '6651,0', '4898,0',\n",
       "       '3180,0', '11244,0', '4069,0', '6392,0', '4855,0', '3312,0',\n",
       "       '3117,0', '15202,0', '2580,0', '2166,0', '4374,0', '5505,0',\n",
       "       '2587,0', '15972,0', '2305,0', '3433,0', '3477,0', '3907,0',\n",
       "       '3445,0', '2760,0', '6294,0', '13116,0', '3591,0', '2105,0',\n",
       "       '3902,0', '2662,0', '2062,0', '5507,0', '8103,0', '3978,0',\n",
       "       '5399,0', '10448,0', '4440,0', '2660,0', '3375,0', '2269,0',\n",
       "       '4787,0', '2809,0', '10854,0', '2571,0', '6142,0', '2496,0',\n",
       "       '3419,0', '2501,0', '2566,0', '3920,0', '13964,0', '6540,0',\n",
       "       '2244,0', '16184,0', '4233,0', '14814,0', '17159,0', '2318,0',\n",
       "       '3617,0', '2684,0', '19237,0', '4422,0', '2552,0', '2678,0',\n",
       "       '5171,0', '11916,0', '9380,0', '5878,0', '2468,0', '4127,0',\n",
       "       '2148,0', '3886,0', '6667,0', '2090,0', '2086,0', '1951,0',\n",
       "       '3022,0', '9724,0', '3388,0', '3038,0', '2322,0', '2926,0',\n",
       "       '4505,0', '2835,0', '6553,0', '6673,0', '13591,0', '2177,0',\n",
       "       '19517,0', '19202,0', '10048,0', '2723,0', '6644,0', '3161,0',\n",
       "       '1420,0', '1200,0', '5238,0', '9985,0', '15992,0', '2370,0',\n",
       "       '6781,0', '6653,0', '2851,0', '5258,0', '2476,0', '2285,0',\n",
       "       '3448,0', '4558,0', '1702,0', '2564,0', '5070,0', '3780,0',\n",
       "       '9824,0', '1878,0', '2340,0', '2127,0', '2033,0', '9602,0',\n",
       "       '16627,0', '2083,0', '1009,0', '7861,0', '2642,0', '5121,0',\n",
       "       '2694,0', '5094,0', '2274,0', '2314,0', '2380,0', '2008,0',\n",
       "       '10552,0', '2259,0', '2413,0', '2121,0', '2479,0', '13194,0',\n",
       "       '4163,0', '2600,0', '18303,0', '4777,0', '1052,0', '2461,0',\n",
       "       '2596,0', '4728,0', '7351,0', '4766,0', '2827,0', '2853,0',\n",
       "       '2290,0', '2107,0', '2210,0', '13191,0', '18265,0', '1118,0',\n",
       "       '2372,0', '2838,0', '18061,0', '1611,0', '4768,0', '1274,0',\n",
       "       '2561,0', '1563,0', '6388,0', '8376,0', '4841,0', '2074,0',\n",
       "       '2972,0', '6815,0', '2690,0', '17567,0', '1569,0', '4187,0',\n",
       "       '3306,0', '1393,0', '10883,0', '2862,0', '6735,0', '9756,0',\n",
       "       '5294,0', '2437,0', '4071,0', '2956,0', '4648,0', '2804,0',\n",
       "       '2439,0', '2856,0', '2933,0', '1091,0', '5151,0', '2863,0',\n",
       "       '2858,0', '1129,0', '19431,0'], dtype=object)"
      ]
     },
     "metadata": {},
     "output_type": "display_data"
    },
    {
     "name": "stdout",
     "output_type": "stream",
     "text": [
      "\n",
      "Value Counts:\n"
     ]
    },
    {
     "data": {
      "text/plain": [
       "SameAsMonthlyIncome\n",
       "6347,0     4\n",
       "5304,0     4\n",
       "2657,0     3\n",
       "2258,0     3\n",
       "2380,0     2\n",
       "          ..\n",
       "19845,0    1\n",
       "6201,0     1\n",
       "16752,0    1\n",
       "10748,0    1\n",
       "19246,0    1\n",
       "Name: count, Length: 668, dtype: int64"
      ]
     },
     "metadata": {},
     "output_type": "display_data"
    },
    {
     "name": "stdout",
     "output_type": "stream",
     "text": [
      "\n",
      "Most frequent value (mode):\n"
     ]
    },
    {
     "data": {
      "text/plain": [
       "'5304,0'"
      ]
     },
     "metadata": {},
     "output_type": "display_data"
    },
    {
     "name": "stdout",
     "output_type": "stream",
     "text": [
      "\n",
      "Count of duplicates in the column:\n"
     ]
    },
    {
     "data": {
      "text/plain": [
       "np.int64(945)"
      ]
     },
     "metadata": {},
     "output_type": "display_data"
    }
   ],
   "source": [
    "autoEda = AutoEDA()\n",
    "df = autoEda.read_file(\"HR RAW DATA.csv\")\n",
    "autoEda.explo_df(df, \"SameAsMonthlyIncome\")"
   ]
  },
  {
   "cell_type": "code",
   "execution_count": 40,
   "metadata": {},
   "outputs": [
    {
     "name": "stdout",
     "output_type": "stream",
     "text": [
      "\n",
      "Exploration of the column: DateBirth\n",
      "\n",
      "Statistical description (numeric):\n"
     ]
    },
    {
     "data": {
      "text/plain": [
       "count    1614.000000\n",
       "mean     1986.076208\n",
       "std         9.101332\n",
       "min      1963.000000\n",
       "25%      1980.000000\n",
       "50%      1987.000000\n",
       "75%      1993.000000\n",
       "max      2005.000000\n",
       "Name: DateBirth, dtype: float64"
      ]
     },
     "metadata": {},
     "output_type": "display_data"
    },
    {
     "name": "stdout",
     "output_type": "stream",
     "text": [
      "\n",
      "Count of null values:\n"
     ]
    },
    {
     "data": {
      "text/plain": [
       "np.int64(0)"
      ]
     },
     "metadata": {},
     "output_type": "display_data"
    },
    {
     "name": "stdout",
     "output_type": "stream",
     "text": [
      "\n",
      "Count of unique values:\n"
     ]
    },
    {
     "data": {
      "text/plain": [
       "43"
      ]
     },
     "metadata": {},
     "output_type": "display_data"
    },
    {
     "name": "stdout",
     "output_type": "stream",
     "text": [
      "\n",
      "Unique values:\n"
     ]
    },
    {
     "data": {
      "text/plain": [
       "array([1972, 1971, 1981, 1976, 1977, 1975, 1964, 1982, 1967, 1985, 1968,\n",
       "       1983, 1965, 1988, 1978, 1990, 1987, 1989, 1970, 1980, 1963, 1991,\n",
       "       1986, 1974, 1984, 1973, 1979, 1993, 1994, 1992, 1969, 1966, 1996,\n",
       "       1995, 1997, 1998, 1999, 2000, 2001, 2002, 2003, 2004, 2005])"
      ]
     },
     "metadata": {},
     "output_type": "display_data"
    },
    {
     "name": "stdout",
     "output_type": "stream",
     "text": [
      "\n",
      "Value Counts:\n"
     ]
    },
    {
     "data": {
      "text/plain": [
       "DateBirth\n",
       "1988    84\n",
       "1989    83\n",
       "1992    83\n",
       "1994    78\n",
       "1987    75\n",
       "1991    65\n",
       "1993    64\n",
       "1985    64\n",
       "1990    61\n",
       "1983    60\n",
       "1986    55\n",
       "1996    54\n",
       "1995    53\n",
       "1981    50\n",
       "1978    48\n",
       "1982    46\n",
       "1997    46\n",
       "1984    45\n",
       "1980    40\n",
       "1977    38\n",
       "1979    34\n",
       "1973    31\n",
       "1999    27\n",
       "1976    27\n",
       "1998    27\n",
       "1974    25\n",
       "1968    25\n",
       "1972    20\n",
       "1969    20\n",
       "1970    20\n",
       "1975    20\n",
       "1971    19\n",
       "1967    17\n",
       "2002    16\n",
       "2001    16\n",
       "2000    15\n",
       "1965    15\n",
       "2003    11\n",
       "1964    10\n",
       "2004     9\n",
       "2005     8\n",
       "1963     5\n",
       "1966     5\n",
       "Name: count, dtype: int64"
      ]
     },
     "metadata": {},
     "output_type": "display_data"
    },
    {
     "name": "stdout",
     "output_type": "stream",
     "text": [
      "\n",
      "Most frequent value (mode):\n"
     ]
    },
    {
     "data": {
      "text/plain": [
       "np.int64(1988)"
      ]
     },
     "metadata": {},
     "output_type": "display_data"
    },
    {
     "name": "stdout",
     "output_type": "stream",
     "text": [
      "\n",
      "Count of duplicates in the column:\n"
     ]
    },
    {
     "data": {
      "text/plain": [
       "np.int64(1571)"
      ]
     },
     "metadata": {},
     "output_type": "display_data"
    }
   ],
   "source": [
    "autoEda = AutoEDA()\n",
    "df = autoEda.read_file(\"HR RAW DATA.csv\")\n",
    "autoEda.explo_df(df, \"DateBirth\")"
   ]
  },
  {
   "cell_type": "code",
   "execution_count": 41,
   "metadata": {},
   "outputs": [
    {
     "name": "stdout",
     "output_type": "stream",
     "text": [
      "\n",
      "Exploration of the column: Salary\n",
      "\n",
      "Statistical description (categorical):\n"
     ]
    },
    {
     "data": {
      "text/plain": [
       "count            1614\n",
       "unique              1\n",
       "top       1000000000$\n",
       "freq             1614\n",
       "Name: Salary, dtype: object"
      ]
     },
     "metadata": {},
     "output_type": "display_data"
    },
    {
     "name": "stdout",
     "output_type": "stream",
     "text": [
      "\n",
      "Count of null values:\n"
     ]
    },
    {
     "data": {
      "text/plain": [
       "np.int64(0)"
      ]
     },
     "metadata": {},
     "output_type": "display_data"
    },
    {
     "name": "stdout",
     "output_type": "stream",
     "text": [
      "\n",
      "Count of unique values:\n"
     ]
    },
    {
     "data": {
      "text/plain": [
       "1"
      ]
     },
     "metadata": {},
     "output_type": "display_data"
    },
    {
     "name": "stdout",
     "output_type": "stream",
     "text": [
      "\n",
      "Unique values:\n"
     ]
    },
    {
     "data": {
      "text/plain": [
       "array(['1000000000$'], dtype=object)"
      ]
     },
     "metadata": {},
     "output_type": "display_data"
    },
    {
     "name": "stdout",
     "output_type": "stream",
     "text": [
      "\n",
      "Value Counts:\n"
     ]
    },
    {
     "data": {
      "text/plain": [
       "Salary\n",
       "1000000000$    1614\n",
       "Name: count, dtype: int64"
      ]
     },
     "metadata": {},
     "output_type": "display_data"
    },
    {
     "name": "stdout",
     "output_type": "stream",
     "text": [
      "\n",
      "Most frequent value (mode):\n"
     ]
    },
    {
     "data": {
      "text/plain": [
       "'1000000000$'"
      ]
     },
     "metadata": {},
     "output_type": "display_data"
    },
    {
     "name": "stdout",
     "output_type": "stream",
     "text": [
      "\n",
      "Count of duplicates in the column:\n"
     ]
    },
    {
     "data": {
      "text/plain": [
       "np.int64(1613)"
      ]
     },
     "metadata": {},
     "output_type": "display_data"
    }
   ],
   "source": [
    "autoEda = AutoEDA()\n",
    "df = autoEda.read_file(\"HR RAW DATA.csv\")\n",
    "autoEda.explo_df(df, \"Salary\")"
   ]
  },
  {
   "cell_type": "code",
   "execution_count": 42,
   "metadata": {},
   "outputs": [
    {
     "name": "stdout",
     "output_type": "stream",
     "text": [
      "\n",
      "Exploration of the column: RoleDepartament\n",
      "\n",
      "Statistical description (categorical):\n"
     ]
    },
    {
     "data": {
      "text/plain": [
       "count                     302\n",
       "unique                    301\n",
       "top        MaNAgeR  -  Sales \n",
       "freq                        2\n",
       "Name: RoleDepartament, dtype: object"
      ]
     },
     "metadata": {},
     "output_type": "display_data"
    },
    {
     "name": "stdout",
     "output_type": "stream",
     "text": [
      "\n",
      "Count of null values:\n"
     ]
    },
    {
     "data": {
      "text/plain": [
       "np.int64(1312)"
      ]
     },
     "metadata": {},
     "output_type": "display_data"
    },
    {
     "name": "stdout",
     "output_type": "stream",
     "text": [
      "\n",
      "Count of unique values:\n"
     ]
    },
    {
     "data": {
      "text/plain": [
       "301"
      ]
     },
     "metadata": {},
     "output_type": "display_data"
    },
    {
     "name": "stdout",
     "output_type": "stream",
     "text": [
      "\n",
      "Unique values:\n"
     ]
    },
    {
     "data": {
      "text/plain": [
       "array([nan, ' ManaGER  -  Research & Development ',\n",
       "       ' MANAger  -  Research & Development ',\n",
       "       ' heaLtHcArE repResENtATiVe  -  Research & Development ',\n",
       "       ' saLEs exEcutIVe  -  Sales ', ' Sales ExECuTIVe  -  Sales ',\n",
       "       ' heALthCArE RePResEntaTIVe  -  Research & Development ',\n",
       "       ' lABORAtOry tECHnIcIan  -  Research & Development ',\n",
       "       ' ManufactUrINg DiReCTOr  -  Research & Development ',\n",
       "       ' SaleS eXEcUtIVE  -  Sales ',\n",
       "       ' HEaLthcaRe rEprEsEnTAtiVe  -  Research & Development ',\n",
       "       ' rESeArCH sCientIST  -  Research & Development ',\n",
       "       ' healTHCAre rePREseNtATiVE  -  Research & Development ',\n",
       "       ' mANaGer  -  Research & Development ',\n",
       "       ' HEAltHCaRe REPreseNTatIve  -  Research & Development ',\n",
       "       ' SaLeS eXECUTivE  -  Sales ',\n",
       "       ' reSeARCH SCIEnTiST  -  Research & Development ',\n",
       "       ' ReSearch DiRecTOR  -  Research & Development ',\n",
       "       ' resEaRCh SciEnTist  -  Research & Development ',\n",
       "       ' hUmaN REsoUrCes  -  Human Resources ',\n",
       "       ' manAgER  -  Research & Development ',\n",
       "       ' SaLES eXeCUtIVE  -  Sales ',\n",
       "       ' reSEarCH scIentISt  -  Research & Development ',\n",
       "       ' ReSeARCh DiRECtor  -  Research & Development ',\n",
       "       ' MaNAgeR  -  Sales ',\n",
       "       ' RESEArCH sCIenTIst  -  Research & Development ',\n",
       "       ' hUMAn reSoUrCES  -  Human Resources ',\n",
       "       ' HUmAN rESOuRceS  -  Human Resources ',\n",
       "       ' SaleS EXeCuTivE  -  Sales ',\n",
       "       ' ReSeARch scIENTISt  -  Research & Development ',\n",
       "       ' LaBoRaTorY TeChNicIAn  -  Research & Development ',\n",
       "       ' ManUfaCTUriNg dIReCtor  -  Research & Development ',\n",
       "       ' saLES ExECuTIVe  -  Sales ',\n",
       "       ' RESEaRch SCIEntISt  -  Research & Development ',\n",
       "       ' mAnUFaCtUrinG diReCtor  -  Research & Development ',\n",
       "       ' maNUFAcTURING direCTOr  -  Research & Development ',\n",
       "       ' labOraTORy techNicIan  -  Research & Development ',\n",
       "       ' SAlEs ExeCUtive  -  Sales ',\n",
       "       ' MANUFACturING DIRecToR  -  Research & Development ',\n",
       "       ' Sales eXECuTIvE  -  Sales ',\n",
       "       ' mANUfaCTuRiNG DiRECtOr  -  Research & Development ',\n",
       "       ' ManUFACtURiNg DiRECTOr  -  Research & Development ',\n",
       "       ' ResEARcH DiReCToR  -  Research & Development ',\n",
       "       ' MANAgER  -  Research & Development ',\n",
       "       ' labORATORY TechnIcIaN  -  Research & Development ',\n",
       "       ' MaNUfacTurINg DiReCTor  -  Research & Development ',\n",
       "       ' ReSEaRcH sciENTIST  -  Research & Development ',\n",
       "       ' rESEARCh dIrEcTOr  -  Research & Development ',\n",
       "       ' MANUfACTuRinG diRecTOR  -  Research & Development ',\n",
       "       ' HeaLThCArE REpRESENTAtIVe  -  Research & Development ',\n",
       "       ' LABOraTory TecHnIciaN  -  Research & Development ',\n",
       "       ' sales rEprESEntAtIvE  -  Sales ',\n",
       "       ' mANuFacTurinG DirECtoR  -  Research & Development ',\n",
       "       ' lABorATOrY TeChnICIan  -  Research & Development ',\n",
       "       ' RESEarCh SCIEnTiST  -  Research & Development ',\n",
       "       ' SALes exEcuTIVe  -  Sales ',\n",
       "       ' REseARCH DirectOr  -  Research & Development ',\n",
       "       ' sAlES EXEcUtIVe  -  Sales ',\n",
       "       ' lABoraToRY teCHnIcIaN  -  Research & Development ',\n",
       "       ' LaBorATORy tEChnICiaN  -  Research & Development ',\n",
       "       ' sales ExecutIvE  -  Sales ', ' sAles exECUtiVe  -  Sales ',\n",
       "       ' SALEs eXecuTiVE  -  Sales ', ' SaleS executIVE  -  Sales ',\n",
       "       ' rEsEArCH sCIeNTIST  -  Research & Development ',\n",
       "       ' reSEArch SCIEntIsT  -  Research & Development ',\n",
       "       ' rESeArCh DIrEctor  -  Research & Development ',\n",
       "       ' saLES ExECUtiVe  -  Sales ',\n",
       "       ' LaboRATory tEchNICIAn  -  Research & Development ',\n",
       "       ' SAlEs exECUtIVe  -  Sales ', ' salEs eXECuTivE  -  Sales ',\n",
       "       ' ReseaRch scIenTisT  -  Research & Development ',\n",
       "       ' LaBoraTORY teCHNiCIaN  -  Research & Development ',\n",
       "       ' sALEs ExeCuTive  -  Sales ',\n",
       "       ' heALtHCARE rePResENtAtivE  -  Research & Development ',\n",
       "       ' ManAgEr  -  Research & Development ',\n",
       "       ' laboRAtORy TecHnICiAN  -  Research & Development ',\n",
       "       ' ReSeARCH diRECtoR  -  Research & Development ',\n",
       "       ' LAborAtOry TEchniCIAn  -  Research & Development ',\n",
       "       ' SaLeS eXECutiVE  -  Sales ', ' SalEs eXECuTive  -  Sales ',\n",
       "       ' rESeaRCH DIReCToR  -  Research & Development ',\n",
       "       ' mANAGeR  -  Human Resources ', ' saLeS exECUtive  -  Sales ',\n",
       "       ' maNuFAcTURInG DIReCtoR  -  Research & Development ',\n",
       "       ' LABORaTorY TEChNIcIAN  -  Research & Development ',\n",
       "       ' hEalTHcARe RePrEseNTATive  -  Research & Development ',\n",
       "       ' mANuFActuring DireCtOR  -  Research & Development ',\n",
       "       ' MaNagEr  -  Research & Development ',\n",
       "       ' SaLeS exeCuTIVe  -  Sales ',\n",
       "       ' lAboRaTory tECHNIciAN  -  Research & Development ',\n",
       "       ' saLes eXECUTIVe  -  Sales ', ' saLes EXEcuTiVe  -  Sales ',\n",
       "       ' mAnaGeR  -  Research & Development ',\n",
       "       ' HEALThCaRe rePResEnTaTivE  -  Research & Development ',\n",
       "       ' mAnAgEr  -  Research & Development ',\n",
       "       ' MaNageR  -  Research & Development ',\n",
       "       ' HeAlThCarE rEpreSentatiVe  -  Research & Development ',\n",
       "       ' HUMAN ResoURCeS  -  Human Resources ',\n",
       "       ' huMAn ResOurces  -  Human Resources ',\n",
       "       ' mANUfacTURiNG dIRectOR  -  Research & Development ',\n",
       "       ' saLES eXEcUTiVE  -  Sales ',\n",
       "       ' labORaTORY teChNIcIaN  -  Research & Development ',\n",
       "       ' saLes eXeCUTivE  -  Sales ', ' Sales exECutIVE  -  Sales ',\n",
       "       ' saleS eXEcuTIvE  -  Sales ', ' SALes ExeCUtive  -  Sales ',\n",
       "       ' reSearCH SCieNtIst  -  Research & Development ',\n",
       "       ' HEALThcaRe RePresENtaTiVE  -  Research & Development ',\n",
       "       ' rEsEARch sCientIST  -  Research & Development ',\n",
       "       ' HealthcARE RePreSENtAtiVe  -  Research & Development ',\n",
       "       ' ResEArch ScieNTiST  -  Research & Development ',\n",
       "       ' labORaTORy TecHniciAN  -  Research & Development ',\n",
       "       ' SalEs exECUTIvE  -  Sales ',\n",
       "       ' LabOrATory TEChNICiaN  -  Research & Development ',\n",
       "       ' reSeArcH scieNtist  -  Research & Development ',\n",
       "       ' maNuFAcTUring DIrecToR  -  Research & Development ',\n",
       "       ' ResEARCh DIRECtoR  -  Research & Development ',\n",
       "       ' SaLes exECutIVe  -  Sales ', ' SAleS eXecuTIVe  -  Sales ',\n",
       "       ' manAGER  -  Sales ',\n",
       "       ' LaBOrATORy teCHnIciaN  -  Research & Development ',\n",
       "       ' SAlES ExecuTIVe  -  Sales ', ' salES exEcUtiVE  -  Sales ',\n",
       "       ' SAlEs ExECUTIVe  -  Sales ',\n",
       "       ' HEaLTHcaRE rePReseNtaTIvE  -  Research & Development ',\n",
       "       ' sAles eXEcUtIve  -  Sales ',\n",
       "       ' laBoraTorY tEChnICiaN  -  Research & Development ',\n",
       "       ' MANufacTURIng diREcTOr  -  Research & Development ',\n",
       "       ' REsearch scIENtist  -  Research & Development ',\n",
       "       ' heaLtHcARe RePReSENtaTIve  -  Research & Development ',\n",
       "       ' lAbOrAtorY techNiCiaN  -  Research & Development ',\n",
       "       ' laboRaTOrY TEchniCIaN  -  Research & Development ',\n",
       "       ' SAles ExECutIvE  -  Sales ',\n",
       "       ' HeALtHCarE represEntAtIVe  -  Research & Development ',\n",
       "       ' HEalThCaRe rEpReSENtatIVe  -  Research & Development ',\n",
       "       ' HEalTHCare REPrEsEntATiVE  -  Research & Development ',\n",
       "       ' LaBoRaToRY TEcHnIcian  -  Research & Development ',\n",
       "       ' SAlES ExecutIve  -  Sales ',\n",
       "       ' LaBOrAtory TECHNIciAN  -  Research & Development ',\n",
       "       ' ReSeArch scIenTIsT  -  Research & Development ',\n",
       "       ' SaLEs EXECutIVe  -  Sales ',\n",
       "       ' rESEARch DiRector  -  Research & Development ',\n",
       "       ' HEaltHcare rEPrEsEnTatIVe  -  Research & Development ',\n",
       "       ' lABORatORY TeChNiCiAN  -  Research & Development ',\n",
       "       ' LaBOratory TeChnICiAn  -  Research & Development ',\n",
       "       ' maNAGer  -  Sales ', ' hUMAn rEsOuRCES  -  Human Resources ',\n",
       "       ' sales ExeCUTiVE  -  Sales ', ' saLEs exeCUtiVe  -  Sales ',\n",
       "       ' laBorAtORy TECHnicIaN  -  Research & Development ',\n",
       "       ' ReSeaRch SCIEnTiSt  -  Research & Development ',\n",
       "       ' rEsEArcH scIenTIst  -  Research & Development ',\n",
       "       ' RESeArch dIREcToR  -  Research & Development ',\n",
       "       ' saLes ExECutIVE  -  Sales ',\n",
       "       ' REseARCh SCIenTIst  -  Research & Development ',\n",
       "       ' sALEs exECuTiVe  -  Sales ',\n",
       "       ' rEseArCh SCieNtiST  -  Research & Development ',\n",
       "       ' lABoRAtoRY TecHnIcian  -  Research & Development ',\n",
       "       ' researcH SciEntIST  -  Research & Development ',\n",
       "       ' REseARCH ScIeNTIST  -  Research & Development ',\n",
       "       ' sAles ExecUtive  -  Sales ',\n",
       "       ' mAnUfaCTuRing DiRecTor  -  Research & Development ',\n",
       "       ' SaLes exEcUtIvE  -  Sales ',\n",
       "       ' ReseArCH scIenTIst  -  Research & Development ',\n",
       "       ' ReseArch sCienTiST  -  Research & Development ',\n",
       "       ' ReSEarcH SCiEnTISt  -  Research & Development ',\n",
       "       ' laBORATORY tECHNiciAN  -  Research & Development ',\n",
       "       ' rESeArCH sCIeNtISt  -  Research & Development ',\n",
       "       ' humAN resoURCEs  -  Human Resources ',\n",
       "       ' REseARCh scieNTIsT  -  Research & Development ',\n",
       "       ' SaLeS REPRESENtATIvE  -  Sales ',\n",
       "       ' ResEArch SciEntiST  -  Research & Development ',\n",
       "       ' ReSEaRCh SCIEnTist  -  Research & Development ',\n",
       "       ' hUmAn REsOurCES  -  Human Resources ',\n",
       "       ' sALeS EXecuTIVe  -  Sales ',\n",
       "       ' ReseArCh SciENTIsT  -  Research & Development ',\n",
       "       ' sALes rEprESentAtIvE  -  Sales ',\n",
       "       ' humaN reSOUrcEs  -  Human Resources ',\n",
       "       ' lAboRatOrY TechNiCiAn  -  Research & Development ',\n",
       "       ' HeAlthcaRE rEPrEseNTaTIVE  -  Research & Development ',\n",
       "       ' sALeS eXecuTIvE  -  Sales ', ' SALeS RepREsEnTatiVe  -  Sales ',\n",
       "       ' SaLes rePrESENTaTivE  -  Sales ',\n",
       "       ' rESEaRch sCientISt  -  Research & Development ',\n",
       "       ' laBORatoRy TEcHnician  -  Research & Development ',\n",
       "       ' ReSeaRch SCIentiST  -  Research & Development ',\n",
       "       ' RESEarch ScieNtIst  -  Research & Development ',\n",
       "       ' sALeS RePresenTAtivE  -  Sales ',\n",
       "       ' LABORAToRy tEchNICiAn  -  Research & Development ',\n",
       "       ' ResEArch sCIEnTiST  -  Research & Development ',\n",
       "       ' ReSEArcH sCIeNtist  -  Research & Development ',\n",
       "       ' LaBoRaTory techNICIAN  -  Research & Development ',\n",
       "       ' hEaLThcARE rEpresEntATiVE  -  Research & Development ',\n",
       "       ' mANufActuRIng DirECTOR  -  Research & Development ',\n",
       "       ' laBOraTOrY TecHNIcIan  -  Research & Development ',\n",
       "       ' sALES ReprEsentatiVE  -  Sales ',\n",
       "       ' laBoRatoRy TEChNICiAN  -  Research & Development ',\n",
       "       ' ReSEarch scIeNTIsT  -  Research & Development ',\n",
       "       ' researCh SCientIsT  -  Research & Development ',\n",
       "       ' ReseaRch scIENTisT  -  Research & Development ',\n",
       "       ' lAboRaToRY teChNICIan  -  Research & Development ',\n",
       "       ' rEsEaRCh diReCtOR  -  Research & Development ',\n",
       "       ' labORAtoRy tEcHNICIAN  -  Research & Development ',\n",
       "       ' SAlES exeCutive  -  Sales ',\n",
       "       ' hEalthCaRe reprEseNTaTiVe  -  Research & Development ',\n",
       "       ' ManufacTURInG DIRECtOR  -  Research & Development ',\n",
       "       ' sAles exEcUtIve  -  Sales ',\n",
       "       ' reseARCh SCieNTisT  -  Research & Development ',\n",
       "       ' reSEarcH scIENtISt  -  Research & Development ',\n",
       "       ' reseArCH scIentISt  -  Research & Development ',\n",
       "       ' MANuFaCturiNG dIRECTOR  -  Research & Development ',\n",
       "       ' HuMan resoUrCes  -  Human Resources ',\n",
       "       ' huMAn Resources  -  Human Resources ',\n",
       "       ' Sales EXEcUTiVe  -  Sales ',\n",
       "       ' reSEaRCH scIenTisT  -  Research & Development ',\n",
       "       ' sales rEpRESEnTatIve  -  Sales ',\n",
       "       ' reseaRch DIrecTOr  -  Research & Development ',\n",
       "       ' sALeS eXECutivE  -  Sales ',\n",
       "       ' Human REsouRCeS  -  Human Resources ',\n",
       "       ' rESeArcH sCientIST  -  Research & Development ',\n",
       "       ' SAlES RepreSENtATiVe  -  Sales ', ' SAles execUTIve  -  Sales ',\n",
       "       ' RESEArch SCIEnTISt  -  Research & Development ',\n",
       "       ' labOrATOry TEchnIcIaN  -  Research & Development ',\n",
       "       ' sALes ExEcUTIVe  -  Sales ',\n",
       "       ' REsEARch sCIenTIsT  -  Research & Development ',\n",
       "       ' RESeARch ScIeNtisT  -  Research & Development ',\n",
       "       ' rEseARCH ScIeNtIST  -  Research & Development ',\n",
       "       ' ManAGEr  -  Research & Development ',\n",
       "       ' LaBoratory TECHnICIAn  -  Research & Development ',\n",
       "       ' saLES exEcutivE  -  Sales ',\n",
       "       ' LABorATory TecHnIcIaN  -  Research & Development ',\n",
       "       ' HumAN REsourceS  -  Human Resources ',\n",
       "       ' reseaRCh SCIentIst  -  Research & Development ',\n",
       "       ' LaBOrAToRy teChNiciAn  -  Research & Development ',\n",
       "       ' LaborAtorY Technician  -  Research & Development ',\n",
       "       ' rEseaRCH sCIeNtiSt  -  Research & Development ',\n",
       "       ' LABOrATOrY TEchnIcIAn  -  Research & Development ',\n",
       "       ' ReSeARCh DireCtOr  -  Research & Development ',\n",
       "       ' LaBORatORy tEchNiCian  -  Research & Development ',\n",
       "       ' laBorATOrY TeChNIcIAn  -  Research & Development ',\n",
       "       ' sALEs RePREsentaTive  -  Sales ', ' mAnageR  -  Sales ',\n",
       "       ' rESEArcH SCiEntIst  -  Research & Development ',\n",
       "       ' heAlThcaRe REprESeNTATive  -  Research & Development ',\n",
       "       ' LABoratOry TeCHnIcIan  -  Research & Development ',\n",
       "       ' hEAlthCarE rEpresenTATiVe  -  Research & Development ',\n",
       "       ' HealTHcaRE rEPreSEntATive  -  Research & Development ',\n",
       "       ' MaNUfActuRInG diREctOr  -  Research & Development ',\n",
       "       ' saLes REPrEsentAtiVE  -  Sales ',\n",
       "       ' LABorAtORy TEchnIciAn  -  Research & Development ',\n",
       "       ' rEsEARcH ScieNTisT  -  Research & Development ',\n",
       "       ' SalEs eXecuTive  -  Sales ', ' SaLeS EXEcUTiVe  -  Sales ',\n",
       "       ' MaNufacTuRINg DirEcTor  -  Research & Development ',\n",
       "       ' resEaRcH scIENTiSt  -  Research & Development ',\n",
       "       ' SALes eXECuTIvE  -  Sales ',\n",
       "       ' LabORatORy tEChnIcIAn  -  Research & Development ',\n",
       "       ' LaBorAtOrY teCHNICIAn  -  Research & Development ',\n",
       "       ' saLEs RePREsentAtiVE  -  Sales ',\n",
       "       ' laBOrATORY TechNiCiAn  -  Research & Development ',\n",
       "       ' sALes exECutIVe  -  Sales ',\n",
       "       ' LabOraToRy technICiAN  -  Research & Development ',\n",
       "       ' lAborAtORY TeCHNIciAN  -  Research & Development ',\n",
       "       ' SAlES rePrESentaTIVe  -  Sales ',\n",
       "       ' mANager  -  Research & Development ',\n",
       "       ' HEAlThcARe rEPREseNtATIVe  -  Research & Development ',\n",
       "       ' REsEArCH dIrECTOr  -  Research & Development ',\n",
       "       ' rESeaRch SCIeNTIST  -  Research & Development ',\n",
       "       ' SALEs REpRESentatIve  -  Sales ', ' SalES eXecUTiVE  -  Sales ',\n",
       "       ' SaLes REPREseNtATive  -  Sales ',\n",
       "       ' ReSeArch sCIEnTiSt  -  Research & Development ',\n",
       "       ' sales REPReSeNtAtIVe  -  Sales ', ' sAles execUtIve  -  Sales ',\n",
       "       ' LABOrATORy tEChNiCIaN  -  Research & Development ',\n",
       "       ' hEalthCarE REPResEnTaTive  -  Research & Development ',\n",
       "       ' mANagER  -  Research & Development ',\n",
       "       ' sales repResENTaTiVE  -  Sales ',\n",
       "       ' laboRAToRY tEChniCIAN  -  Research & Development ',\n",
       "       ' resEaRcH sCIeNTisT  -  Research & Development ',\n",
       "       ' maNuFAcTurING diREctOr  -  Research & Development ',\n",
       "       ' mAnAger  -  Research & Development ',\n",
       "       ' SALes eXEcUtiVe  -  Sales ',\n",
       "       ' reSearCh SCiEnTist  -  Research & Development ',\n",
       "       ' rESEARch SciENtiSt  -  Research & Development ',\n",
       "       ' hUman ResourCeS  -  Human Resources ',\n",
       "       ' SALES exeCUtIve  -  Sales ',\n",
       "       ' ReseaRcH sCientiSt  -  Research & Development ',\n",
       "       ' LAbORaTory tEcHnIciAN  -  Research & Development ',\n",
       "       ' lABOraTOrY tecHniciaN  -  Research & Development ',\n",
       "       ' sALeS exEcUtiVe  -  Sales ', ' salEs eXEcuTIvE  -  Sales ',\n",
       "       ' SAleS ExEcuTiVE  -  Sales ', ' SaLeS exEcUTiVE  -  Sales ',\n",
       "       ' ReSEArch scieNTiST  -  Research & Development ',\n",
       "       ' reSEArCh sCieNtiST  -  Research & Development ',\n",
       "       ' ReseaRCh dIRecTor  -  Research & Development ',\n",
       "       ' SaLEs ExECUtiVE  -  Sales ',\n",
       "       ' LAbORAToRy tEcHNICian  -  Research & Development ',\n",
       "       ' sAleS EXECUtIvE  -  Sales '], dtype=object)"
      ]
     },
     "metadata": {},
     "output_type": "display_data"
    },
    {
     "name": "stdout",
     "output_type": "stream",
     "text": [
      "\n",
      "Value Counts:\n"
     ]
    },
    {
     "data": {
      "text/plain": [
       "RoleDepartament\n",
       "MaNAgeR  -  Sales                                        2\n",
       "hEalthCaRe reprEseNTaTiVe  -  Research & Development     1\n",
       "SAlES exeCutive  -  Sales                                1\n",
       "labORAtoRy tEcHNICIAN  -  Research & Development         1\n",
       "rEsEaRCh diReCtOR  -  Research & Development             1\n",
       "                                                        ..\n",
       "HUMAN ResoURCeS  -  Human Resources                      1\n",
       "HeAlThCarE rEpreSentatiVe  -  Research & Development     1\n",
       "MaNageR  -  Research & Development                       1\n",
       "mAnAgEr  -  Research & Development                       1\n",
       "Sales exECutIVE  -  Sales                                1\n",
       "Name: count, Length: 301, dtype: int64"
      ]
     },
     "metadata": {},
     "output_type": "display_data"
    },
    {
     "name": "stdout",
     "output_type": "stream",
     "text": [
      "\n",
      "Most frequent value (mode):\n"
     ]
    },
    {
     "data": {
      "text/plain": [
       "' MaNAgeR  -  Sales '"
      ]
     },
     "metadata": {},
     "output_type": "display_data"
    },
    {
     "name": "stdout",
     "output_type": "stream",
     "text": [
      "\n",
      "Count of duplicates in the column:\n"
     ]
    },
    {
     "data": {
      "text/plain": [
       "np.int64(1312)"
      ]
     },
     "metadata": {},
     "output_type": "display_data"
    }
   ],
   "source": [
    "autoEda = AutoEDA()\n",
    "df = autoEda.read_file(\"HR RAW DATA.csv\")\n",
    "autoEda.explo_df(df, \"RoleDepartament\")"
   ]
  },
  {
   "cell_type": "code",
   "execution_count": 43,
   "metadata": {},
   "outputs": [
    {
     "name": "stdout",
     "output_type": "stream",
     "text": [
      "\n",
      "Exploration of the column: NUMBERCHILDREN\n",
      "\n",
      "Statistical description (numeric):\n"
     ]
    },
    {
     "data": {
      "text/plain": [
       "count    0.0\n",
       "mean     NaN\n",
       "std      NaN\n",
       "min      NaN\n",
       "25%      NaN\n",
       "50%      NaN\n",
       "75%      NaN\n",
       "max      NaN\n",
       "Name: NUMBERCHILDREN, dtype: float64"
      ]
     },
     "metadata": {},
     "output_type": "display_data"
    },
    {
     "name": "stdout",
     "output_type": "stream",
     "text": [
      "\n",
      "Count of null values:\n"
     ]
    },
    {
     "data": {
      "text/plain": [
       "np.int64(1614)"
      ]
     },
     "metadata": {},
     "output_type": "display_data"
    },
    {
     "name": "stdout",
     "output_type": "stream",
     "text": [
      "\n",
      "Count of unique values:\n"
     ]
    },
    {
     "data": {
      "text/plain": [
       "0"
      ]
     },
     "metadata": {},
     "output_type": "display_data"
    },
    {
     "name": "stdout",
     "output_type": "stream",
     "text": [
      "\n",
      "Unique values:\n"
     ]
    },
    {
     "data": {
      "text/plain": [
       "array([nan])"
      ]
     },
     "metadata": {},
     "output_type": "display_data"
    },
    {
     "name": "stdout",
     "output_type": "stream",
     "text": [
      "\n",
      "Value Counts:\n"
     ]
    },
    {
     "data": {
      "text/plain": [
       "Series([], Name: count, dtype: int64)"
      ]
     },
     "metadata": {},
     "output_type": "display_data"
    },
    {
     "name": "stdout",
     "output_type": "stream",
     "text": [
      "\n",
      "Most frequent value (mode):\n"
     ]
    },
    {
     "ename": "IndexError",
     "evalue": "single positional indexer is out-of-bounds",
     "output_type": "error",
     "traceback": [
      "\u001b[0;31m---------------------------------------------------------------------------\u001b[0m",
      "\u001b[0;31mIndexError\u001b[0m                                Traceback (most recent call last)",
      "Cell \u001b[0;32mIn[43], line 3\u001b[0m\n\u001b[1;32m      1\u001b[0m autoEda \u001b[38;5;241m=\u001b[39m AutoEDA()\n\u001b[1;32m      2\u001b[0m df \u001b[38;5;241m=\u001b[39m autoEda\u001b[38;5;241m.\u001b[39mread_file(\u001b[38;5;124m\"\u001b[39m\u001b[38;5;124mHR RAW DATA.csv\u001b[39m\u001b[38;5;124m\"\u001b[39m)\n\u001b[0;32m----> 3\u001b[0m \u001b[43mautoEda\u001b[49m\u001b[38;5;241;43m.\u001b[39;49m\u001b[43mexplo_df\u001b[49m\u001b[43m(\u001b[49m\u001b[43mdf\u001b[49m\u001b[43m,\u001b[49m\u001b[43m \u001b[49m\u001b[38;5;124;43m\"\u001b[39;49m\u001b[38;5;124;43mNUMBERCHILDREN\u001b[39;49m\u001b[38;5;124;43m\"\u001b[39;49m\u001b[43m)\u001b[49m\n",
      "Cell \u001b[0;32mIn[1], line 95\u001b[0m, in \u001b[0;36mAutoEDA.explo_df\u001b[0;34m(self, DataFrame, column)\u001b[0m\n\u001b[1;32m     93\u001b[0m display(DataFrame[col]\u001b[38;5;241m.\u001b[39mvalue_counts())\n\u001b[1;32m     94\u001b[0m \u001b[38;5;28mprint\u001b[39m(\u001b[38;5;124m\"\u001b[39m\u001b[38;5;130;01m\\n\u001b[39;00m\u001b[38;5;124mMost frequent value (mode):\u001b[39m\u001b[38;5;124m\"\u001b[39m)\n\u001b[0;32m---> 95\u001b[0m display(\u001b[43mDataFrame\u001b[49m\u001b[43m[\u001b[49m\u001b[43mcol\u001b[49m\u001b[43m]\u001b[49m\u001b[38;5;241;43m.\u001b[39;49m\u001b[43mmode\u001b[49m\u001b[43m(\u001b[49m\u001b[43m)\u001b[49m\u001b[38;5;241;43m.\u001b[39;49m\u001b[43miloc\u001b[49m\u001b[43m[\u001b[49m\u001b[38;5;241;43m0\u001b[39;49m\u001b[43m]\u001b[49m)\n\u001b[1;32m     96\u001b[0m \u001b[38;5;28mprint\u001b[39m(\u001b[38;5;124m\"\u001b[39m\u001b[38;5;130;01m\\n\u001b[39;00m\u001b[38;5;124mCount of duplicates in the column:\u001b[39m\u001b[38;5;124m\"\u001b[39m)\n\u001b[1;32m     97\u001b[0m display(DataFrame\u001b[38;5;241m.\u001b[39mduplicated(subset\u001b[38;5;241m=\u001b[39m[col])\u001b[38;5;241m.\u001b[39msum())\n",
      "File \u001b[0;32m~/anaconda3/envs/promoI/lib/python3.9/site-packages/pandas/core/indexing.py:1191\u001b[0m, in \u001b[0;36m_LocationIndexer.__getitem__\u001b[0;34m(self, key)\u001b[0m\n\u001b[1;32m   1189\u001b[0m maybe_callable \u001b[38;5;241m=\u001b[39m com\u001b[38;5;241m.\u001b[39mapply_if_callable(key, \u001b[38;5;28mself\u001b[39m\u001b[38;5;241m.\u001b[39mobj)\n\u001b[1;32m   1190\u001b[0m maybe_callable \u001b[38;5;241m=\u001b[39m \u001b[38;5;28mself\u001b[39m\u001b[38;5;241m.\u001b[39m_check_deprecated_callable_usage(key, maybe_callable)\n\u001b[0;32m-> 1191\u001b[0m \u001b[38;5;28;01mreturn\u001b[39;00m \u001b[38;5;28;43mself\u001b[39;49m\u001b[38;5;241;43m.\u001b[39;49m\u001b[43m_getitem_axis\u001b[49m\u001b[43m(\u001b[49m\u001b[43mmaybe_callable\u001b[49m\u001b[43m,\u001b[49m\u001b[43m \u001b[49m\u001b[43maxis\u001b[49m\u001b[38;5;241;43m=\u001b[39;49m\u001b[43maxis\u001b[49m\u001b[43m)\u001b[49m\n",
      "File \u001b[0;32m~/anaconda3/envs/promoI/lib/python3.9/site-packages/pandas/core/indexing.py:1752\u001b[0m, in \u001b[0;36m_iLocIndexer._getitem_axis\u001b[0;34m(self, key, axis)\u001b[0m\n\u001b[1;32m   1749\u001b[0m     \u001b[38;5;28;01mraise\u001b[39;00m \u001b[38;5;167;01mTypeError\u001b[39;00m(\u001b[38;5;124m\"\u001b[39m\u001b[38;5;124mCannot index by location index with a non-integer key\u001b[39m\u001b[38;5;124m\"\u001b[39m)\n\u001b[1;32m   1751\u001b[0m \u001b[38;5;66;03m# validate the location\u001b[39;00m\n\u001b[0;32m-> 1752\u001b[0m \u001b[38;5;28;43mself\u001b[39;49m\u001b[38;5;241;43m.\u001b[39;49m\u001b[43m_validate_integer\u001b[49m\u001b[43m(\u001b[49m\u001b[43mkey\u001b[49m\u001b[43m,\u001b[49m\u001b[43m \u001b[49m\u001b[43maxis\u001b[49m\u001b[43m)\u001b[49m\n\u001b[1;32m   1754\u001b[0m \u001b[38;5;28;01mreturn\u001b[39;00m \u001b[38;5;28mself\u001b[39m\u001b[38;5;241m.\u001b[39mobj\u001b[38;5;241m.\u001b[39m_ixs(key, axis\u001b[38;5;241m=\u001b[39maxis)\n",
      "File \u001b[0;32m~/anaconda3/envs/promoI/lib/python3.9/site-packages/pandas/core/indexing.py:1685\u001b[0m, in \u001b[0;36m_iLocIndexer._validate_integer\u001b[0;34m(self, key, axis)\u001b[0m\n\u001b[1;32m   1683\u001b[0m len_axis \u001b[38;5;241m=\u001b[39m \u001b[38;5;28mlen\u001b[39m(\u001b[38;5;28mself\u001b[39m\u001b[38;5;241m.\u001b[39mobj\u001b[38;5;241m.\u001b[39m_get_axis(axis))\n\u001b[1;32m   1684\u001b[0m \u001b[38;5;28;01mif\u001b[39;00m key \u001b[38;5;241m>\u001b[39m\u001b[38;5;241m=\u001b[39m len_axis \u001b[38;5;129;01mor\u001b[39;00m key \u001b[38;5;241m<\u001b[39m \u001b[38;5;241m-\u001b[39mlen_axis:\n\u001b[0;32m-> 1685\u001b[0m     \u001b[38;5;28;01mraise\u001b[39;00m \u001b[38;5;167;01mIndexError\u001b[39;00m(\u001b[38;5;124m\"\u001b[39m\u001b[38;5;124msingle positional indexer is out-of-bounds\u001b[39m\u001b[38;5;124m\"\u001b[39m)\n",
      "\u001b[0;31mIndexError\u001b[0m: single positional indexer is out-of-bounds"
     ]
    }
   ],
   "source": [
    "autoEda = AutoEDA()\n",
    "df = autoEda.read_file(\"HR RAW DATA.csv\")\n",
    "autoEda.explo_df(df, \"NUMBERCHILDREN\")"
   ]
  },
  {
   "cell_type": "code",
   "execution_count": 44,
   "metadata": {},
   "outputs": [
    {
     "name": "stdout",
     "output_type": "stream",
     "text": [
      "\n",
      "Exploration of the column: RemoteWork\n",
      "\n",
      "Statistical description (categorical):\n"
     ]
    },
    {
     "data": {
      "text/plain": [
       "count     1614\n",
       "unique       5\n",
       "top          1\n",
       "freq       360\n",
       "Name: RemoteWork, dtype: object"
      ]
     },
     "metadata": {},
     "output_type": "display_data"
    },
    {
     "name": "stdout",
     "output_type": "stream",
     "text": [
      "\n",
      "Count of null values:\n"
     ]
    },
    {
     "data": {
      "text/plain": [
       "np.int64(0)"
      ]
     },
     "metadata": {},
     "output_type": "display_data"
    },
    {
     "name": "stdout",
     "output_type": "stream",
     "text": [
      "\n",
      "Count of unique values:\n"
     ]
    },
    {
     "data": {
      "text/plain": [
       "5"
      ]
     },
     "metadata": {},
     "output_type": "display_data"
    },
    {
     "name": "stdout",
     "output_type": "stream",
     "text": [
      "\n",
      "Unique values:\n"
     ]
    },
    {
     "data": {
      "text/plain": [
       "array(['Yes', '1', 'False', '0', 'True'], dtype=object)"
      ]
     },
     "metadata": {},
     "output_type": "display_data"
    },
    {
     "name": "stdout",
     "output_type": "stream",
     "text": [
      "\n",
      "Value Counts:\n"
     ]
    },
    {
     "data": {
      "text/plain": [
       "RemoteWork\n",
       "1        360\n",
       "True     345\n",
       "0        309\n",
       "False    305\n",
       "Yes      295\n",
       "Name: count, dtype: int64"
      ]
     },
     "metadata": {},
     "output_type": "display_data"
    },
    {
     "name": "stdout",
     "output_type": "stream",
     "text": [
      "\n",
      "Most frequent value (mode):\n"
     ]
    },
    {
     "data": {
      "text/plain": [
       "'1'"
      ]
     },
     "metadata": {},
     "output_type": "display_data"
    },
    {
     "name": "stdout",
     "output_type": "stream",
     "text": [
      "\n",
      "Count of duplicates in the column:\n"
     ]
    },
    {
     "data": {
      "text/plain": [
       "np.int64(1609)"
      ]
     },
     "metadata": {},
     "output_type": "display_data"
    }
   ],
   "source": [
    "autoEda = AutoEDA()\n",
    "df = autoEda.read_file(\"HR RAW DATA.csv\")\n",
    "autoEda.explo_df(df, \"RemoteWork\")"
   ]
  },
  {
   "cell_type": "code",
   "execution_count": 45,
   "metadata": {},
   "outputs": [
    {
     "name": "stdout",
     "output_type": "stream",
     "text": [
      "\n",
      "Exploration of the column: DailyRate\n",
      "\n",
      "Statistical description (numeric):\n"
     ]
    },
    {
     "data": {
      "text/plain": [
       "count    1490.000000\n",
       "mean      802.085235\n",
       "std       403.246954\n",
       "min       103.000000\n",
       "25%       468.250000\n",
       "50%       798.000000\n",
       "75%      1157.000000\n",
       "max      1499.000000\n",
       "Name: DailyRate, dtype: float64"
      ]
     },
     "metadata": {},
     "output_type": "display_data"
    },
    {
     "name": "stdout",
     "output_type": "stream",
     "text": [
      "\n",
      "Count of null values:\n"
     ]
    },
    {
     "data": {
      "text/plain": [
       "np.int64(124)"
      ]
     },
     "metadata": {},
     "output_type": "display_data"
    },
    {
     "name": "stdout",
     "output_type": "stream",
     "text": [
      "\n",
      "Count of unique values:\n"
     ]
    },
    {
     "data": {
      "text/plain": [
       "848"
      ]
     },
     "metadata": {},
     "output_type": "display_data"
    },
    {
     "name": "stdout",
     "output_type": "stream",
     "text": [
      "\n",
      "Unique values:\n"
     ]
    },
    {
     "data": {
      "text/plain": [
       "array([ 684.,  699.,  532.,  359., 1319.,  117., 1435.,  635., 1276.,\n",
       "        840.,  247., 1369.,  201., 1360.,  692., 1398.,  286., 1402.,\n",
       "        819.,  884., 1238.,  515., 1223.,  202.,  928.,  607.,  266.,\n",
       "        429.,  589.,   nan, 1180., 1282.,  776.,  665.,  526., 1034.,\n",
       "       1403., 1499.,  580.,  859.,  263., 1376.,  885., 1003., 1321.,\n",
       "        394., 1372., 1333.,  228.,  737.,  823.,  667.,  301.,  573.,\n",
       "       1329.,  630., 1063., 1017., 1296.,  939., 1355., 1448.,  200.,\n",
       "       1202.,  404.,  208.,  813.,  465., 1189., 1001., 1394.,  161.,\n",
       "        288.,  682., 1354.,  147.,  119., 1413.,  452.,  334., 1132.,\n",
       "        982.,  480., 1099.,  672., 1379.,  583., 1492., 1050.,  469.,\n",
       "        237., 1440., 1291., 1157., 1336., 1224.,  735., 1389.,  638.,\n",
       "       1240.,  194., 1339.,  111., 1469.,  470., 1232., 1249.,  798.,\n",
       "        549.,  570.,  541.,  164., 1117.,  619.,  319.,  956., 1245.,\n",
       "       1397.,  527.,  213.,  882.,  330.,  406.,  217.,  481.,  669.,\n",
       "       1465.,  685., 1062.,  177., 1199.,  648.,  412.,  282.,  770.,\n",
       "        601.,  855.,  332., 1326.,  748.,  405.,  790.,  971., 1370.,\n",
       "        750.,  880.,  678., 1179.,  350., 1266.,  574.,  189.,  310.,\n",
       "        722., 1219.,  994.,  721.,  853.,  427.,  852., 1334., 1093.,\n",
       "        967.,  989., 1195., 1045.,  829.,  663., 1300., 1105.,  906.,\n",
       "        849., 1275., 1218.,  422., 1274., 1076., 1207.,  430.,  933.,\n",
       "       1184.,  586.,  890.,  379., 1425., 1188.,  938., 1053.,  248.,\n",
       "        796.,  174.,  408.,  977.,  536.,  135., 1476.,  587.,  495.,\n",
       "        523.,  507., 1055., 1445.,  218.,  447., 1029.,  674.,  538.,\n",
       "        740., 1234.,  170., 1130.,  584.,  918.,  792.,  611., 1383.,\n",
       "        867.,  706.,  728.,  311.,  556.,  937., 1125.,  444.,  911.,\n",
       "        585., 1392., 1005., 1299.,  655.,  746.,  632.,  658., 1467.,\n",
       "       1312.,  249.,  802.,  689., 1395., 1436., 1496., 1480.,  313.,\n",
       "        894.,  290., 1084., 1002., 1242., 1052.,  944.,  771., 1416.,\n",
       "       1327.,  488., 1385.,  666., 1315.,  442.,  950.,  691., 1018.,\n",
       "        559.,  318.,  144., 1171.,  143., 1178., 1107.,  645., 1485.,\n",
       "       1116.,  163.,  561.,  426.,  509.,  258.,  525.,  238.,  482.,\n",
       "        397.,  243.,  806., 1442.,  929.,  827.,  703.,  294.,  314.,\n",
       "        654.,  501.,  954., 1434.,  657.,  240.,  791.,  676.,  436.,\n",
       "        760.,  661., 1085.,  154., 1283.,  616.,  498.,  530.,  805.,\n",
       "        903., 1229.,  566., 1441.,  153., 1066.,  145., 1109.,  124.,\n",
       "        300., 1366.,  857., 1204., 1082.,  203., 1308.,  718.,  593.,\n",
       "       1384., 1361., 1146., 1316.,  363., 1103.,  920.,  694., 1429.,\n",
       "        531.,  621.,  604.,  325., 1030.,  524.,  943., 1009.,  817.,\n",
       "        930., 1147.,  652.,  337., 1136.,  326.,  377., 1038., 1490.,\n",
       "       1246.,  224.,  441.,  898., 1313., 1015., 1387., 1302.,  602.,\n",
       "        772.,  809.,  786.,  921.,  717.,  979.,  953.,  244.,  196.,\n",
       "        303., 1092.,  261., 1422., 1137.,  511., 1396., 1096., 1169.,\n",
       "       1239.,  157.,  754., 1303.,  697.,  116.,  557.,  582.,  704.,\n",
       "        613.,  419.,  477., 1211.,  505.,  269.,  553., 1277.,  302.,\n",
       "        975., 1318.,  881.,  466.,  945.,  433.,  991., 1083.,  136.,\n",
       "        333., 1462., 1131., 1023., 1065., 1115., 1479.,  304., 1368.,\n",
       "        828.,  799.,  142.,  446.,  254., 1410.,  883.,  121., 1343.,\n",
       "        490., 1400., 1332., 1200., 1102., 1328.,  548., 1214.,  120.,\n",
       "        841., 1033., 1452., 1268.,  307.,  797.,  555., 1377.,  210.,\n",
       "        483.,  575., 1311.,  759.,  891.,  317.,  688.,  195.,  622.,\n",
       "        646.,  719., 1012., 1278., 1222., 1231.,  462.,  231., 1089.,\n",
       "       1262.,  439.,  528.,  647., 1097.,  942.,  966.,  168.,  299.,\n",
       "        999., 1498., 1439., 1111., 1174.,  172.,  401.,  866.,  571.,\n",
       "       1342.,  995.,  118.,  990.,  241., 1470.,  492., 1040., 1320.,\n",
       "        146., 1153.,  185., 1297., 1064., 1351.,  468., 1273., 1141.,\n",
       "       1488.,  653., 1225., 1217., 1127., 1427.,  702.,  926.,  878.,\n",
       "        896., 1401.,  675., 1070.,  496.,  390., 1220., 1124., 1046.,\n",
       "        267.,  443., 1287., 1420.,  562.,  650.,  141.,  715.,  376.,\n",
       "        932.,  471.,  180., 1265., 1075., 1086.,  152.,  974.,  788.,\n",
       "        192.,  150., 1167.,  206.,  736.,  322.,  683., 1475.,  560.,\n",
       "        115.,  888.,  671.,  567.,  148.,  581.,  371., 1181., 1253.,\n",
       "        370., 1194.,  572.,  355.,  783.,  155.,  508.,  642., 1382.,\n",
       "       1037., 1120.,  374.,  287.,  591.,  670., 1346.,  103.,  673.,\n",
       "        705., 1459., 1443., 1142.,  664.,  432., 1353.,  489.,  807.,\n",
       "       1280.,  957.,  542.,  216., 1150.,  364., 1256.,  440.,  713.,\n",
       "        140.,  629.,  328.,  472.,  905., 1151.,  644.,  992., 1323.,\n",
       "        818., 1431.,  976.,  832.,  916., 1247.,  128., 1158.,  996.,\n",
       "       1449.,  636.,  889.,  106.,  723., 1482.,  738., 1192., 1309.,\n",
       "        544.,  641.,  756.,  895., 1261.,  329., 1362., 1371.,  821.,\n",
       "       1381., 1473.,  296., 1349.,  986.,  413.,  988., 1474.,  232.,\n",
       "       1236., 1112.,  204.,  913.,  810.,  693.,  316.,  381.,  775.,\n",
       "        804., 1090.,  346.,  725.,  182.,  384., 1325., 1258., 1041.,\n",
       "        625., 1418., 1269.,  395.,  341.,  500., 1454.,  617., 1122.,\n",
       "       1198.,  188.,  335.,  461., 1134.,  138., 1206.,  109.,  277.,\n",
       "        265.,  342., 1186.,  769., 1176., 1091.,  618.,  970.,  984.,\n",
       "        793., 1182.,  603.,  874.,  367.,  199., 1457., 1421., 1450.,\n",
       "       1212., 1010.,  131.,  193.,  640.,  848., 1138.,  256.,  935.,\n",
       "        458.,  662.,  499.,  949.,  383., 1255., 1221.,  981., 1495.,\n",
       "       1193.,  467.,  271.,  410., 1288., 1108.,  437.,  457.,  634.,\n",
       "        546.,  711.,  448.,  365.,  763.,  486.,  392.,  727.,  741.,\n",
       "        552.,  506., 1456.,  160.,  897.,  600., 1054.,  428.,  343.,\n",
       "       1216.,  207.,  280.,  414.,  836.,  592.,  219., 1079., 1251.,\n",
       "       1168., 1444., 1154.,  234.,  529., 1322.,  924.,  134.,  755.,\n",
       "        253.,  922., 1365.,  306., 1271., 1404., 1391., 1464., 1330.,\n",
       "        773.,  902.,  107.,  504., 1358.,  824.,  594.,  734.,  766.,\n",
       "        431., 1213., 1373., 1324., 1123.,  391.,  125., 1357.,  626.,\n",
       "        132.,  871., 1031., 1145.,  854., 1411.,  252.,  833., 1210.,\n",
       "       1463.,  812., 1162.,  845., 1144.,  156.,  464., 1305.,  983.,\n",
       "        534., 1306., 1094.,  558.,  959.,  782.,  362.,  268.,  167.,\n",
       "       1243.,  720.,  868., 1252.,  781., 1272.,  129., 1069.,  289.,\n",
       "        955.,  660.,  415.,  309.,  130.,  862., 1098.,  969.,  373.,\n",
       "        599.,  968.,  830., 1423.,  516.,  598.,  104.,  479.,  474.,\n",
       "        264., 1059.,  563., 1259.,  369.,  543.,  964.,  176.,  181.,\n",
       "        211.,  590.,  305.,  478., 1294., 1128.,  726.,  352., 1172.,\n",
       "        605., 1337.,  105.])"
      ]
     },
     "metadata": {},
     "output_type": "display_data"
    },
    {
     "name": "stdout",
     "output_type": "stream",
     "text": [
      "\n",
      "Value Counts:\n"
     ]
    },
    {
     "data": {
      "text/plain": [
       "DailyRate\n",
       "329.0     7\n",
       "691.0     7\n",
       "147.0     6\n",
       "530.0     6\n",
       "408.0     6\n",
       "         ..\n",
       "181.0     1\n",
       "176.0     1\n",
       "964.0     1\n",
       "1360.0    1\n",
       "1369.0    1\n",
       "Name: count, Length: 848, dtype: int64"
      ]
     },
     "metadata": {},
     "output_type": "display_data"
    },
    {
     "name": "stdout",
     "output_type": "stream",
     "text": [
      "\n",
      "Most frequent value (mode):\n"
     ]
    },
    {
     "data": {
      "text/plain": [
       "np.float64(329.0)"
      ]
     },
     "metadata": {},
     "output_type": "display_data"
    },
    {
     "name": "stdout",
     "output_type": "stream",
     "text": [
      "\n",
      "Count of duplicates in the column:\n"
     ]
    },
    {
     "data": {
      "text/plain": [
       "np.int64(765)"
      ]
     },
     "metadata": {},
     "output_type": "display_data"
    }
   ],
   "source": [
    "autoEda = AutoEDA()\n",
    "df = autoEda.read_file(\"hr_raw_data_limpio_.csv\")\n",
    "autoEda.explo_df(df, \"DailyRate\")"
   ]
  },
  {
   "cell_type": "code",
   "execution_count": 46,
   "metadata": {},
   "outputs": [
    {
     "name": "stdout",
     "output_type": "stream",
     "text": [
      "\n",
      "Exploration of the column: HourlyRate\n",
      "\n",
      "Statistical description (numeric):\n"
     ]
    },
    {
     "data": {
      "text/plain": [
       "count    1530.000000\n",
       "mean       66.028105\n",
       "std        20.185954\n",
       "min        30.000000\n",
       "25%        48.000000\n",
       "50%        66.000000\n",
       "75%        84.000000\n",
       "max       100.000000\n",
       "Name: HourlyRate, dtype: float64"
      ]
     },
     "metadata": {},
     "output_type": "display_data"
    },
    {
     "name": "stdout",
     "output_type": "stream",
     "text": [
      "\n",
      "Count of null values:\n"
     ]
    },
    {
     "data": {
      "text/plain": [
       "np.int64(84)"
      ]
     },
     "metadata": {},
     "output_type": "display_data"
    },
    {
     "name": "stdout",
     "output_type": "stream",
     "text": [
      "\n",
      "Count of unique values:\n"
     ]
    },
    {
     "data": {
      "text/plain": [
       "71"
      ]
     },
     "metadata": {},
     "output_type": "display_data"
    },
    {
     "name": "stdout",
     "output_type": "stream",
     "text": [
      "\n",
      "Unique values:\n"
     ]
    },
    {
     "data": {
      "text/plain": [
       "array([ 51.,  65.,  58.,  82.,  45.,  99.,  91.,  64.,  55.,  68.,  49.,\n",
       "        61.,  79.,  31.,  69.,  48.,  80.,  74.,  98.,  59.,  33.,  56.,\n",
       "        66.,  57.,  53.,  87.,  81.,  84.,  32.,  41.,  92.,  47.,  nan,\n",
       "        43.,  86.,  30.,  42.,  88.,  96.,  67.,  62.,  72.,  78.,  89.,\n",
       "        52.,  50.,  90.,  37.,  94.,  76.,  60.,  46.,  83., 100.,  40.,\n",
       "        97.,  54.,  75.,  39.,  85.,  63.,  44.,  93.,  36.,  35.,  73.,\n",
       "        71.,  70.,  38.,  77.,  95.,  34.])"
      ]
     },
     "metadata": {},
     "output_type": "display_data"
    },
    {
     "name": "stdout",
     "output_type": "stream",
     "text": [
      "\n",
      "Value Counts:\n"
     ]
    },
    {
     "data": {
      "text/plain": [
       "HourlyRate\n",
       "42.0    33\n",
       "66.0    32\n",
       "48.0    30\n",
       "57.0    29\n",
       "84.0    29\n",
       "        ..\n",
       "50.0    15\n",
       "53.0    13\n",
       "68.0    13\n",
       "38.0    12\n",
       "34.0    11\n",
       "Name: count, Length: 71, dtype: int64"
      ]
     },
     "metadata": {},
     "output_type": "display_data"
    },
    {
     "name": "stdout",
     "output_type": "stream",
     "text": [
      "\n",
      "Most frequent value (mode):\n"
     ]
    },
    {
     "data": {
      "text/plain": [
       "np.float64(42.0)"
      ]
     },
     "metadata": {},
     "output_type": "display_data"
    },
    {
     "name": "stdout",
     "output_type": "stream",
     "text": [
      "\n",
      "Count of duplicates in the column:\n"
     ]
    },
    {
     "data": {
      "text/plain": [
       "np.int64(1542)"
      ]
     },
     "metadata": {},
     "output_type": "display_data"
    }
   ],
   "source": [
    "autoEda = AutoEDA()\n",
    "df = autoEda.read_file(\"hr_raw_data_limpio_.csv\")\n",
    "autoEda.explo_df(df, \"HourlyRate\")"
   ]
  }
 ],
 "metadata": {
  "kernelspec": {
   "display_name": "base",
   "language": "python",
   "name": "python3"
  },
  "language_info": {
   "codemirror_mode": {
    "name": "ipython",
    "version": 3
   },
   "file_extension": ".py",
   "mimetype": "text/x-python",
   "name": "python",
   "nbconvert_exporter": "python",
   "pygments_lexer": "ipython3",
   "version": "3.9.19"
  }
 },
 "nbformat": 4,
 "nbformat_minor": 2
}
